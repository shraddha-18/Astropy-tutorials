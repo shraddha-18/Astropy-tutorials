{
  "nbformat": 4,
  "nbformat_minor": 0,
  "metadata": {
    "colab": {
      "name": "astropy day 1 Coordinates.ipynb",
      "provenance": [],
      "authorship_tag": "ABX9TyNNXnPfmgLcN27rI3uhpDvB",
      "include_colab_link": true
    },
    "kernelspec": {
      "name": "python3",
      "display_name": "Python 3"
    },
    "language_info": {
      "name": "python"
    }
  },
  "cells": [
    {
      "cell_type": "markdown",
      "metadata": {
        "id": "view-in-github",
        "colab_type": "text"
      },
      "source": [
        "<a href=\"https://colab.research.google.com/github/shraddha-18/Astropy-tutorials/blob/main/astropy_day_1_Coordinates.ipynb\" target=\"_parent\"><img src=\"https://colab.research.google.com/assets/colab-badge.svg\" alt=\"Open In Colab\"/></a>"
      ]
    },
    {
      "cell_type": "code",
      "execution_count": 1,
      "metadata": {
        "colab": {
          "base_uri": "https://localhost:8080/"
        },
        "id": "fBh18-ycrddd",
        "outputId": "1aba34db-0449-4ae4-fb48-60c727068c0b"
      },
      "outputs": [
        {
          "output_type": "stream",
          "name": "stdout",
          "text": [
            "Looking in indexes: https://pypi.org/simple, https://us-python.pkg.dev/colab-wheels/public/simple/\n",
            "Requirement already satisfied: astropy in /usr/local/lib/python3.7/dist-packages (4.3.1)\n",
            "Requirement already satisfied: numpy>=1.17 in /usr/local/lib/python3.7/dist-packages (from astropy) (1.21.6)\n",
            "Requirement already satisfied: pyerfa>=1.7.3 in /usr/local/lib/python3.7/dist-packages (from astropy) (2.0.0.1)\n",
            "Requirement already satisfied: importlib-metadata in /usr/local/lib/python3.7/dist-packages (from astropy) (4.11.4)\n",
            "Requirement already satisfied: typing-extensions>=3.6.4 in /usr/local/lib/python3.7/dist-packages (from importlib-metadata->astropy) (4.1.1)\n",
            "Requirement already satisfied: zipp>=0.5 in /usr/local/lib/python3.7/dist-packages (from importlib-metadata->astropy) (3.8.0)\n"
          ]
        }
      ],
      "source": [
        "pip install astropy"
      ]
    },
    {
      "cell_type": "code",
      "source": [
        "pip install astroquery"
      ],
      "metadata": {
        "colab": {
          "base_uri": "https://localhost:8080/"
        },
        "id": "9tPj4Graxte1",
        "outputId": "56cd5997-ffb6-41fd-d355-f6c1672a77c0"
      },
      "execution_count": 2,
      "outputs": [
        {
          "output_type": "stream",
          "name": "stdout",
          "text": [
            "Looking in indexes: https://pypi.org/simple, https://us-python.pkg.dev/colab-wheels/public/simple/\n",
            "Requirement already satisfied: astroquery in /usr/local/lib/python3.7/dist-packages (0.4.6)\n",
            "Requirement already satisfied: keyring>=4.0 in /usr/local/lib/python3.7/dist-packages (from astroquery) (23.6.0)\n",
            "Requirement already satisfied: html5lib>=0.999 in /usr/local/lib/python3.7/dist-packages (from astroquery) (1.0.1)\n",
            "Requirement already satisfied: astropy>=4.0 in /usr/local/lib/python3.7/dist-packages (from astroquery) (4.3.1)\n",
            "Requirement already satisfied: beautifulsoup4>=4.3.2 in /usr/local/lib/python3.7/dist-packages (from astroquery) (4.6.3)\n",
            "Requirement already satisfied: requests>=2.4.3 in /usr/local/lib/python3.7/dist-packages (from astroquery) (2.23.0)\n",
            "Requirement already satisfied: pyvo>=1.1 in /usr/local/lib/python3.7/dist-packages (from astroquery) (1.2.1)\n",
            "Requirement already satisfied: numpy>=1.16 in /usr/local/lib/python3.7/dist-packages (from astroquery) (1.21.6)\n",
            "Requirement already satisfied: importlib-metadata in /usr/local/lib/python3.7/dist-packages (from astropy>=4.0->astroquery) (4.11.4)\n",
            "Requirement already satisfied: pyerfa>=1.7.3 in /usr/local/lib/python3.7/dist-packages (from astropy>=4.0->astroquery) (2.0.0.1)\n",
            "Requirement already satisfied: six>=1.9 in /usr/local/lib/python3.7/dist-packages (from html5lib>=0.999->astroquery) (1.15.0)\n",
            "Requirement already satisfied: webencodings in /usr/local/lib/python3.7/dist-packages (from html5lib>=0.999->astroquery) (0.5.1)\n",
            "Requirement already satisfied: jeepney>=0.4.2 in /usr/local/lib/python3.7/dist-packages (from keyring>=4.0->astroquery) (0.8.0)\n",
            "Requirement already satisfied: SecretStorage>=3.2 in /usr/local/lib/python3.7/dist-packages (from keyring>=4.0->astroquery) (3.3.2)\n",
            "Requirement already satisfied: typing-extensions>=3.6.4 in /usr/local/lib/python3.7/dist-packages (from importlib-metadata->astropy>=4.0->astroquery) (4.1.1)\n",
            "Requirement already satisfied: zipp>=0.5 in /usr/local/lib/python3.7/dist-packages (from importlib-metadata->astropy>=4.0->astroquery) (3.8.0)\n",
            "Requirement already satisfied: urllib3!=1.25.0,!=1.25.1,<1.26,>=1.21.1 in /usr/local/lib/python3.7/dist-packages (from requests>=2.4.3->astroquery) (1.24.3)\n",
            "Requirement already satisfied: idna<3,>=2.5 in /usr/local/lib/python3.7/dist-packages (from requests>=2.4.3->astroquery) (2.10)\n",
            "Requirement already satisfied: certifi>=2017.4.17 in /usr/local/lib/python3.7/dist-packages (from requests>=2.4.3->astroquery) (2022.6.15)\n",
            "Requirement already satisfied: chardet<4,>=3.0.2 in /usr/local/lib/python3.7/dist-packages (from requests>=2.4.3->astroquery) (3.0.4)\n",
            "Requirement already satisfied: cryptography>=2.0 in /usr/local/lib/python3.7/dist-packages (from SecretStorage>=3.2->keyring>=4.0->astroquery) (37.0.2)\n",
            "Requirement already satisfied: cffi>=1.12 in /usr/local/lib/python3.7/dist-packages (from cryptography>=2.0->SecretStorage>=3.2->keyring>=4.0->astroquery) (1.15.0)\n",
            "Requirement already satisfied: pycparser in /usr/local/lib/python3.7/dist-packages (from cffi>=1.12->cryptography>=2.0->SecretStorage>=3.2->keyring>=4.0->astroquery) (2.21)\n"
          ]
        }
      ]
    },
    {
      "cell_type": "code",
      "source": [
        "import matplotlib.pyplot as plt\n",
        "import numpy as np\n",
        "import astropy"
      ],
      "metadata": {
        "id": "BvnQhlkHr1RV"
      },
      "execution_count": 3,
      "outputs": []
    },
    {
      "cell_type": "code",
      "source": [
        "from astropy import units as u\n",
        "from astropy.coordinates import SkyCoord, Distance\n",
        "from astropy.io import fits\n",
        "from astropy.table import QTable\n",
        "from astropy.utils.data import download_file\n",
        "\n",
        "# from astroquery.gaia import Gaia\n",
        "from astroquery.gaia import Gaia\n",
        "\n",
        "Gaia.ROW_LIMIT = 10000  #set the row limit for returned data"
      ],
      "metadata": {
        "id": "AMyc2rV3wVka"
      },
      "execution_count": 4,
      "outputs": []
    },
    {
      "cell_type": "markdown",
      "source": [
        "n Astropy, the most common way of representing and working with sky coordinates is to use the SkyCoord object (docs). A SkyCoord can be created directly from angles or arrays of angles with associated units, as demonstrated below.\n",
        "\n",
        "To get started, let's assume that we want to create a SkyCoord object for the center of the open star cluster NGC 188 so that later we can query and retrieve stars that might be members of the cluster. Let's also assume, for now, that we already know the sky coordinates of the cluster to be (12.11, 85.26) degrees in the ICRS coordinate frame. The ICRS — sometimes referred to as \"equatorial\" or \"J2000\" coordinates (more info about the ICRS) — is currently the most common astronomical coordinate frame for stellar or extragalactic astronomy, and is the default coordinate frame for SkyCoord. Since we already know the ICRS position of NGC 188 (see above), we can create a SkyCoord object for the cluster by passing the data in to the SkyCoord initializer:"
      ],
      "metadata": {
        "id": "25XU9cK4w-B9"
      }
    },
    {
      "cell_type": "code",
      "source": [
        "ngc188_center = SkyCoord(12.11*u.deg, 85.26*u.deg, frame = 'icrs')\n",
        "ngc188_center"
      ],
      "metadata": {
        "colab": {
          "base_uri": "https://localhost:8080/"
        },
        "id": "U6Il6iL9y9dd",
        "outputId": "d8cd71d2-f374-45e1-b32a-6b85dea2d339"
      },
      "execution_count": 5,
      "outputs": [
        {
          "output_type": "execute_result",
          "data": {
            "text/plain": [
              "<SkyCoord (ICRS): (ra, dec) in deg\n",
              "    (12.11, 85.26)>"
            ]
          },
          "metadata": {},
          "execution_count": 5
        }
      ]
    },
    {
      "cell_type": "markdown",
      "source": [
        "In the above initializations, we passed in astropy.units.Quantity objects with angular units to specify the angular components of our sky coordinates. The SkyCoord initializer will also accept string-formatted coordinates either as separate strings for Right Ascension (RA) and Declination (Dec) or a single string. For example, if we have sexagesimal sky coordinate data: In this case, the representation of the data includes specifications of the units (the \"hms\" for \"hour minute second\", and the \"dms\" for \"degrees minute second\""
      ],
      "metadata": {
        "id": "kCYBQ0atzVjM"
      }
    },
    {
      "cell_type": "code",
      "source": [
        "ngc188_center.ra\n"
      ],
      "metadata": {
        "colab": {
          "base_uri": "https://localhost:8080/",
          "height": 37
        },
        "id": "eHVjMmM2zvoY",
        "outputId": "62d0ad01-6152-4ea1-bbf8-7179354ca158"
      },
      "execution_count": 6,
      "outputs": [
        {
          "output_type": "execute_result",
          "data": {
            "text/plain": [
              "<Longitude 12.11 deg>"
            ],
            "text/latex": "$12^\\circ06{}^\\prime36{}^{\\prime\\prime}$"
          },
          "metadata": {},
          "execution_count": 6
        }
      ]
    },
    {
      "cell_type": "code",
      "source": [
        "ngc188_center.dec"
      ],
      "metadata": {
        "id": "0uO8FOHY0TSl",
        "colab": {
          "base_uri": "https://localhost:8080/",
          "height": 37
        },
        "outputId": "58728cc9-e338-4f2f-b44b-7cc88ed22ed3"
      },
      "execution_count": 7,
      "outputs": [
        {
          "output_type": "execute_result",
          "data": {
            "text/plain": [
              "<Latitude 85.26 deg>"
            ],
            "text/latex": "$85^\\circ15{}^\\prime36{}^{\\prime\\prime}$"
          },
          "metadata": {},
          "execution_count": 7
        }
      ]
    },
    {
      "cell_type": "code",
      "source": [
        "SkyCoord('00h48m26.4s', '85d15m36s', frame = 'icrs')"
      ],
      "metadata": {
        "colab": {
          "base_uri": "https://localhost:8080/"
        },
        "id": "rMoqaOYyrmej",
        "outputId": "d5c8e5ca-7ec0-4b44-b822-dc05b995c26b"
      },
      "execution_count": 8,
      "outputs": [
        {
          "output_type": "execute_result",
          "data": {
            "text/plain": [
              "<SkyCoord (ICRS): (ra, dec) in deg\n",
              "    (12.11, 85.26)>"
            ]
          },
          "metadata": {},
          "execution_count": 8
        }
      ]
    },
    {
      "cell_type": "markdown",
      "source": [
        "Some string representations do not explicitly define units, so it is sometimes necessary to specify the units of the string coordinate data explicitly if they are not implicitly included:"
      ],
      "metadata": {
        "id": "sVHhXw5csB1V"
      }
    },
    {
      "cell_type": "code",
      "source": [
        "SkyCoord('00:48:26.4 85:15:36', unit = (u.hour, u.deg), frame = 'icrs')"
      ],
      "metadata": {
        "colab": {
          "base_uri": "https://localhost:8080/"
        },
        "id": "AZTq4d_lsVyJ",
        "outputId": "3711b8cc-c1ce-496c-b4a8-792978999b98"
      },
      "execution_count": 9,
      "outputs": [
        {
          "output_type": "execute_result",
          "data": {
            "text/plain": [
              "<SkyCoord (ICRS): (ra, dec) in deg\n",
              "    (12.11, 85.26)>"
            ]
          },
          "metadata": {},
          "execution_count": 9
        }
      ]
    },
    {
      "cell_type": "markdown",
      "source": [
        "For the SkyCoord initializations demonstrated above, we assumed that we already had the coordinate component values ready. If you do not know the coordinate values and the object you are interested in is in SESAME, you can also automatically look up and load coordinate values from the name of the object using the SkyCoord.from_name() class method1 (docs). Note, however, that this requires an internet connection. It is safe to skip this cell if you are not connected to the internet because we already defined the object ngc188_center in the cells above."
      ],
      "metadata": {
        "id": "bZH6fpYRswZV"
      }
    },
    {
      "cell_type": "code",
      "source": [
        "ngc188_center = SkyCoord.from_name(' NGC 188')"
      ],
      "metadata": {
        "id": "Wn1-4vRxtLRt"
      },
      "execution_count": 10,
      "outputs": []
    },
    {
      "cell_type": "code",
      "source": [
        "ngc188_center"
      ],
      "metadata": {
        "colab": {
          "base_uri": "https://localhost:8080/"
        },
        "id": "PWJgptUBthvN",
        "outputId": "38d4c4eb-7bb4-48da-8b9c-201172ea8e27"
      },
      "execution_count": 11,
      "outputs": [
        {
          "output_type": "execute_result",
          "data": {
            "text/plain": [
              "<SkyCoord (ICRS): (ra, dec) in deg\n",
              "    (11.798, 85.244)>"
            ]
          },
          "metadata": {},
          "execution_count": 11
        }
      ]
    },
    {
      "cell_type": "markdown",
      "source": [
        "The SkyCoord object that we defined now has various ways of accessing the coordinate information contained within it. All SkyCoord objects have attributes that allow you to retrieve the coordinate component data, but the component names will change depending on the coordinate frame of the SkyCoord you have. In our examples we have created a SkyCoord in the ICRS frame, so the component names are lower-case abbreviations of Right Ascension, .ra, and Declination, .dec:"
      ],
      "metadata": {
        "id": "zdnP7c3vtp93"
      }
    },
    {
      "cell_type": "code",
      "source": [
        "ngc188_center.ra, ngc188_center.dec"
      ],
      "metadata": {
        "colab": {
          "base_uri": "https://localhost:8080/"
        },
        "id": "FHcfNZAHt7mE",
        "outputId": "15c841bf-08e8-42fd-99c5-c91be76936c3"
      },
      "execution_count": 12,
      "outputs": [
        {
          "output_type": "execute_result",
          "data": {
            "text/plain": [
              "(<Longitude 11.798 deg>, <Latitude 85.244 deg>)"
            ]
          },
          "metadata": {},
          "execution_count": 12
        }
      ]
    },
    {
      "cell_type": "markdown",
      "source": [
        "The SkyCoord component attributes (here ra and dec) return specialized Quantity-like objects that make working with angular data easier. While Quantity (docs) is a general class that represents numerical values and physical units of any kind, astropy.coordinates defines subclasses of Quantity that are specifically designed for working with angles, such as the Angle (docs) class. The Angle class then has additional, more specialized subclasses Latitude (docs) and Longitude (docs). These objects store angles, provide useful attributes to quickly convert to common angular units, and enable formatting the numerical values in various formats. For example, in a Jupyter notebook, these objects know how to represent themselves using LaTeX:"
      ],
      "metadata": {
        "id": "7edZWWrQuBAZ"
      }
    },
    {
      "cell_type": "code",
      "source": [
        "ngc188_center.ra"
      ],
      "metadata": {
        "colab": {
          "base_uri": "https://localhost:8080/",
          "height": 37
        },
        "id": "Ac__hf9lu8k8",
        "outputId": "2d9b94b8-8e0d-47e2-87de-fcea03742ffd"
      },
      "execution_count": 13,
      "outputs": [
        {
          "output_type": "execute_result",
          "data": {
            "text/plain": [
              "<Longitude 11.798 deg>"
            ],
            "text/latex": "$11^\\circ47{}^\\prime52.8{}^{\\prime\\prime}$"
          },
          "metadata": {},
          "execution_count": 13
        }
      ]
    },
    {
      "cell_type": "code",
      "source": [
        "ngc188_center.dec"
      ],
      "metadata": {
        "colab": {
          "base_uri": "https://localhost:8080/",
          "height": 37
        },
        "id": "nS8KEltZvAg5",
        "outputId": "6fcd372d-be1d-459a-8007-931fad812843"
      },
      "execution_count": 14,
      "outputs": [
        {
          "output_type": "execute_result",
          "data": {
            "text/plain": [
              "<Latitude 85.244 deg>"
            ],
            "text/latex": "$85^\\circ14{}^\\prime38.4{}^{\\prime\\prime}$"
          },
          "metadata": {},
          "execution_count": 14
        }
      ]
    },
    {
      "cell_type": "code",
      "source": [
        "type(ngc188_center.ra), type(ngc188_center.dec)"
      ],
      "metadata": {
        "colab": {
          "base_uri": "https://localhost:8080/"
        },
        "id": "Q4q4O0xcvDnS",
        "outputId": "7251e6ef-5120-4c01-b4cd-16f515017ee4"
      },
      "execution_count": 15,
      "outputs": [
        {
          "output_type": "execute_result",
          "data": {
            "text/plain": [
              "(astropy.coordinates.angles.Longitude, astropy.coordinates.angles.Latitude)"
            ]
          },
          "metadata": {},
          "execution_count": 15
        }
      ]
    },
    {
      "cell_type": "markdown",
      "source": [
        "With these objects, we can retrieve the coordinate components in different units using the Quantity.to() method:"
      ],
      "metadata": {
        "id": "Zr30pxR3vJmE"
      }
    },
    {
      "cell_type": "code",
      "source": [
        "ngc188_center.ra.to(u.hourangle)"
      ],
      "metadata": {
        "colab": {
          "base_uri": "https://localhost:8080/",
          "height": 37
        },
        "id": "pN0736sQwSxP",
        "outputId": "167e382a-f49a-44f8-f9f7-f3b014678639"
      },
      "execution_count": 16,
      "outputs": [
        {
          "output_type": "execute_result",
          "data": {
            "text/plain": [
              "<Longitude 0.78653333 hourangle>"
            ],
            "text/latex": "$0^{\\mathrm{h}}47^{\\mathrm{m}}11.52^{\\mathrm{s}}$"
          },
          "metadata": {},
          "execution_count": 16
        }
      ]
    },
    {
      "cell_type": "code",
      "source": [
        "ngc188_center.ra.to(u.hourangle), #see the difference due to additional comma at last"
      ],
      "metadata": {
        "colab": {
          "base_uri": "https://localhost:8080/"
        },
        "id": "-mpkT8txvQCt",
        "outputId": "4ad23638-8fb2-442e-a712-9b55ce3c8f35"
      },
      "execution_count": 17,
      "outputs": [
        {
          "output_type": "execute_result",
          "data": {
            "text/plain": [
              "(<Longitude 0.78653333 hourangle>,)"
            ]
          },
          "metadata": {},
          "execution_count": 17
        }
      ]
    },
    {
      "cell_type": "code",
      "source": [
        "ngc188_center.ra.to(u.radian)\n"
      ],
      "metadata": {
        "colab": {
          "base_uri": "https://localhost:8080/",
          "height": 37
        },
        "id": "3JyUAj1jvayS",
        "outputId": "a54ea27e-40ce-4ef5-8918-3eced3daaf6e"
      },
      "execution_count": 18,
      "outputs": [
        {
          "output_type": "execute_result",
          "data": {
            "text/plain": [
              "<Longitude 0.20591395 rad>"
            ],
            "text/latex": "$0.205914\\mathrm{rad}$"
          },
          "metadata": {},
          "execution_count": 18
        }
      ]
    },
    {
      "cell_type": "code",
      "source": [
        "ngc188_center.ra.to(u.radian), # see the difference due to additional comma at last"
      ],
      "metadata": {
        "colab": {
          "base_uri": "https://localhost:8080/"
        },
        "id": "0_xCcNALwAXY",
        "outputId": "8f2e7dc5-ac26-48fd-c1d3-b8f0e38ef177"
      },
      "execution_count": 19,
      "outputs": [
        {
          "output_type": "execute_result",
          "data": {
            "text/plain": [
              "(<Longitude 0.20591395 rad>,)"
            ]
          },
          "metadata": {},
          "execution_count": 19
        }
      ]
    },
    {
      "cell_type": "code",
      "source": [
        "ngc188_center.ra.to(u.degree)"
      ],
      "metadata": {
        "colab": {
          "base_uri": "https://localhost:8080/",
          "height": 37
        },
        "id": "6VszwFlpwhqu",
        "outputId": "483f7c46-e806-4b1d-e3f3-0e6ddeedc8c2"
      },
      "execution_count": 20,
      "outputs": [
        {
          "output_type": "execute_result",
          "data": {
            "text/plain": [
              "<Longitude 11.798 deg>"
            ],
            "text/latex": "$11^\\circ47{}^\\prime52.8{}^{\\prime\\prime}$"
          },
          "metadata": {},
          "execution_count": 20
        }
      ]
    },
    {
      "cell_type": "code",
      "source": [
        "ngc188_center.ra.to(u.degree), # see the difference due to additional comma at last"
      ],
      "metadata": {
        "colab": {
          "base_uri": "https://localhost:8080/"
        },
        "id": "wO8uO6AuwpRg",
        "outputId": "536619e0-da2b-47c8-9794-ceabf7a4bcc7"
      },
      "execution_count": 21,
      "outputs": [
        {
          "output_type": "execute_result",
          "data": {
            "text/plain": [
              "(<Longitude 11.798 deg>,)"
            ]
          },
          "metadata": {},
          "execution_count": 21
        }
      ]
    },
    {
      "cell_type": "code",
      "source": [
        "ngc188_center.ra.hour, ngc188_center.ra.radian, ngc188_center.ra.degree"
      ],
      "metadata": {
        "colab": {
          "base_uri": "https://localhost:8080/"
        },
        "id": "ND9YvL-vwxLm",
        "outputId": "e3cac1e6-30ed-4d25-dbc3-8c0e6b756cca"
      },
      "execution_count": 22,
      "outputs": [
        {
          "output_type": "execute_result",
          "data": {
            "text/plain": [
              "(0.7865333333333335, 0.205913945150291, 11.798)"
            ]
          },
          "metadata": {},
          "execution_count": 22
        }
      ]
    },
    {
      "cell_type": "markdown",
      "source": [
        "We can also format the values into strings with specified units (docs), for example:"
      ],
      "metadata": {
        "id": "2xp7Rxx6z7cz"
      }
    },
    {
      "cell_type": "code",
      "source": [
        "ngc188_center.ra.to_string( unit = u.hourangle, sep = ':', pad = True)"
      ],
      "metadata": {
        "colab": {
          "base_uri": "https://localhost:8080/",
          "height": 35
        },
        "id": "luwPtIxC0KJx",
        "outputId": "4cf55367-ba82-4ab7-fc39-e5f47f432c19"
      },
      "execution_count": 23,
      "outputs": [
        {
          "output_type": "execute_result",
          "data": {
            "text/plain": [
              "'00:47:11.52'"
            ],
            "application/vnd.google.colaboratory.intrinsic+json": {
              "type": "string"
            }
          },
          "metadata": {},
          "execution_count": 23
        }
      ]
    },
    {
      "cell_type": "markdown",
      "source": [
        "\n",
        "## Querying the Gaia Archive to Retrieve Coordinates of Stars in NGC 188\n",
        "\n",
        "\n"
      ],
      "metadata": {
        "id": "5bZT16xV0ZFB"
      }
    },
    {
      "cell_type": "markdown",
      "source": [
        "Now that we have a SkyCoord object for the center of NGC 188, we can use this object with the astroquery package to query many different astronomical databases (see a full list of available services in the astroquery documentation). Here, we will use the SkyCoord object ngc188_center to select sources from the Gaia Data Release 2 catalog around the position of the center of NGC 188 to look for stars that might be members of the star cluster. To do this, we will use the astroquery.gaia subpackage (docs).\n",
        "\n",
        "This requires an internet connection, but if it fails, the catalog file is included in the repository so you can load it locally (skip the next cell if you do not have an internet connection):"
      ],
      "metadata": {
        "id": "vnYUCMpU0pMK"
      }
    },
    {
      "cell_type": "code",
      "source": [
        "job = Gaia.cone_search_async( ngc188_center, radius = 0.5*u.deg)\n",
        "ngc188_table = job.get_results()"
      ],
      "metadata": {
        "colab": {
          "base_uri": "https://localhost:8080/"
        },
        "id": "MSroXLY-00iA",
        "outputId": "a28c15f2-5869-44e9-ce51-25512fda0af4"
      },
      "execution_count": 24,
      "outputs": [
        {
          "output_type": "stream",
          "name": "stdout",
          "text": [
            "INFO: Query finished. [astroquery.utils.tap.core]\n"
          ]
        }
      ]
    },
    {
      "cell_type": "code",
      "source": [
        "ngc188_table"
      ],
      "metadata": {
        "colab": {
          "base_uri": "https://localhost:8080/",
          "height": 1000
        },
        "id": "q2wClZdy2dKQ",
        "outputId": "fd31f421-7a4e-46f9-b58a-0494fb24c62b"
      },
      "execution_count": 25,
      "outputs": [
        {
          "output_type": "execute_result",
          "data": {
            "text/plain": [
              "<Table length=10000>\n",
              "    solution_id             DESIGNATION         ...          dist        \n",
              "                                                ...                      \n",
              "       int64                   object           ...        float64       \n",
              "------------------- --------------------------- ... ---------------------\n",
              "1635721458409799680 Gaia DR2 573941431864200576 ...  0.002694749156617476\n",
              "1635721458409799680 Gaia DR2 573941431864201600 ... 0.0027722948164158523\n",
              "1635721458409799680 Gaia DR2 573941431864197120 ...  0.003435658557906234\n",
              "1635721458409799680 Gaia DR2 573941431863101952 ...   0.00512061052599348\n",
              "1635721458409799680 Gaia DR2 573941431864196096 ...  0.005478941573946177\n",
              "1635721458409799680 Gaia DR2 573941328784984320 ... 0.0060894295398141104\n",
              "1635721458409799680 Gaia DR2 573941328784049664 ...  0.006476033779749049\n",
              "1635721458409799680 Gaia DR2 573941324487641600 ...  0.006487618524726231\n",
              "1635721458409799680 Gaia DR2 573941427566934400 ...  0.006925934497601974\n",
              "                ...                         ... ...                   ...\n",
              "1635721458409799680 Gaia DR2 573559038039720832 ...   0.49282039832001484\n",
              "1635721458409799680 Gaia DR2 573558836178845440 ...   0.49282297265803054\n",
              "1635721458409799680 Gaia DR2 573879236440367744 ...   0.49284314267027285\n",
              "1635721458409799680 Gaia DR2 573620511908142208 ...    0.4928496315574362\n",
              "1635721458409799680 Gaia DR2 573613811759863936 ...    0.4929004212146588\n",
              "1635721458409799680 Gaia DR2 573566150504528640 ...    0.4929781510017272\n",
              "1635721458409799680 Gaia DR2 573780971884891392 ...    0.4930441893676008\n",
              "1635721458409799680 Gaia DR2 573742793919410304 ...   0.49307171591580423\n",
              "1635721458409799680 Gaia DR2 573733314928693248 ...   0.49316613355822914\n",
              "1635721458409799680 Gaia DR2 573991390923973760 ...     0.493170678733885"
            ],
            "text/html": [
              "<div><i>Table length=10000</i>\n",
              "<table id=\"table139844702989648\" class=\"table-striped table-bordered table-condensed\">\n",
              "<thead><tr><th>solution_id</th><th>DESIGNATION</th><th>source_id</th><th>random_index</th><th>ref_epoch</th><th>ra</th><th>ra_error</th><th>dec</th><th>dec_error</th><th>parallax</th><th>parallax_error</th><th>parallax_over_error</th><th>pmra</th><th>pmra_error</th><th>pmdec</th><th>pmdec_error</th><th>ra_dec_corr</th><th>ra_parallax_corr</th><th>ra_pmra_corr</th><th>ra_pmdec_corr</th><th>dec_parallax_corr</th><th>dec_pmra_corr</th><th>dec_pmdec_corr</th><th>parallax_pmra_corr</th><th>parallax_pmdec_corr</th><th>pmra_pmdec_corr</th><th>astrometric_n_obs_al</th><th>astrometric_n_obs_ac</th><th>astrometric_n_good_obs_al</th><th>astrometric_n_bad_obs_al</th><th>astrometric_gof_al</th><th>astrometric_chi2_al</th><th>astrometric_excess_noise</th><th>astrometric_excess_noise_sig</th><th>astrometric_params_solved</th><th>astrometric_primary_flag</th><th>astrometric_weight_al</th><th>astrometric_pseudo_colour</th><th>astrometric_pseudo_colour_error</th><th>mean_varpi_factor_al</th><th>astrometric_matched_observations</th><th>visibility_periods_used</th><th>astrometric_sigma5d_max</th><th>frame_rotator_object_type</th><th>matched_observations</th><th>duplicated_source</th><th>phot_g_n_obs</th><th>phot_g_mean_flux</th><th>phot_g_mean_flux_error</th><th>phot_g_mean_flux_over_error</th><th>phot_g_mean_mag</th><th>phot_bp_n_obs</th><th>phot_bp_mean_flux</th><th>phot_bp_mean_flux_error</th><th>phot_bp_mean_flux_over_error</th><th>phot_bp_mean_mag</th><th>phot_rp_n_obs</th><th>phot_rp_mean_flux</th><th>phot_rp_mean_flux_error</th><th>phot_rp_mean_flux_over_error</th><th>phot_rp_mean_mag</th><th>phot_bp_rp_excess_factor</th><th>phot_proc_mode</th><th>bp_rp</th><th>bp_g</th><th>g_rp</th><th>radial_velocity</th><th>radial_velocity_error</th><th>rv_nb_transits</th><th>rv_template_teff</th><th>rv_template_logg</th><th>rv_template_fe_h</th><th>phot_variable_flag</th><th>l</th><th>b</th><th>ecl_lon</th><th>ecl_lat</th><th>priam_flags</th><th>teff_val</th><th>teff_percentile_lower</th><th>teff_percentile_upper</th><th>a_g_val</th><th>a_g_percentile_lower</th><th>a_g_percentile_upper</th><th>e_bp_min_rp_val</th><th>e_bp_min_rp_percentile_lower</th><th>e_bp_min_rp_percentile_upper</th><th>flame_flags</th><th>radius_val</th><th>radius_percentile_lower</th><th>radius_percentile_upper</th><th>lum_val</th><th>lum_percentile_lower</th><th>lum_percentile_upper</th><th>datalink_url</th><th>dist</th></tr></thead>\n",
              "<thead><tr><th></th><th></th><th></th><th></th><th>yr</th><th>deg</th><th>mas</th><th>deg</th><th>mas</th><th>mas</th><th>mas</th><th></th><th>mas / yr</th><th>mas / yr</th><th>mas / yr</th><th>mas / yr</th><th></th><th></th><th></th><th></th><th></th><th></th><th></th><th></th><th></th><th></th><th></th><th></th><th></th><th></th><th></th><th></th><th>mas</th><th></th><th></th><th></th><th>1 / mas2</th><th>1 / um</th><th>1 / um</th><th></th><th></th><th></th><th>mas</th><th></th><th></th><th></th><th></th><th>electron / s</th><th>electron / s</th><th></th><th>mag</th><th></th><th>electron / s</th><th>electron / s</th><th></th><th>mag</th><th></th><th>electron / s</th><th>electron / s</th><th></th><th>mag</th><th></th><th></th><th>mag</th><th>mag</th><th>mag</th><th>km / s</th><th>km / s</th><th></th><th>K</th><th>log(cm.s**-2)</th><th>dex</th><th></th><th>deg</th><th>deg</th><th>deg</th><th>deg</th><th></th><th>K</th><th>K</th><th>K</th><th>mag</th><th>mag</th><th>mag</th><th>mag</th><th>mag</th><th>mag</th><th></th><th>solRad</th><th>solRad</th><th>solRad</th><th>solLum</th><th>solLum</th><th>solLum</th><th></th><th></th></tr></thead>\n",
              "<thead><tr><th>int64</th><th>object</th><th>int64</th><th>int64</th><th>float64</th><th>float64</th><th>float64</th><th>float64</th><th>float64</th><th>float64</th><th>float64</th><th>float32</th><th>float64</th><th>float64</th><th>float64</th><th>float64</th><th>float32</th><th>float32</th><th>float32</th><th>float32</th><th>float32</th><th>float32</th><th>float32</th><th>float32</th><th>float32</th><th>float32</th><th>int32</th><th>int32</th><th>int32</th><th>int32</th><th>float32</th><th>float32</th><th>float64</th><th>float64</th><th>int16</th><th>bool</th><th>float32</th><th>float64</th><th>float64</th><th>float32</th><th>int16</th><th>int16</th><th>float32</th><th>int32</th><th>int16</th><th>bool</th><th>int32</th><th>float64</th><th>float64</th><th>float32</th><th>float32</th><th>int32</th><th>float64</th><th>float64</th><th>float32</th><th>float32</th><th>int32</th><th>float64</th><th>float64</th><th>float32</th><th>float32</th><th>float32</th><th>int16</th><th>float32</th><th>float32</th><th>float32</th><th>float64</th><th>float64</th><th>int32</th><th>float32</th><th>float32</th><th>float32</th><th>object</th><th>float64</th><th>float64</th><th>float64</th><th>float64</th><th>int64</th><th>float32</th><th>float32</th><th>float32</th><th>float32</th><th>float32</th><th>float32</th><th>float32</th><th>float32</th><th>float32</th><th>int64</th><th>float32</th><th>float32</th><th>float32</th><th>float32</th><th>float32</th><th>float32</th><th>object</th><th>float64</th></tr></thead>\n",
              "<tr><td>1635721458409799680</td><td>Gaia DR2 573941431864200576</td><td>573941431864200576</td><td>83123185</td><td>2015.5</td><td>11.830261815824414</td><td>0.0542902667793964</td><td>85.24362670022514</td><td>0.042072395333520175</td><td>0.5157883765292425</td><td>0.05479372380616342</td><td>9.413275</td><td>-2.467045722266196</td><td>0.10926752585727999</td><td>-1.050994537936408</td><td>0.07743635218193472</td><td>-0.1009901</td><td>0.1395926</td><td>-0.3704649</td><td>0.08886854</td><td>0.23210102</td><td>0.02040666</td><td>0.04040181</td><td>0.004346489</td><td>0.4120766</td><td>-0.14762878</td><td>218</td><td>0</td><td>218</td><td>0</td><td>-0.35325864</td><td>205.14085</td><td>0.0</td><td>0.0</td><td>31</td><td>False</td><td>4.5962696</td><td>1.557349869368139</td><td>0.01295388655778083</td><td>0.023302104</td><td>25</td><td>17</td><td>0.10796351</td><td>0</td><td>28</td><td>False</td><td>242</td><td>4271.6310905308155</td><td>2.8860520946580523</td><td>1480.095</td><td>16.611881</td><td>24</td><td>2102.957721598712</td><td>7.879459656949609</td><td>266.8911</td><td>17.044312</td><td>24</td><td>3106.570736913345</td><td>8.954349540413443</td><td>346.93427</td><td>16.031218</td><td>1.2195642</td><td>0</td><td>1.013094</td><td>0.43243027</td><td>0.5806637</td><td>--</td><td>--</td><td>0</td><td>--</td><td>--</td><td>--</td><td>NOT_AVAILABLE</td><td>122.83963638206116</td><td>22.372614390347948</td><td>78.85637288274647</td><td>65.17038794976227</td><td>100001</td><td>5237.1167</td><td>5012.258</td><td>5333.6665</td><td>0.253</td><td>0.1349</td><td>0.4671</td><td>0.124</td><td>0.0622</td><td>0.2312</td><td>200111</td><td>0.99452305</td><td>0.9588433</td><td>1.0857568</td><td>0.6703374</td><td>0.5158293</td><td>0.82484543</td><td>https://gea.esac.esa.int/data-server/datalink/links?ID=Gaia+DR2+573941431864200576</td><td>0.002694749156617476</td></tr>\n",
              "<tr><td>1635721458409799680</td><td>Gaia DR2 573941431864201600</td><td>573941431864201600</td><td>1665699094</td><td>2015.5</td><td>11.775835255508628</td><td>0.03255906133591321</td><td>85.24193176004697</td><td>0.027086561349367863</td><td>0.5772543652723914</td><td>0.03540945862424966</td><td>16.302265</td><td>-2.516351668894645</td><td>0.06728157882155052</td><td>-0.8355545501783187</td><td>0.05060134245527206</td><td>0.022829035</td><td>0.15574564</td><td>-0.29094374</td><td>0.05084052</td><td>0.25366336</td><td>-0.048628293</td><td>0.021393212</td><td>-0.023129322</td><td>0.42344683</td><td>-0.104117535</td><td>233</td><td>0</td><td>231</td><td>2</td><td>-1.6161653</td><td>192.75159</td><td>0.0</td><td>0.0</td><td>31</td><td>False</td><td>10.77442</td><td>1.5646616336703763</td><td>0.008272146936510473</td><td>0.060870267</td><td>27</td><td>18</td><td>0.070587486</td><td>0</td><td>30</td><td>False</td><td>256</td><td>9357.6596686345</td><td>4.818032931995426</td><td>1942.2158</td><td>15.7604475</td><td>25</td><td>4752.927082754823</td><td>15.054817659689746</td><td>315.70804</td><td>16.158985</td><td>24</td><td>6655.120689326502</td><td>10.50548464033524</td><td>633.4901</td><td>15.20403</td><td>1.2191133</td><td>0</td><td>0.9549551</td><td>0.39853764</td><td>0.55641747</td><td>--</td><td>--</td><td>0</td><td>--</td><td>--</td><td>--</td><td>NOT_AVAILABLE</td><td>122.83472343503888</td><td>22.370999811976223</td><td>78.84860584435448</td><td>65.17393914385697</td><td>100001</td><td>5384.0</td><td>5346.0</td><td>5414.0</td><td>0.5352</td><td>0.2886</td><td>0.691</td><td>0.258</td><td>0.1486</td><td>0.3317</td><td>200111</td><td>1.2318983</td><td>1.2182838</td><td>1.2494735</td><td>1.1488534</td><td>0.9841743</td><td>1.3135326</td><td>https://gea.esac.esa.int/data-server/datalink/links?ID=Gaia+DR2+573941431864201600</td><td>0.0027722948164158523</td></tr>\n",
              "<tr><td>1635721458409799680</td><td>Gaia DR2 573941431864197120</td><td>573941431864197120</td><td>256862907</td><td>2015.5</td><td>11.781434275329108</td><td>0.07963884914040371</td><td>85.24714789288664</td><td>0.05920259078252469</td><td>0.5984132325327813</td><td>0.08208147042492284</td><td>7.290479</td><td>-2.690351051420921</td><td>0.1540489876044534</td><td>-0.7210521514030971</td><td>0.10919954925385483</td><td>-0.039468654</td><td>0.2447295</td><td>-0.33804035</td><td>0.15087152</td><td>0.29278407</td><td>0.030389212</td><td>0.10425539</td><td>0.009243301</td><td>0.4526151</td><td>-0.14346842</td><td>210</td><td>0</td><td>210</td><td>0</td><td>1.4499635</td><td>235.05234</td><td>0.0</td><td>0.0</td><td>31</td><td>False</td><td>2.4292986</td><td>1.498242026042472</td><td>0.01848213856080262</td><td>-0.009594446</td><td>24</td><td>17</td><td>0.14612228</td><td>0</td><td>27</td><td>False</td><td>234</td><td>2466.6279701447465</td><td>2.599225874419129</td><td>948.9856</td><td>17.208107</td><td>24</td><td>1101.8188256442295</td><td>8.25344305527599</td><td>133.49808</td><td>17.746113</td><td>24</td><td>1989.9316380689352</td><td>12.503504589189232</td><td>159.14992</td><td>16.514824</td><td>1.253432</td><td>0</td><td>1.2312889</td><td>0.5380058</td><td>0.6932831</td><td>--</td><td>--</td><td>0</td><td>--</td><td>--</td><td>--</td><td>NOT_AVAILABLE</td><td>122.8353277220614</td><td>22.37620665816959</td><td>78.86054184259172</td><td>65.17545892591663</td><td>--</td><td>--</td><td>--</td><td>--</td><td>--</td><td>--</td><td>--</td><td>--</td><td>--</td><td>--</td><td>--</td><td>--</td><td>--</td><td>--</td><td>--</td><td>--</td><td>--</td><td>https://gea.esac.esa.int/data-server/datalink/links?ID=Gaia+DR2+573941431864197120</td><td>0.003435658557906234</td></tr>\n",
              "<tr><td>1635721458409799680</td><td>Gaia DR2 573941431863101952</td><td>573941431863101952</td><td>1670876344</td><td>2015.5</td><td>11.847398885078604</td><td>1.1403399929888625</td><td>85.24092123943369</td><td>1.2460270018032928</td><td>1.1364025681546943</td><td>1.5601288462334393</td><td>0.72840303</td><td>-0.431905981595643</td><td>2.5454511900614514</td><td>6.003595769419826</td><td>1.4725904263119323</td><td>0.21023937</td><td>0.36448345</td><td>0.0068166424</td><td>0.08308089</td><td>0.783508</td><td>0.17617711</td><td>-0.31612596</td><td>0.10213217</td><td>-0.1348629</td><td>-0.099916235</td><td>107</td><td>0</td><td>106</td><td>1</td><td>-0.43786192</td><td>94.265625</td><td>0.0</td><td>0.0</td><td>31</td><td>False</td><td>0.026912669</td><td>1.3341190108601104</td><td>0.24820817147691696</td><td>-0.059445497</td><td>14</td><td>12</td><td>2.264905</td><td>0</td><td>17</td><td>False</td><td>134</td><td>88.47710361603116</td><td>1.022987505789771</td><td>86.48894</td><td>20.82129</td><td>11</td><td>66.48950827407926</td><td>16.692391241042284</td><td>3.9832225</td><td>20.794506</td><td>13</td><td>108.92174744591293</td><td>8.161201206418175</td><td>13.346289</td><td>19.669134</td><td>1.982561</td><td>0</td><td>1.1253719</td><td>-0.02678299</td><td>1.1521549</td><td>--</td><td>--</td><td>0</td><td>--</td><td>--</td><td>--</td><td>NOT_AVAILABLE</td><td>122.84112307826427</td><td>22.36988495966801</td><td>78.85166906171224</td><td>65.16805600152715</td><td>--</td><td>--</td><td>--</td><td>--</td><td>--</td><td>--</td><td>--</td><td>--</td><td>--</td><td>--</td><td>--</td><td>--</td><td>--</td><td>--</td><td>--</td><td>--</td><td>--</td><td>https://gea.esac.esa.int/data-server/datalink/links?ID=Gaia+DR2+573941431863101952</td><td>0.00512061052599348</td></tr>\n",
              "<tr><td>1635721458409799680</td><td>Gaia DR2 573941431864196096</td><td>573941431864196096</td><td>1689450387</td><td>2015.5</td><td>11.796092281131761</td><td>0.03005695853992195</td><td>85.24947781526936</td><td>0.024898556353583335</td><td>0.5531336087156113</td><td>0.030428982635073338</td><td>18.177855</td><td>-2.398870491478188</td><td>0.060843746207649235</td><td>-0.7953811054060391</td><td>0.045657153813324795</td><td>-0.11435957</td><td>0.15684776</td><td>-0.3838259</td><td>0.098278664</td><td>0.15112942</td><td>0.028371004</td><td>0.05063265</td><td>0.00646433</td><td>0.3468768</td><td>-0.16702625</td><td>195</td><td>0</td><td>195</td><td>0</td><td>-0.8414681</td><td>173.43619</td><td>0.0</td><td>0.0</td><td>31</td><td>False</td><td>16.3068</td><td>1.59820994181792</td><td>0.007802163952954828</td><td>0.084746554</td><td>23</td><td>16</td><td>0.06746414</td><td>0</td><td>28</td><td>False</td><td>221</td><td>13376.731138367153</td><td>6.552496987555739</td><td>2041.4708</td><td>15.372491</td><td>25</td><td>7110.626386154973</td><td>16.847910110022795</td><td>422.04797</td><td>15.721619</td><td>25</td><td>9137.66285128843</td><td>12.949664215900093</td><td>705.62933</td><td>14.859832</td><td>1.2146682</td><td>0</td><td>0.86178684</td><td>0.34912777</td><td>0.5126591</td><td>--</td><td>--</td><td>0</td><td>--</td><td>--</td><td>--</td><td>NOT_AVAILABLE</td><td>122.83668594137689</td><td>22.378514365637066</td><td>78.86677021978068</td><td>65.17520399378152</td><td>100001</td><td>5796.0</td><td>5647.755</td><td>5993.475</td><td>0.432</td><td>0.325</td><td>0.6076</td><td>0.2228</td><td>0.1585</td><td>0.3426</td><td>200111</td><td>1.302418</td><td>1.2180068</td><td>1.3716885</td><td>1.724682</td><td>1.495258</td><td>1.954106</td><td>https://gea.esac.esa.int/data-server/datalink/links?ID=Gaia+DR2+573941431864196096</td><td>0.005478941573946177</td></tr>\n",
              "<tr><td>1635721458409799680</td><td>Gaia DR2 573941328784984320</td><td>573941328784984320</td><td>1217960386</td><td>2015.5</td><td>11.724758702696125</td><td>0.02017167340804222</td><td>85.24364992210644</td><td>0.019710713932749233</td><td>0.5082635115306529</td><td>0.025382825094664167</td><td>20.023914</td><td>-2.0711502731011304</td><td>0.04154874804601133</td><td>-1.1803518806591535</td><td>0.03280218118859211</td><td>0.10528822</td><td>0.18892504</td><td>-0.25181913</td><td>0.007050847</td><td>0.46076366</td><td>-0.14587024</td><td>-0.005444146</td><td>-0.11250865</td><td>0.42718706</td><td>-0.1379051</td><td>203</td><td>0</td><td>202</td><td>1</td><td>-1.0548509</td><td>176.17531</td><td>0.0</td><td>0.0</td><td>31</td><td>False</td><td>46.619564</td><td>1.6367386755856377</td><td>0.005118201288619628</td><td>0.02408776</td><td>23</td><td>16</td><td>0.047871336</td><td>0</td><td>27</td><td>False</td><td>236</td><td>37833.0976728576</td><td>15.69562449039211</td><td>2410.423</td><td>14.243686</td><td>24</td><td>22108.75851881349</td><td>49.23516984657353</td><td>449.044</td><td>14.489977</td><td>23</td><td>23761.759535360532</td><td>57.88051154668521</td><td>410.53125</td><td>13.822224</td><td>1.2124442</td><td>0</td><td>0.6677532</td><td>0.24629116</td><td>0.42146206</td><td>--</td><td>--</td><td>0</td><td>--</td><td>--</td><td>--</td><td>NOT_AVAILABLE</td><td>122.83017810381091</td><td>22.372796593195925</td><td>78.84863337085815</td><td>65.17851028400561</td><td>100001</td><td>6290.5</td><td>5991.25</td><td>6605.3335</td><td>1.317</td><td>0.9884</td><td>1.5007</td><td>0.657</td><td>0.45</td><td>0.7491</td><td>200111</td><td>2.0061138</td><td>1.8194344</td><td>2.2115207</td><td>5.677361</td><td>4.959057</td><td>6.395665</td><td>https://gea.esac.esa.int/data-server/datalink/links?ID=Gaia+DR2+573941328784984320</td><td>0.0060894295398141104</td></tr>\n",
              "<tr><td>1635721458409799680</td><td>Gaia DR2 573941328784049664</td><td>573941328784049664</td><td>1079968442</td><td>2015.5</td><td>11.720958998866971</td><td>2.2672041826920344</td><td>85.24297873403223</td><td>2.698089988077217</td><td>--</td><td>--</td><td>--</td><td>--</td><td>--</td><td>--</td><td>--</td><td>-0.004472074</td><td>--</td><td>--</td><td>--</td><td>--</td><td>--</td><td>--</td><td>--</td><td>--</td><td>--</td><td>52</td><td>0</td><td>51</td><td>1</td><td>4.190974</td><td>97.93742</td><td>4.676116076494762</td><td>3.4713819516689464</td><td>3</td><td>False</td><td>0.014714357</td><td>--</td><td>--</td><td>-0.2073366</td><td>6</td><td>5</td><td>6.062648</td><td>0</td><td>8</td><td>False</td><td>67</td><td>118.76961016424475</td><td>2.228270338911466</td><td>53.301258</td><td>20.501602</td><td>0</td><td>--</td><td>--</td><td>--</td><td>--</td><td>0</td><td>--</td><td>--</td><td>--</td><td>--</td><td>--</td><td>2</td><td>--</td><td>--</td><td>--</td><td>--</td><td>--</td><td>0</td><td>--</td><td>--</td><td>--</td><td>NOT_AVAILABLE</td><td>122.82982357304385</td><td>22.372131542881785</td><td>78.84686992285731</td><td>65.17855220285028</td><td>--</td><td>--</td><td>--</td><td>--</td><td>--</td><td>--</td><td>--</td><td>--</td><td>--</td><td>--</td><td>--</td><td>--</td><td>--</td><td>--</td><td>--</td><td>--</td><td>--</td><td>https://gea.esac.esa.int/data-server/datalink/links?ID=Gaia+DR2+573941328784049664</td><td>0.006476033779749049</td></tr>\n",
              "<tr><td>1635721458409799680</td><td>Gaia DR2 573941324487641600</td><td>573941324487641600</td><td>657964719</td><td>2015.5</td><td>11.719951501560104</td><td>0.021184110357554818</td><td>85.24436556846314</td><td>0.020535231871745687</td><td>0.49615782194329944</td><td>0.024641889550915272</td><td>20.134731</td><td>-2.7290188233882215</td><td>0.0441783463666155</td><td>-0.6363330445687266</td><td>0.03526808489153847</td><td>0.06895384</td><td>0.1520592</td><td>-0.31448048</td><td>0.0025066691</td><td>0.35362884</td><td>-0.0885482</td><td>-0.080612704</td><td>-0.03653757</td><td>0.34931815</td><td>-0.0780285</td><td>218</td><td>0</td><td>217</td><td>1</td><td>-0.37410158</td><td>203.73978</td><td>0.0</td><td>0.0</td><td>31</td><td>False</td><td>28.741045</td><td>1.5907772349973919</td><td>0.005664772171433121</td><td>0.08134642</td><td>25</td><td>17</td><td>0.05072731</td><td>0</td><td>28</td><td>False</td><td>243</td><td>23582.17438762641</td><td>9.068500740144977</td><td>2600.449</td><td>14.7569065</td><td>9</td><td>12441.660723538238</td><td>44.76363313259798</td><td>277.94125</td><td>15.114192</td><td>9</td><td>16665.758176044597</td><td>47.67155869102945</td><td>349.5954</td><td>14.207357</td><td>1.2342975</td><td>0</td><td>0.9068346</td><td>0.3572855</td><td>0.5495491</td><td>--</td><td>--</td><td>0</td><td>--</td><td>--</td><td>--</td><td>NOT_AVAILABLE</td><td>122.82976194164998</td><td>22.373519721742348</td><td>78.84986085962589</td><td>65.17914706896663</td><td>100001</td><td>5369.5</td><td>5086.527</td><td>5822.17</td><td>--</td><td>--</td><td>--</td><td>--</td><td>--</td><td>--</td><td>200111</td><td>2.289626</td><td>1.9474328</td><td>2.5514646</td><td>3.92608</td><td>3.4280229</td><td>4.424137</td><td>https://gea.esac.esa.int/data-server/datalink/links?ID=Gaia+DR2+573941324487641600</td><td>0.006487618524726231</td></tr>\n",
              "<tr><td>1635721458409799680</td><td>Gaia DR2 573941427566934400</td><td>573941427566934400</td><td>1416041923</td><td>2015.5</td><td>11.767783483373126</td><td>0.064327925699059</td><td>85.25045643192475</td><td>0.051359702442331095</td><td>0.5854568254354121</td><td>0.0675799543338964</td><td>8.663173</td><td>-2.5044780776391873</td><td>0.132563618339509</td><td>-0.6386327518922068</td><td>0.09514893172905597</td><td>-0.109065354</td><td>0.10697851</td><td>-0.28744692</td><td>0.03948091</td><td>0.3063262</td><td>-0.053648278</td><td>0.12635121</td><td>-0.07334086</td><td>0.4511728</td><td>-0.19887204</td><td>208</td><td>0</td><td>204</td><td>4</td><td>1.2340153</td><td>223.92567</td><td>0.09293835783404326</td><td>0.2800709521901403</td><td>31</td><td>False</td><td>3.4404035</td><td>1.5092699575418485</td><td>0.015482233682135247</td><td>-0.01927079</td><td>24</td><td>16</td><td>0.12763342</td><td>0</td><td>28</td><td>False</td><td>231</td><td>3407.9795731309077</td><td>7.2242128974639</td><td>471.74408</td><td>16.857122</td><td>25</td><td>1490.1802380336699</td><td>23.372893400837068</td><td>63.75677</td><td>17.418291</td><td>23</td><td>2815.4660937365984</td><td>15.784307390115533</td><td>178.37122</td><td>16.138044</td><td>1.2634015</td><td>0</td><td>1.2802467</td><td>0.5611687</td><td>0.71907806</td><td>--</td><td>--</td><td>0</td><td>--</td><td>--</td><td>--</td><td>NOT_AVAILABLE</td><td>122.83417036160681</td><td>22.379535252043986</td><td>78.86684522885561</td><td>65.17774408275815</td><td>100001</td><td>4896.4</td><td>4712.8975</td><td>5044.143</td><td>0.7525</td><td>0.4826</td><td>0.8731</td><td>0.3505</td><td>0.2255</td><td>0.431</td><td>200111</td><td>0.9260632</td><td>0.8726088</td><td>0.99958193</td><td>0.44410276</td><td>0.33549923</td><td>0.5527063</td><td>https://gea.esac.esa.int/data-server/datalink/links?ID=Gaia+DR2+573941427566934400</td><td>0.006925934497601974</td></tr>\n",
              "<tr><td>...</td><td>...</td><td>...</td><td>...</td><td>...</td><td>...</td><td>...</td><td>...</td><td>...</td><td>...</td><td>...</td><td>...</td><td>...</td><td>...</td><td>...</td><td>...</td><td>...</td><td>...</td><td>...</td><td>...</td><td>...</td><td>...</td><td>...</td><td>...</td><td>...</td><td>...</td><td>...</td><td>...</td><td>...</td><td>...</td><td>...</td><td>...</td><td>...</td><td>...</td><td>...</td><td>...</td><td>...</td><td>...</td><td>...</td><td>...</td><td>...</td><td>...</td><td>...</td><td>...</td><td>...</td><td>...</td><td>...</td><td>...</td><td>...</td><td>...</td><td>...</td><td>...</td><td>...</td><td>...</td><td>...</td><td>...</td><td>...</td><td>...</td><td>...</td><td>...</td><td>...</td><td>...</td><td>...</td><td>...</td><td>...</td><td>...</td><td>...</td><td>...</td><td>...</td><td>...</td><td>...</td><td>...</td><td>...</td><td>...</td><td>...</td><td>...</td><td>...</td><td>...</td><td>...</td><td>...</td><td>...</td><td>...</td><td>...</td><td>...</td><td>...</td><td>...</td><td>...</td><td>...</td><td>...</td><td>...</td><td>...</td><td>...</td><td>...</td><td>...</td><td>...</td><td>...</td></tr>\n",
              "<tr><td>1635721458409799680</td><td>Gaia DR2 573559038039720832</td><td>573559038039720832</td><td>723973680</td><td>2015.5</td><td>9.007331755849991</td><td>0.1902913861891529</td><td>84.81444405152898</td><td>0.17257467751229807</td><td>0.8914641696833056</td><td>0.21604707544309826</td><td>4.12625</td><td>3.2932274054391906</td><td>0.40892704124658846</td><td>-4.528286946981423</td><td>0.3577487713656992</td><td>0.17571437</td><td>0.14518678</td><td>-0.04762778</td><td>0.020338394</td><td>0.013873932</td><td>-0.032291908</td><td>0.026532926</td><td>-0.232044</td><td>0.30229986</td><td>0.021846123</td><td>194</td><td>0</td><td>193</td><td>1</td><td>1.1456586</td><td>210.38226</td><td>0.0</td><td>1.46573774807563e-15</td><td>31</td><td>False</td><td>0.3304983</td><td>1.360306070275319</td><td>0.05538381644883167</td><td>-0.009855494</td><td>22</td><td>16</td><td>0.3628227</td><td>0</td><td>25</td><td>False</td><td>219</td><td>549.1861914363111</td><td>1.5514012071958403</td><td>353.99365</td><td>18.839067</td><td>24</td><td>165.45201857100642</td><td>8.27080675526794</td><td>20.00434</td><td>19.804708</td><td>24</td><td>559.1395098372885</td><td>8.259821000821258</td><td>67.6939</td><td>17.89312</td><td>1.3193914</td><td>0</td><td>1.9115887</td><td>0.965641</td><td>0.94594765</td><td>--</td><td>--</td><td>0</td><td>--</td><td>--</td><td>--</td><td>NOT_AVAILABLE</td><td>122.55681601435606</td><td>21.95392017004443</td><td>77.6917314438026</td><td>65.2438786358905</td><td>--</td><td>--</td><td>--</td><td>--</td><td>--</td><td>--</td><td>--</td><td>--</td><td>--</td><td>--</td><td>--</td><td>--</td><td>--</td><td>--</td><td>--</td><td>--</td><td>--</td><td>https://gea.esac.esa.int/data-server/datalink/links?ID=Gaia+DR2+573559038039720832</td><td>0.49282039832001484</td></tr>\n",
              "<tr><td>1635721458409799680</td><td>Gaia DR2 573558836178845440</td><td>573558836178845440</td><td>1009552605</td><td>2015.5</td><td>9.169184823706326</td><td>0.678839936150794</td><td>84.80694488090464</td><td>0.5859651658706236</td><td>0.37362912418742356</td><td>0.7689827929255617</td><td>0.4858745</td><td>-8.161545274046413</td><td>1.3999882067158949</td><td>0.6670907675169352</td><td>1.4730861501109842</td><td>0.18655342</td><td>0.3356831</td><td>-0.11799609</td><td>0.059289884</td><td>0.30896193</td><td>-0.04556214</td><td>0.012454044</td><td>-0.35030937</td><td>-0.07013556</td><td>0.14310282</td><td>173</td><td>0</td><td>173</td><td>0</td><td>-0.12016036</td><td>165.14706</td><td>0.0</td><td>0.0</td><td>31</td><td>False</td><td>0.03325406</td><td>1.4627713153341537</td><td>0.1563033034503659</td><td>-0.022756616</td><td>21</td><td>15</td><td>1.3589878</td><td>0</td><td>23</td><td>False</td><td>194</td><td>110.0976144700415</td><td>0.9057697363677787</td><td>121.55144</td><td>20.583921</td><td>16</td><td>69.7776912519071</td><td>21.283791929097276</td><td>3.2784426</td><td>20.742096</td><td>22</td><td>132.36849435981534</td><td>7.15561700039877</td><td>18.498545</td><td>19.457458</td><td>1.8360633</td><td>0</td><td>1.2846375</td><td>0.15817451</td><td>1.1264629</td><td>--</td><td>--</td><td>0</td><td>--</td><td>--</td><td>--</td><td>NOT_AVAILABLE</td><td>122.57205743091741</td><td>21.94551205859525</td><td>77.68708819820364</td><td>65.22754594395597</td><td>--</td><td>--</td><td>--</td><td>--</td><td>--</td><td>--</td><td>--</td><td>--</td><td>--</td><td>--</td><td>--</td><td>--</td><td>--</td><td>--</td><td>--</td><td>--</td><td>--</td><td>https://gea.esac.esa.int/data-server/datalink/links?ID=Gaia+DR2+573558836178845440</td><td>0.49282297265803054</td></tr>\n",
              "<tr><td>1635721458409799680</td><td>Gaia DR2 573879236440367744</td><td>573879236440367744</td><td>502452001</td><td>2015.5</td><td>16.596334717032068</td><td>0.320074708077213</td><td>85.5521229087936</td><td>0.24680393195152897</td><td>0.8159020649832454</td><td>0.31276416796842627</td><td>2.6086814</td><td>-2.894673009482096</td><td>0.6544460431771623</td><td>11.205370117659001</td><td>0.4631506880491726</td><td>0.08927685</td><td>0.107441336</td><td>-0.2680664</td><td>-0.083968006</td><td>0.059942305</td><td>-0.18178757</td><td>-0.06788344</td><td>-0.0825791</td><td>0.34844458</td><td>-0.09084004</td><td>240</td><td>0</td><td>237</td><td>3</td><td>5.0220017</td><td>356.97272</td><td>1.5159500133147934</td><td>4.646179369941257</td><td>31</td><td>False</td><td>0.11814604</td><td>1.421839493810292</td><td>0.08082882982867612</td><td>0.12352647</td><td>28</td><td>17</td><td>0.58808625</td><td>0</td><td>32</td><td>False</td><td>268</td><td>304.00526718562924</td><td>1.3948624399359977</td><td>217.94641</td><td>19.481163</td><td>28</td><td>73.34536693035234</td><td>11.359738973128971</td><td>6.456607</td><td>20.687956</td><td>28</td><td>395.9693308055421</td><td>5.505918852481309</td><td>71.91703</td><td>18.267767</td><td>1.5437716</td><td>0</td><td>2.420189</td><td>1.2067928</td><td>1.2133961</td><td>--</td><td>--</td><td>0</td><td>--</td><td>--</td><td>--</td><td>NOT_AVAILABLE</td><td>123.24580940976948</td><td>22.689485708342016</td><td>79.89203415524507</td><td>64.94582544891914</td><td>--</td><td>--</td><td>--</td><td>--</td><td>--</td><td>--</td><td>--</td><td>--</td><td>--</td><td>--</td><td>--</td><td>--</td><td>--</td><td>--</td><td>--</td><td>--</td><td>--</td><td>https://gea.esac.esa.int/data-server/datalink/links?ID=Gaia+DR2+573879236440367744</td><td>0.49284314267027285</td></tr>\n",
              "<tr><td>1635721458409799680</td><td>Gaia DR2 573620511908142208</td><td>573620511908142208</td><td>1509899874</td><td>2015.5</td><td>5.98696917062705</td><td>2.4761156805116338</td><td>85.16087849095133</td><td>2.4339331921962453</td><td>--</td><td>--</td><td>--</td><td>--</td><td>--</td><td>--</td><td>--</td><td>0.44437352</td><td>--</td><td>--</td><td>--</td><td>--</td><td>--</td><td>--</td><td>--</td><td>--</td><td>--</td><td>51</td><td>0</td><td>51</td><td>0</td><td>-0.6870081</td><td>39.118637</td><td>0.0</td><td>0.0</td><td>3</td><td>False</td><td>0.018761829</td><td>--</td><td>--</td><td>0.4091827</td><td>7</td><td>7</td><td>8.1955</td><td>0</td><td>8</td><td>False</td><td>63</td><td>69.59161396886236</td><td>1.6223470337347714</td><td>42.89564</td><td>21.081974</td><td>0</td><td>--</td><td>--</td><td>--</td><td>--</td><td>0</td><td>--</td><td>--</td><td>--</td><td>--</td><td>--</td><td>0</td><td>--</td><td>--</td><td>--</td><td>--</td><td>--</td><td>0</td><td>--</td><td>--</td><td>--</td><td>NOT_AVAILABLE</td><td>122.30669042698554</td><td>22.322536228976382</td><td>78.28039915745784</td><td>65.60390439598162</td><td>--</td><td>--</td><td>--</td><td>--</td><td>--</td><td>--</td><td>--</td><td>--</td><td>--</td><td>--</td><td>--</td><td>--</td><td>--</td><td>--</td><td>--</td><td>--</td><td>--</td><td>https://gea.esac.esa.int/data-server/datalink/links?ID=Gaia+DR2+573620511908142208</td><td>0.4928496315574362</td></tr>\n",
              "<tr><td>1635721458409799680</td><td>Gaia DR2 573613811759863936</td><td>573613811759863936</td><td>553336575</td><td>2015.5</td><td>6.283744030553248</td><td>0.5056838057313033</td><td>85.08002616892072</td><td>0.44719494272334825</td><td>4.813993389545033</td><td>0.5238780994208525</td><td>9.189148</td><td>-4.799970603471828</td><td>0.9982259619345536</td><td>-14.411967830658687</td><td>0.8219348273787305</td><td>0.17045923</td><td>0.19698443</td><td>-0.3690387</td><td>-0.12115712</td><td>0.17086202</td><td>-0.21862713</td><td>-0.23304017</td><td>-0.16295741</td><td>0.28001484</td><td>0.1352514</td><td>262</td><td>0</td><td>262</td><td>0</td><td>275.94174</td><td>194519.1</td><td>4.928959499632619</td><td>7142.856193817607</td><td>31</td><td>False</td><td>0.040081512</td><td>1.3616241090064376</td><td>0.11945138988808879</td><td>0.03740734</td><td>30</td><td>18</td><td>0.9285653</td><td>0</td><td>34</td><td>False</td><td>185</td><td>51963.74604830577</td><td>86.55898321884169</td><td>600.3276</td><td>13.899115</td><td>34</td><td>23658.06425129428</td><td>183.66580186246213</td><td>128.8104</td><td>14.41644</td><td>32</td><td>71403.46379516841</td><td>411.1922239540831</td><td>173.64984</td><td>12.627622</td><td>1.8293817</td><td>0</td><td>1.7888184</td><td>0.5173254</td><td>1.271493</td><td>--</td><td>--</td><td>0</td><td>--</td><td>--</td><td>--</td><td>NOT_AVAILABLE</td><td>122.32395780391866</td><td>22.239355616209693</td><td>78.11109119085253</td><td>65.55620799256903</td><td>102001</td><td>4460.0</td><td>3974.673</td><td>4910.6235</td><td>--</td><td>--</td><td>--</td><td>--</td><td>--</td><td>--</td><td>200111</td><td>0.5693444</td><td>0.46964693</td><td>0.7168725</td><td>0.115553804</td><td>0.090374455</td><td>0.14073315</td><td>https://gea.esac.esa.int/data-server/datalink/links?ID=Gaia+DR2+573613811759863936</td><td>0.4929004212146588</td></tr>\n",
              "<tr><td>1635721458409799680</td><td>Gaia DR2 573566150504528640</td><td>573566150504528640</td><td>447499357</td><td>2015.5</td><td>6.919114289350574</td><td>0.20545640215400296</td><td>84.97870402241966</td><td>0.1976549661015164</td><td>0.3547388054226089</td><td>0.2308631721017623</td><td>1.536576</td><td>3.0481560107027743</td><td>0.4165610378627921</td><td>1.933431091113419</td><td>0.3503125227518891</td><td>0.15269291</td><td>0.2501199</td><td>-0.124746986</td><td>-0.07307376</td><td>0.181765</td><td>-0.18721305</td><td>-0.24955058</td><td>-0.1880197</td><td>0.2871893</td><td>-0.02886726</td><td>243</td><td>0</td><td>241</td><td>2</td><td>-0.28167638</td><td>229.2786</td><td>0.0</td><td>0.0</td><td>31</td><td>False</td><td>0.23374783</td><td>1.3101015964798277</td><td>0.056134691686275474</td><td>0.043254107</td><td>28</td><td>17</td><td>0.37309778</td><td>0</td><td>32</td><td>False</td><td>276</td><td>398.49542910740695</td><td>1.1586078623124394</td><td>343.94333</td><td>19.187307</td><td>30</td><td>150.60210510481022</td><td>8.66078437264458</td><td>17.388968</td><td>19.90681</td><td>27</td><td>378.87228686329456</td><td>5.18953239884619</td><td>73.00702</td><td>18.315687</td><td>1.3286837</td><td>0</td><td>1.5911236</td><td>0.7195034</td><td>0.8716202</td><td>--</td><td>--</td><td>0</td><td>--</td><td>--</td><td>--</td><td>NOT_AVAILABLE</td><td>122.37161931920723</td><td>22.132824734891518</td><td>77.91809630873622</td><td>65.47315160853282</td><td>--</td><td>--</td><td>--</td><td>--</td><td>--</td><td>--</td><td>--</td><td>--</td><td>--</td><td>--</td><td>--</td><td>--</td><td>--</td><td>--</td><td>--</td><td>--</td><td>--</td><td>https://gea.esac.esa.int/data-server/datalink/links?ID=Gaia+DR2+573566150504528640</td><td>0.4929781510017272</td></tr>\n",
              "<tr><td>1635721458409799680</td><td>Gaia DR2 573780971884891392</td><td>573780971884891392</td><td>356560696</td><td>2015.5</td><td>17.458748275864664</td><td>2.2098253054750123</td><td>85.42046163784647</td><td>2.986474629381361</td><td>--</td><td>--</td><td>--</td><td>--</td><td>--</td><td>--</td><td>--</td><td>0.35865873</td><td>--</td><td>--</td><td>--</td><td>--</td><td>--</td><td>--</td><td>--</td><td>--</td><td>--</td><td>60</td><td>0</td><td>60</td><td>0</td><td>0.8769257</td><td>63.979248</td><td>0.0</td><td>6.774759166074719e-16</td><td>3</td><td>False</td><td>0.012377798</td><td>--</td><td>--</td><td>0.05891701</td><td>7</td><td>6</td><td>11.731587</td><td>0</td><td>7</td><td>False</td><td>60</td><td>65.68932496896295</td><td>1.405249797372547</td><td>46.745655</td><td>21.144629</td><td>0</td><td>--</td><td>--</td><td>--</td><td>--</td><td>0</td><td>--</td><td>--</td><td>--</td><td>--</td><td>--</td><td>1</td><td>--</td><td>--</td><td>--</td><td>--</td><td>--</td><td>0</td><td>--</td><td>--</td><td>--</td><td>NOT_AVAILABLE</td><td>123.32915247149548</td><td>22.562907851039988</td><td>79.68499126239338</td><td>64.82658452616025</td><td>--</td><td>--</td><td>--</td><td>--</td><td>--</td><td>--</td><td>--</td><td>--</td><td>--</td><td>--</td><td>--</td><td>--</td><td>--</td><td>--</td><td>--</td><td>--</td><td>--</td><td>https://gea.esac.esa.int/data-server/datalink/links?ID=Gaia+DR2+573780971884891392</td><td>0.4930441893676008</td></tr>\n",
              "<tr><td>1635721458409799680</td><td>Gaia DR2 573742793919410304</td><td>573742793919410304</td><td>1080895171</td><td>2015.5</td><td>16.03700723763828</td><td>0.18287399638011476</td><td>84.91080111853097</td><td>0.12402221208524873</td><td>-0.003941447914853585</td><td>0.16036984881158312</td><td>-0.024577238</td><td>-0.8011584491702973</td><td>0.36418524629251586</td><td>-2.698380466472464</td><td>0.24147667888216404</td><td>-0.055204727</td><td>0.05433097</td><td>-0.20102523</td><td>0.082956575</td><td>-0.030173551</td><td>0.08155648</td><td>-0.20051436</td><td>-0.22218384</td><td>0.12934706</td><td>0.007845329</td><td>218</td><td>0</td><td>218</td><td>0</td><td>-0.5162245</td><td>201.87798</td><td>0.0</td><td>0.0</td><td>31</td><td>False</td><td>0.45429575</td><td>1.5798437862066042</td><td>0.04031336391481021</td><td>-0.01020149</td><td>25</td><td>18</td><td>0.32706347</td><td>0</td><td>29</td><td>False</td><td>249</td><td>732.5404650652087</td><td>1.5669149192560172</td><td>467.50494</td><td>18.526287</td><td>28</td><td>351.392331512763</td><td>10.429868710509282</td><td>33.690964</td><td>18.986908</td><td>28</td><td>518.7056304422165</td><td>11.639032440167467</td><td>44.566044</td><td>17.974617</td><td>1.1877815</td><td>0</td><td>1.012291</td><td>0.46062088</td><td>0.5516701</td><td>--</td><td>--</td><td>0</td><td>--</td><td>--</td><td>--</td><td>NOT_AVAILABLE</td><td>123.23586928416063</td><td>22.046553856033064</td><td>78.49075050344742</td><td>64.70466567070477</td><td>--</td><td>--</td><td>--</td><td>--</td><td>--</td><td>--</td><td>--</td><td>--</td><td>--</td><td>--</td><td>--</td><td>--</td><td>--</td><td>--</td><td>--</td><td>--</td><td>--</td><td>https://gea.esac.esa.int/data-server/datalink/links?ID=Gaia+DR2+573742793919410304</td><td>0.49307171591580423</td></tr>\n",
              "<tr><td>1635721458409799680</td><td>Gaia DR2 573733314928693248</td><td>573733314928693248</td><td>1349824941</td><td>2015.5</td><td>16.78974655773232</td><td>0.8437029193125369</td><td>84.992969778771</td><td>0.6881803026073051</td><td>0.9797082122562779</td><td>0.8291661182813919</td><td>1.1815584</td><td>-1.6942734151817298</td><td>1.6820493816044155</td><td>4.447271311911467</td><td>1.6708148891527372</td><td>-0.088891864</td><td>0.23514138</td><td>-0.22514074</td><td>0.06545104</td><td>0.32149947</td><td>0.11737139</td><td>-0.517179</td><td>-0.0073991413</td><td>-0.30743882</td><td>-0.11941028</td><td>147</td><td>0</td><td>145</td><td>2</td><td>-0.885887</td><td>125.0739</td><td>0.0</td><td>0.0</td><td>31</td><td>False</td><td>0.032228947</td><td>1.7733085574843241</td><td>0.19374426219310092</td><td>-0.018496225</td><td>18</td><td>13</td><td>1.6033175</td><td>0</td><td>22</td><td>False</td><td>176</td><td>116.93483591587044</td><td>1.0083399153387902</td><td>115.967674</td><td>20.518505</td><td>10</td><td>32.66273573465994</td><td>8.443999102613557</td><td>3.8681595</td><td>21.566257</td><td>17</td><td>143.2791991416718</td><td>12.627883498913222</td><td>11.346256</td><td>19.371462</td><td>1.5046152</td><td>0</td><td>2.1947956</td><td>1.0477524</td><td>1.1470432</td><td>--</td><td>--</td><td>0</td><td>--</td><td>--</td><td>--</td><td>NOT_AVAILABLE</td><td>123.30194440725626</td><td>22.132518618613204</td><td>78.73218351917636</td><td>64.68258208999066</td><td>--</td><td>--</td><td>--</td><td>--</td><td>--</td><td>--</td><td>--</td><td>--</td><td>--</td><td>--</td><td>--</td><td>--</td><td>--</td><td>--</td><td>--</td><td>--</td><td>--</td><td>https://gea.esac.esa.int/data-server/datalink/links?ID=Gaia+DR2+573733314928693248</td><td>0.49316613355822914</td></tr>\n",
              "<tr><td>1635721458409799680</td><td>Gaia DR2 573991390923973760</td><td>573991390923973760</td><td>303154578</td><td>2015.5</td><td>11.511315512188395</td><td>0.5780102649023967</td><td>85.73665786783651</td><td>0.6471750794789687</td><td>0.3002201450020312</td><td>0.7196574608639202</td><td>0.41717088</td><td>-1.1165038466291137</td><td>1.3697820000837588</td><td>1.7997568907401185</td><td>1.2043947646470226</td><td>0.18770987</td><td>0.19934984</td><td>-0.15597607</td><td>-0.10397621</td><td>0.41482708</td><td>-0.26048183</td><td>-0.04977012</td><td>-0.35721058</td><td>0.07177115</td><td>0.063273475</td><td>182</td><td>0</td><td>180</td><td>2</td><td>1.2476681</td><td>198.66852</td><td>0.8021207498812849</td><td>0.23495877340873797</td><td>31</td><td>False</td><td>0.0344371</td><td>1.3349661585614223</td><td>0.18256585481423773</td><td>-0.0029311776</td><td>22</td><td>15</td><td>1.2467126</td><td>0</td><td>24</td><td>False</td><td>198</td><td>121.56734676100042</td><td>1.0934374112413996</td><td>111.17906</td><td>20.476324</td><td>14</td><td>39.34836897963756</td><td>9.816014784276597</td><td>4.008589</td><td>21.36407</td><td>18</td><td>106.71006156441148</td><td>7.786609604545679</td><td>13.704304</td><td>19.691406</td><td>1.2014611</td><td>0</td><td>1.6726646</td><td>0.8877468</td><td>0.78491783</td><td>--</td><td>--</td><td>0</td><td>--</td><td>--</td><td>--</td><td>NOT_AVAILABLE</td><td>122.82315876967978</td><td>22.866046717814157</td><td>79.93221680270747</td><td>65.37331409390313</td><td>--</td><td>--</td><td>--</td><td>--</td><td>--</td><td>--</td><td>--</td><td>--</td><td>--</td><td>--</td><td>--</td><td>--</td><td>--</td><td>--</td><td>--</td><td>--</td><td>--</td><td>https://gea.esac.esa.int/data-server/datalink/links?ID=Gaia+DR2+573991390923973760</td><td>0.493170678733885</td></tr>\n",
              "</table></div>"
            ]
          },
          "metadata": {},
          "execution_count": 25
        }
      ]
    },
    {
      "cell_type": "code",
      "source": [
        "#only keep stars brighter than G=19 magnitude\n",
        "\n",
        "ngc188_table = ngc188_table[ngc188_table['phot_g_mean_mag'] < 19*u.mag]"
      ],
      "metadata": {
        "id": "WA_g7CIn1R6z"
      },
      "execution_count": 26,
      "outputs": []
    },
    {
      "cell_type": "code",
      "source": [
        "cols = [\n",
        "    'source_id',\n",
        "    'ra',\n",
        "    'dec',\n",
        "    'parallax',\n",
        "    'parallax_error',\n",
        "    'pmra',\n",
        "    'pmdec',\n",
        "    'radial_velocity',\n",
        "    'phot_g_mean_mag',\n",
        "    'phot_bp_mean_mag',\n",
        "    'phot_rp_mean_mag'\n",
        "]"
      ],
      "metadata": {
        "id": "UT4vjEnL3Lxh"
      },
      "execution_count": 27,
      "outputs": []
    },
    {
      "cell_type": "code",
      "source": [
        "ngc188_table"
      ],
      "metadata": {
        "colab": {
          "base_uri": "https://localhost:8080/",
          "height": 1000
        },
        "id": "fjnVxMuq7o_J",
        "outputId": "33019409-8ce5-4572-e411-d13887d297b5"
      },
      "execution_count": 28,
      "outputs": [
        {
          "output_type": "execute_result",
          "data": {
            "text/plain": [
              "<Table length=4954>\n",
              "    solution_id             DESIGNATION         ...          dist        \n",
              "                                                ...                      \n",
              "       int64                   object           ...        float64       \n",
              "------------------- --------------------------- ... ---------------------\n",
              "1635721458409799680 Gaia DR2 573941431864200576 ...  0.002694749156617476\n",
              "1635721458409799680 Gaia DR2 573941431864201600 ... 0.0027722948164158523\n",
              "1635721458409799680 Gaia DR2 573941431864197120 ...  0.003435658557906234\n",
              "1635721458409799680 Gaia DR2 573941431864196096 ...  0.005478941573946177\n",
              "1635721458409799680 Gaia DR2 573941328784984320 ... 0.0060894295398141104\n",
              "1635721458409799680 Gaia DR2 573941324487641600 ...  0.006487618524726231\n",
              "1635721458409799680 Gaia DR2 573941427566934400 ...  0.006925934497601974\n",
              "1635721458409799680 Gaia DR2 573941328784984832 ...  0.007030038065367961\n",
              "1635721458409799680 Gaia DR2 573941431864200320 ...  0.007378603299580436\n",
              "                ...                         ... ...                   ...\n",
              "1635721458409799680 Gaia DR2 573990768152275200 ...    0.4920691254590745\n",
              "1635721458409799680 Gaia DR2 573736922700927872 ...   0.49229068413642485\n",
              "1635721458409799680 Gaia DR2 573613807461713280 ...   0.49256825495589757\n",
              "1635721458409799680 Gaia DR2 573620129653640064 ...    0.4926424923166031\n",
              "1635721458409799680 Gaia DR2 573362161035070080 ...   0.49266535775383263\n",
              "1635721458409799680 Gaia DR2 573613811756806912 ...    0.4927040256058703\n",
              "1635721458409799680 Gaia DR2 573564982274524160 ...   0.49273226470263354\n",
              "1635721458409799680 Gaia DR2 573559038039720832 ...   0.49282039832001484\n",
              "1635721458409799680 Gaia DR2 573613811759863936 ...    0.4929004212146588\n",
              "1635721458409799680 Gaia DR2 573742793919410304 ...   0.49307171591580423"
            ],
            "text/html": [
              "<div><i>Table length=4954</i>\n",
              "<table id=\"table139844702863888\" class=\"table-striped table-bordered table-condensed\">\n",
              "<thead><tr><th>solution_id</th><th>DESIGNATION</th><th>source_id</th><th>random_index</th><th>ref_epoch</th><th>ra</th><th>ra_error</th><th>dec</th><th>dec_error</th><th>parallax</th><th>parallax_error</th><th>parallax_over_error</th><th>pmra</th><th>pmra_error</th><th>pmdec</th><th>pmdec_error</th><th>ra_dec_corr</th><th>ra_parallax_corr</th><th>ra_pmra_corr</th><th>ra_pmdec_corr</th><th>dec_parallax_corr</th><th>dec_pmra_corr</th><th>dec_pmdec_corr</th><th>parallax_pmra_corr</th><th>parallax_pmdec_corr</th><th>pmra_pmdec_corr</th><th>astrometric_n_obs_al</th><th>astrometric_n_obs_ac</th><th>astrometric_n_good_obs_al</th><th>astrometric_n_bad_obs_al</th><th>astrometric_gof_al</th><th>astrometric_chi2_al</th><th>astrometric_excess_noise</th><th>astrometric_excess_noise_sig</th><th>astrometric_params_solved</th><th>astrometric_primary_flag</th><th>astrometric_weight_al</th><th>astrometric_pseudo_colour</th><th>astrometric_pseudo_colour_error</th><th>mean_varpi_factor_al</th><th>astrometric_matched_observations</th><th>visibility_periods_used</th><th>astrometric_sigma5d_max</th><th>frame_rotator_object_type</th><th>matched_observations</th><th>duplicated_source</th><th>phot_g_n_obs</th><th>phot_g_mean_flux</th><th>phot_g_mean_flux_error</th><th>phot_g_mean_flux_over_error</th><th>phot_g_mean_mag</th><th>phot_bp_n_obs</th><th>phot_bp_mean_flux</th><th>phot_bp_mean_flux_error</th><th>phot_bp_mean_flux_over_error</th><th>phot_bp_mean_mag</th><th>phot_rp_n_obs</th><th>phot_rp_mean_flux</th><th>phot_rp_mean_flux_error</th><th>phot_rp_mean_flux_over_error</th><th>phot_rp_mean_mag</th><th>phot_bp_rp_excess_factor</th><th>phot_proc_mode</th><th>bp_rp</th><th>bp_g</th><th>g_rp</th><th>radial_velocity</th><th>radial_velocity_error</th><th>rv_nb_transits</th><th>rv_template_teff</th><th>rv_template_logg</th><th>rv_template_fe_h</th><th>phot_variable_flag</th><th>l</th><th>b</th><th>ecl_lon</th><th>ecl_lat</th><th>priam_flags</th><th>teff_val</th><th>teff_percentile_lower</th><th>teff_percentile_upper</th><th>a_g_val</th><th>a_g_percentile_lower</th><th>a_g_percentile_upper</th><th>e_bp_min_rp_val</th><th>e_bp_min_rp_percentile_lower</th><th>e_bp_min_rp_percentile_upper</th><th>flame_flags</th><th>radius_val</th><th>radius_percentile_lower</th><th>radius_percentile_upper</th><th>lum_val</th><th>lum_percentile_lower</th><th>lum_percentile_upper</th><th>datalink_url</th><th>dist</th></tr></thead>\n",
              "<thead><tr><th></th><th></th><th></th><th></th><th>yr</th><th>deg</th><th>mas</th><th>deg</th><th>mas</th><th>mas</th><th>mas</th><th></th><th>mas / yr</th><th>mas / yr</th><th>mas / yr</th><th>mas / yr</th><th></th><th></th><th></th><th></th><th></th><th></th><th></th><th></th><th></th><th></th><th></th><th></th><th></th><th></th><th></th><th></th><th>mas</th><th></th><th></th><th></th><th>1 / mas2</th><th>1 / um</th><th>1 / um</th><th></th><th></th><th></th><th>mas</th><th></th><th></th><th></th><th></th><th>electron / s</th><th>electron / s</th><th></th><th>mag</th><th></th><th>electron / s</th><th>electron / s</th><th></th><th>mag</th><th></th><th>electron / s</th><th>electron / s</th><th></th><th>mag</th><th></th><th></th><th>mag</th><th>mag</th><th>mag</th><th>km / s</th><th>km / s</th><th></th><th>K</th><th>log(cm.s**-2)</th><th>dex</th><th></th><th>deg</th><th>deg</th><th>deg</th><th>deg</th><th></th><th>K</th><th>K</th><th>K</th><th>mag</th><th>mag</th><th>mag</th><th>mag</th><th>mag</th><th>mag</th><th></th><th>solRad</th><th>solRad</th><th>solRad</th><th>solLum</th><th>solLum</th><th>solLum</th><th></th><th></th></tr></thead>\n",
              "<thead><tr><th>int64</th><th>object</th><th>int64</th><th>int64</th><th>float64</th><th>float64</th><th>float64</th><th>float64</th><th>float64</th><th>float64</th><th>float64</th><th>float32</th><th>float64</th><th>float64</th><th>float64</th><th>float64</th><th>float32</th><th>float32</th><th>float32</th><th>float32</th><th>float32</th><th>float32</th><th>float32</th><th>float32</th><th>float32</th><th>float32</th><th>int32</th><th>int32</th><th>int32</th><th>int32</th><th>float32</th><th>float32</th><th>float64</th><th>float64</th><th>int16</th><th>bool</th><th>float32</th><th>float64</th><th>float64</th><th>float32</th><th>int16</th><th>int16</th><th>float32</th><th>int32</th><th>int16</th><th>bool</th><th>int32</th><th>float64</th><th>float64</th><th>float32</th><th>float32</th><th>int32</th><th>float64</th><th>float64</th><th>float32</th><th>float32</th><th>int32</th><th>float64</th><th>float64</th><th>float32</th><th>float32</th><th>float32</th><th>int16</th><th>float32</th><th>float32</th><th>float32</th><th>float64</th><th>float64</th><th>int32</th><th>float32</th><th>float32</th><th>float32</th><th>object</th><th>float64</th><th>float64</th><th>float64</th><th>float64</th><th>int64</th><th>float32</th><th>float32</th><th>float32</th><th>float32</th><th>float32</th><th>float32</th><th>float32</th><th>float32</th><th>float32</th><th>int64</th><th>float32</th><th>float32</th><th>float32</th><th>float32</th><th>float32</th><th>float32</th><th>object</th><th>float64</th></tr></thead>\n",
              "<tr><td>1635721458409799680</td><td>Gaia DR2 573941431864200576</td><td>573941431864200576</td><td>83123185</td><td>2015.5</td><td>11.830261815824414</td><td>0.0542902667793964</td><td>85.24362670022514</td><td>0.042072395333520175</td><td>0.5157883765292425</td><td>0.05479372380616342</td><td>9.413275</td><td>-2.467045722266196</td><td>0.10926752585727999</td><td>-1.050994537936408</td><td>0.07743635218193472</td><td>-0.1009901</td><td>0.1395926</td><td>-0.3704649</td><td>0.08886854</td><td>0.23210102</td><td>0.02040666</td><td>0.04040181</td><td>0.004346489</td><td>0.4120766</td><td>-0.14762878</td><td>218</td><td>0</td><td>218</td><td>0</td><td>-0.35325864</td><td>205.14085</td><td>0.0</td><td>0.0</td><td>31</td><td>False</td><td>4.5962696</td><td>1.557349869368139</td><td>0.01295388655778083</td><td>0.023302104</td><td>25</td><td>17</td><td>0.10796351</td><td>0</td><td>28</td><td>False</td><td>242</td><td>4271.6310905308155</td><td>2.8860520946580523</td><td>1480.095</td><td>16.611881</td><td>24</td><td>2102.957721598712</td><td>7.879459656949609</td><td>266.8911</td><td>17.044312</td><td>24</td><td>3106.570736913345</td><td>8.954349540413443</td><td>346.93427</td><td>16.031218</td><td>1.2195642</td><td>0</td><td>1.013094</td><td>0.43243027</td><td>0.5806637</td><td>--</td><td>--</td><td>0</td><td>--</td><td>--</td><td>--</td><td>NOT_AVAILABLE</td><td>122.83963638206116</td><td>22.372614390347948</td><td>78.85637288274647</td><td>65.17038794976227</td><td>100001</td><td>5237.1167</td><td>5012.258</td><td>5333.6665</td><td>0.253</td><td>0.1349</td><td>0.4671</td><td>0.124</td><td>0.0622</td><td>0.2312</td><td>200111</td><td>0.99452305</td><td>0.9588433</td><td>1.0857568</td><td>0.6703374</td><td>0.5158293</td><td>0.82484543</td><td>https://gea.esac.esa.int/data-server/datalink/links?ID=Gaia+DR2+573941431864200576</td><td>0.002694749156617476</td></tr>\n",
              "<tr><td>1635721458409799680</td><td>Gaia DR2 573941431864201600</td><td>573941431864201600</td><td>1665699094</td><td>2015.5</td><td>11.775835255508628</td><td>0.03255906133591321</td><td>85.24193176004697</td><td>0.027086561349367863</td><td>0.5772543652723914</td><td>0.03540945862424966</td><td>16.302265</td><td>-2.516351668894645</td><td>0.06728157882155052</td><td>-0.8355545501783187</td><td>0.05060134245527206</td><td>0.022829035</td><td>0.15574564</td><td>-0.29094374</td><td>0.05084052</td><td>0.25366336</td><td>-0.048628293</td><td>0.021393212</td><td>-0.023129322</td><td>0.42344683</td><td>-0.104117535</td><td>233</td><td>0</td><td>231</td><td>2</td><td>-1.6161653</td><td>192.75159</td><td>0.0</td><td>0.0</td><td>31</td><td>False</td><td>10.77442</td><td>1.5646616336703763</td><td>0.008272146936510473</td><td>0.060870267</td><td>27</td><td>18</td><td>0.070587486</td><td>0</td><td>30</td><td>False</td><td>256</td><td>9357.6596686345</td><td>4.818032931995426</td><td>1942.2158</td><td>15.7604475</td><td>25</td><td>4752.927082754823</td><td>15.054817659689746</td><td>315.70804</td><td>16.158985</td><td>24</td><td>6655.120689326502</td><td>10.50548464033524</td><td>633.4901</td><td>15.20403</td><td>1.2191133</td><td>0</td><td>0.9549551</td><td>0.39853764</td><td>0.55641747</td><td>--</td><td>--</td><td>0</td><td>--</td><td>--</td><td>--</td><td>NOT_AVAILABLE</td><td>122.83472343503888</td><td>22.370999811976223</td><td>78.84860584435448</td><td>65.17393914385697</td><td>100001</td><td>5384.0</td><td>5346.0</td><td>5414.0</td><td>0.5352</td><td>0.2886</td><td>0.691</td><td>0.258</td><td>0.1486</td><td>0.3317</td><td>200111</td><td>1.2318983</td><td>1.2182838</td><td>1.2494735</td><td>1.1488534</td><td>0.9841743</td><td>1.3135326</td><td>https://gea.esac.esa.int/data-server/datalink/links?ID=Gaia+DR2+573941431864201600</td><td>0.0027722948164158523</td></tr>\n",
              "<tr><td>1635721458409799680</td><td>Gaia DR2 573941431864197120</td><td>573941431864197120</td><td>256862907</td><td>2015.5</td><td>11.781434275329108</td><td>0.07963884914040371</td><td>85.24714789288664</td><td>0.05920259078252469</td><td>0.5984132325327813</td><td>0.08208147042492284</td><td>7.290479</td><td>-2.690351051420921</td><td>0.1540489876044534</td><td>-0.7210521514030971</td><td>0.10919954925385483</td><td>-0.039468654</td><td>0.2447295</td><td>-0.33804035</td><td>0.15087152</td><td>0.29278407</td><td>0.030389212</td><td>0.10425539</td><td>0.009243301</td><td>0.4526151</td><td>-0.14346842</td><td>210</td><td>0</td><td>210</td><td>0</td><td>1.4499635</td><td>235.05234</td><td>0.0</td><td>0.0</td><td>31</td><td>False</td><td>2.4292986</td><td>1.498242026042472</td><td>0.01848213856080262</td><td>-0.009594446</td><td>24</td><td>17</td><td>0.14612228</td><td>0</td><td>27</td><td>False</td><td>234</td><td>2466.6279701447465</td><td>2.599225874419129</td><td>948.9856</td><td>17.208107</td><td>24</td><td>1101.8188256442295</td><td>8.25344305527599</td><td>133.49808</td><td>17.746113</td><td>24</td><td>1989.9316380689352</td><td>12.503504589189232</td><td>159.14992</td><td>16.514824</td><td>1.253432</td><td>0</td><td>1.2312889</td><td>0.5380058</td><td>0.6932831</td><td>--</td><td>--</td><td>0</td><td>--</td><td>--</td><td>--</td><td>NOT_AVAILABLE</td><td>122.8353277220614</td><td>22.37620665816959</td><td>78.86054184259172</td><td>65.17545892591663</td><td>--</td><td>--</td><td>--</td><td>--</td><td>--</td><td>--</td><td>--</td><td>--</td><td>--</td><td>--</td><td>--</td><td>--</td><td>--</td><td>--</td><td>--</td><td>--</td><td>--</td><td>https://gea.esac.esa.int/data-server/datalink/links?ID=Gaia+DR2+573941431864197120</td><td>0.003435658557906234</td></tr>\n",
              "<tr><td>1635721458409799680</td><td>Gaia DR2 573941431864196096</td><td>573941431864196096</td><td>1689450387</td><td>2015.5</td><td>11.796092281131761</td><td>0.03005695853992195</td><td>85.24947781526936</td><td>0.024898556353583335</td><td>0.5531336087156113</td><td>0.030428982635073338</td><td>18.177855</td><td>-2.398870491478188</td><td>0.060843746207649235</td><td>-0.7953811054060391</td><td>0.045657153813324795</td><td>-0.11435957</td><td>0.15684776</td><td>-0.3838259</td><td>0.098278664</td><td>0.15112942</td><td>0.028371004</td><td>0.05063265</td><td>0.00646433</td><td>0.3468768</td><td>-0.16702625</td><td>195</td><td>0</td><td>195</td><td>0</td><td>-0.8414681</td><td>173.43619</td><td>0.0</td><td>0.0</td><td>31</td><td>False</td><td>16.3068</td><td>1.59820994181792</td><td>0.007802163952954828</td><td>0.084746554</td><td>23</td><td>16</td><td>0.06746414</td><td>0</td><td>28</td><td>False</td><td>221</td><td>13376.731138367153</td><td>6.552496987555739</td><td>2041.4708</td><td>15.372491</td><td>25</td><td>7110.626386154973</td><td>16.847910110022795</td><td>422.04797</td><td>15.721619</td><td>25</td><td>9137.66285128843</td><td>12.949664215900093</td><td>705.62933</td><td>14.859832</td><td>1.2146682</td><td>0</td><td>0.86178684</td><td>0.34912777</td><td>0.5126591</td><td>--</td><td>--</td><td>0</td><td>--</td><td>--</td><td>--</td><td>NOT_AVAILABLE</td><td>122.83668594137689</td><td>22.378514365637066</td><td>78.86677021978068</td><td>65.17520399378152</td><td>100001</td><td>5796.0</td><td>5647.755</td><td>5993.475</td><td>0.432</td><td>0.325</td><td>0.6076</td><td>0.2228</td><td>0.1585</td><td>0.3426</td><td>200111</td><td>1.302418</td><td>1.2180068</td><td>1.3716885</td><td>1.724682</td><td>1.495258</td><td>1.954106</td><td>https://gea.esac.esa.int/data-server/datalink/links?ID=Gaia+DR2+573941431864196096</td><td>0.005478941573946177</td></tr>\n",
              "<tr><td>1635721458409799680</td><td>Gaia DR2 573941328784984320</td><td>573941328784984320</td><td>1217960386</td><td>2015.5</td><td>11.724758702696125</td><td>0.02017167340804222</td><td>85.24364992210644</td><td>0.019710713932749233</td><td>0.5082635115306529</td><td>0.025382825094664167</td><td>20.023914</td><td>-2.0711502731011304</td><td>0.04154874804601133</td><td>-1.1803518806591535</td><td>0.03280218118859211</td><td>0.10528822</td><td>0.18892504</td><td>-0.25181913</td><td>0.007050847</td><td>0.46076366</td><td>-0.14587024</td><td>-0.005444146</td><td>-0.11250865</td><td>0.42718706</td><td>-0.1379051</td><td>203</td><td>0</td><td>202</td><td>1</td><td>-1.0548509</td><td>176.17531</td><td>0.0</td><td>0.0</td><td>31</td><td>False</td><td>46.619564</td><td>1.6367386755856377</td><td>0.005118201288619628</td><td>0.02408776</td><td>23</td><td>16</td><td>0.047871336</td><td>0</td><td>27</td><td>False</td><td>236</td><td>37833.0976728576</td><td>15.69562449039211</td><td>2410.423</td><td>14.243686</td><td>24</td><td>22108.75851881349</td><td>49.23516984657353</td><td>449.044</td><td>14.489977</td><td>23</td><td>23761.759535360532</td><td>57.88051154668521</td><td>410.53125</td><td>13.822224</td><td>1.2124442</td><td>0</td><td>0.6677532</td><td>0.24629116</td><td>0.42146206</td><td>--</td><td>--</td><td>0</td><td>--</td><td>--</td><td>--</td><td>NOT_AVAILABLE</td><td>122.83017810381091</td><td>22.372796593195925</td><td>78.84863337085815</td><td>65.17851028400561</td><td>100001</td><td>6290.5</td><td>5991.25</td><td>6605.3335</td><td>1.317</td><td>0.9884</td><td>1.5007</td><td>0.657</td><td>0.45</td><td>0.7491</td><td>200111</td><td>2.0061138</td><td>1.8194344</td><td>2.2115207</td><td>5.677361</td><td>4.959057</td><td>6.395665</td><td>https://gea.esac.esa.int/data-server/datalink/links?ID=Gaia+DR2+573941328784984320</td><td>0.0060894295398141104</td></tr>\n",
              "<tr><td>1635721458409799680</td><td>Gaia DR2 573941324487641600</td><td>573941324487641600</td><td>657964719</td><td>2015.5</td><td>11.719951501560104</td><td>0.021184110357554818</td><td>85.24436556846314</td><td>0.020535231871745687</td><td>0.49615782194329944</td><td>0.024641889550915272</td><td>20.134731</td><td>-2.7290188233882215</td><td>0.0441783463666155</td><td>-0.6363330445687266</td><td>0.03526808489153847</td><td>0.06895384</td><td>0.1520592</td><td>-0.31448048</td><td>0.0025066691</td><td>0.35362884</td><td>-0.0885482</td><td>-0.080612704</td><td>-0.03653757</td><td>0.34931815</td><td>-0.0780285</td><td>218</td><td>0</td><td>217</td><td>1</td><td>-0.37410158</td><td>203.73978</td><td>0.0</td><td>0.0</td><td>31</td><td>False</td><td>28.741045</td><td>1.5907772349973919</td><td>0.005664772171433121</td><td>0.08134642</td><td>25</td><td>17</td><td>0.05072731</td><td>0</td><td>28</td><td>False</td><td>243</td><td>23582.17438762641</td><td>9.068500740144977</td><td>2600.449</td><td>14.7569065</td><td>9</td><td>12441.660723538238</td><td>44.76363313259798</td><td>277.94125</td><td>15.114192</td><td>9</td><td>16665.758176044597</td><td>47.67155869102945</td><td>349.5954</td><td>14.207357</td><td>1.2342975</td><td>0</td><td>0.9068346</td><td>0.3572855</td><td>0.5495491</td><td>--</td><td>--</td><td>0</td><td>--</td><td>--</td><td>--</td><td>NOT_AVAILABLE</td><td>122.82976194164998</td><td>22.373519721742348</td><td>78.84986085962589</td><td>65.17914706896663</td><td>100001</td><td>5369.5</td><td>5086.527</td><td>5822.17</td><td>--</td><td>--</td><td>--</td><td>--</td><td>--</td><td>--</td><td>200111</td><td>2.289626</td><td>1.9474328</td><td>2.5514646</td><td>3.92608</td><td>3.4280229</td><td>4.424137</td><td>https://gea.esac.esa.int/data-server/datalink/links?ID=Gaia+DR2+573941324487641600</td><td>0.006487618524726231</td></tr>\n",
              "<tr><td>1635721458409799680</td><td>Gaia DR2 573941427566934400</td><td>573941427566934400</td><td>1416041923</td><td>2015.5</td><td>11.767783483373126</td><td>0.064327925699059</td><td>85.25045643192475</td><td>0.051359702442331095</td><td>0.5854568254354121</td><td>0.0675799543338964</td><td>8.663173</td><td>-2.5044780776391873</td><td>0.132563618339509</td><td>-0.6386327518922068</td><td>0.09514893172905597</td><td>-0.109065354</td><td>0.10697851</td><td>-0.28744692</td><td>0.03948091</td><td>0.3063262</td><td>-0.053648278</td><td>0.12635121</td><td>-0.07334086</td><td>0.4511728</td><td>-0.19887204</td><td>208</td><td>0</td><td>204</td><td>4</td><td>1.2340153</td><td>223.92567</td><td>0.09293835783404326</td><td>0.2800709521901403</td><td>31</td><td>False</td><td>3.4404035</td><td>1.5092699575418485</td><td>0.015482233682135247</td><td>-0.01927079</td><td>24</td><td>16</td><td>0.12763342</td><td>0</td><td>28</td><td>False</td><td>231</td><td>3407.9795731309077</td><td>7.2242128974639</td><td>471.74408</td><td>16.857122</td><td>25</td><td>1490.1802380336699</td><td>23.372893400837068</td><td>63.75677</td><td>17.418291</td><td>23</td><td>2815.4660937365984</td><td>15.784307390115533</td><td>178.37122</td><td>16.138044</td><td>1.2634015</td><td>0</td><td>1.2802467</td><td>0.5611687</td><td>0.71907806</td><td>--</td><td>--</td><td>0</td><td>--</td><td>--</td><td>--</td><td>NOT_AVAILABLE</td><td>122.83417036160681</td><td>22.379535252043986</td><td>78.86684522885561</td><td>65.17774408275815</td><td>100001</td><td>4896.4</td><td>4712.8975</td><td>5044.143</td><td>0.7525</td><td>0.4826</td><td>0.8731</td><td>0.3505</td><td>0.2255</td><td>0.431</td><td>200111</td><td>0.9260632</td><td>0.8726088</td><td>0.99958193</td><td>0.44410276</td><td>0.33549923</td><td>0.5527063</td><td>https://gea.esac.esa.int/data-server/datalink/links?ID=Gaia+DR2+573941427566934400</td><td>0.006925934497601974</td></tr>\n",
              "<tr><td>1635721458409799680</td><td>Gaia DR2 573941328784984832</td><td>573941328784984832</td><td>125995411</td><td>2015.5</td><td>11.714628651927297</td><td>0.03155698547540242</td><td>85.24276162173139</td><td>0.02915600522149611</td><td>0.7116524311248976</td><td>0.03750185270586405</td><td>18.976461</td><td>-0.26566221404999757</td><td>0.06223407683251442</td><td>4.024849662318981</td><td>0.049183004035158094</td><td>0.1306975</td><td>0.25510216</td><td>-0.3010606</td><td>0.061658494</td><td>0.41389102</td><td>-0.086163715</td><td>0.026257982</td><td>-0.04236909</td><td>0.4103862</td><td>-0.07523677</td><td>211</td><td>0</td><td>210</td><td>1</td><td>-0.11318498</td><td>202.05573</td><td>0.0</td><td>0.0</td><td>31</td><td>False</td><td>13.57198</td><td>1.577337574902021</td><td>0.008073704305346563</td><td>0.04726479</td><td>24</td><td>17</td><td>0.06486789</td><td>0</td><td>27</td><td>False</td><td>236</td><td>11622.590122643336</td><td>6.663078661645559</td><td>1744.3273</td><td>15.525108</td><td>25</td><td>5978.95365481032</td><td>13.210201258292793</td><td>452.60126</td><td>15.909825</td><td>24</td><td>8329.155083289244</td><td>15.002393478088695</td><td>555.1884</td><td>14.960418</td><td>1.2310603</td><td>0</td><td>0.9494076</td><td>0.384717</td><td>0.5646906</td><td>--</td><td>--</td><td>0</td><td>--</td><td>--</td><td>--</td><td>NOT_AVAILABLE</td><td>122.82925145420333</td><td>22.371924537838378</td><td>78.84592354199623</td><td>65.17895830702167</td><td>100001</td><td>5305.25</td><td>5156.0</td><td>5753.395</td><td>0.405</td><td>0.206</td><td>0.571</td><td>0.1993</td><td>0.116</td><td>0.2726</td><td>200111</td><td>1.1528648</td><td>0.98026097</td><td>1.2205744</td><td>0.948582</td><td>0.83314115</td><td>1.0640229</td><td>https://gea.esac.esa.int/data-server/datalink/links?ID=Gaia+DR2+573941328784984832</td><td>0.007030038065367961</td></tr>\n",
              "<tr><td>1635721458409799680</td><td>Gaia DR2 573941431864200320</td><td>573941431864200320</td><td>976753702</td><td>2015.5</td><td>11.886495836660984</td><td>0.05365096452544829</td><td>85.24484397580716</td><td>0.0409236332225073</td><td>0.3996072855786896</td><td>0.05386710995044703</td><td>7.418391</td><td>-2.0671743022430373</td><td>0.10865856167781329</td><td>-0.9986757605558475</td><td>0.07625815783160737</td><td>-0.106513806</td><td>0.16525675</td><td>-0.40622833</td><td>0.132536</td><td>0.22481008</td><td>0.04756891</td><td>0.011816367</td><td>-0.024899986</td><td>0.42687657</td><td>-0.1773127</td><td>219</td><td>0</td><td>218</td><td>1</td><td>1.1965768</td><td>237.94542</td><td>0.0</td><td>0.0</td><td>31</td><td>False</td><td>4.891012</td><td>1.5451440788109638</td><td>0.012713243781278399</td><td>0.07121923</td><td>25</td><td>17</td><td>0.10861321</td><td>0</td><td>28</td><td>False</td><td>234</td><td>4529.755544921966</td><td>3.687602611717726</td><td>1228.3741</td><td>16.54818</td><td>27</td><td>2159.8495930205845</td><td>7.21078684079708</td><td>299.53036</td><td>17.01533</td><td>26</td><td>3385.9648537903113</td><td>8.355031160793429</td><td>405.2606</td><td>15.937714</td><td>1.2243077</td><td>0</td><td>1.0776157</td><td>0.46714973</td><td>0.610466</td><td>--</td><td>--</td><td>0</td><td>--</td><td>--</td><td>--</td><td>NOT_AVAILABLE</td><td>122.84469960622728</td><td>22.373753096006553</td><td>78.86322423617436</td><td>65.16652270935663</td><td>100001</td><td>5067.13</td><td>4988.84</td><td>5240.32</td><td>--</td><td>--</td><td>--</td><td>--</td><td>--</td><td>--</td><td>200111</td><td>1.4332061</td><td>1.3400381</td><td>1.4785417</td><td>1.2200009</td><td>0.86237645</td><td>1.5776253</td><td>https://gea.esac.esa.int/data-server/datalink/links?ID=Gaia+DR2+573941431864200320</td><td>0.007378603299580436</td></tr>\n",
              "<tr><td>...</td><td>...</td><td>...</td><td>...</td><td>...</td><td>...</td><td>...</td><td>...</td><td>...</td><td>...</td><td>...</td><td>...</td><td>...</td><td>...</td><td>...</td><td>...</td><td>...</td><td>...</td><td>...</td><td>...</td><td>...</td><td>...</td><td>...</td><td>...</td><td>...</td><td>...</td><td>...</td><td>...</td><td>...</td><td>...</td><td>...</td><td>...</td><td>...</td><td>...</td><td>...</td><td>...</td><td>...</td><td>...</td><td>...</td><td>...</td><td>...</td><td>...</td><td>...</td><td>...</td><td>...</td><td>...</td><td>...</td><td>...</td><td>...</td><td>...</td><td>...</td><td>...</td><td>...</td><td>...</td><td>...</td><td>...</td><td>...</td><td>...</td><td>...</td><td>...</td><td>...</td><td>...</td><td>...</td><td>...</td><td>...</td><td>...</td><td>...</td><td>...</td><td>...</td><td>...</td><td>...</td><td>...</td><td>...</td><td>...</td><td>...</td><td>...</td><td>...</td><td>...</td><td>...</td><td>...</td><td>...</td><td>...</td><td>...</td><td>...</td><td>...</td><td>...</td><td>...</td><td>...</td><td>...</td><td>...</td><td>...</td><td>...</td><td>...</td><td>...</td><td>...</td><td>...</td></tr>\n",
              "<tr><td>1635721458409799680</td><td>Gaia DR2 573990768152275200</td><td>573990768152275200</td><td>1136508951</td><td>2015.5</td><td>10.320971478418686</td><td>0.12305467824746023</td><td>85.72216301170288</td><td>0.10998334797519953</td><td>0.7541905834520071</td><td>0.13727025119946112</td><td>5.4942026</td><td>3.101023129520538</td><td>0.2666154334279003</td><td>-0.8813006058824834</td><td>0.21352241480253228</td><td>0.061380543</td><td>0.21921627</td><td>-0.22351864</td><td>0.03601524</td><td>0.14753534</td><td>-0.09695017</td><td>0.04682644</td><td>-0.19974142</td><td>0.37310228</td><td>-0.09119901</td><td>219</td><td>0</td><td>217</td><td>2</td><td>2.5325906</td><td>267.7624</td><td>0.32484890130030425</td><td>0.8925254310096343</td><td>31</td><td>False</td><td>0.7196179</td><td>1.4187641672513207</td><td>0.031762643334370275</td><td>0.08428274</td><td>25</td><td>18</td><td>0.24313655</td><td>0</td><td>27</td><td>False</td><td>233</td><td>1048.4728434880885</td><td>1.9194010606197525</td><td>546.25</td><td>18.136972</td><td>24</td><td>336.5070432169433</td><td>6.767884191362063</td><td>49.721157</td><td>19.033903</td><td>25</td><td>1062.3822192910893</td><td>12.983613302526184</td><td>81.82485</td><td>17.196218</td><td>1.334216</td><td>0</td><td>1.8376846</td><td>0.8969307</td><td>0.94075394</td><td>--</td><td>--</td><td>0</td><td>--</td><td>--</td><td>--</td><td>NOT_AVAILABLE</td><td>122.72649996213413</td><td>22.854463586404528</td><td>79.82607807199045</td><td>65.45152358910593</td><td>--</td><td>--</td><td>--</td><td>--</td><td>--</td><td>--</td><td>--</td><td>--</td><td>--</td><td>--</td><td>--</td><td>--</td><td>--</td><td>--</td><td>--</td><td>--</td><td>--</td><td>https://gea.esac.esa.int/data-server/datalink/links?ID=Gaia+DR2+573990768152275200</td><td>0.4920691254590745</td></tr>\n",
              "<tr><td>1635721458409799680</td><td>Gaia DR2 573736922700927872</td><td>573736922700927872</td><td>1647033176</td><td>2015.5</td><td>15.69825294665881</td><td>0.05005787442105478</td><td>84.88356079155744</td><td>0.037657883503873606</td><td>0.3229844343418732</td><td>0.04562797687771141</td><td>7.078649</td><td>-0.41622610147721173</td><td>0.10164562279603288</td><td>0.8842855086774297</td><td>0.07914031288449043</td><td>0.022517353</td><td>0.11185285</td><td>-0.34796023</td><td>0.067659646</td><td>0.07424968</td><td>0.05086785</td><td>-0.1564063</td><td>-0.11204782</td><td>0.07433679</td><td>0.019203493</td><td>226</td><td>0</td><td>226</td><td>0</td><td>0.39425433</td><td>228.71</td><td>0.0</td><td>0.0</td><td>31</td><td>False</td><td>4.870388</td><td>1.5720022640845517</td><td>0.012157335423406693</td><td>-0.009883558</td><td>26</td><td>19</td><td>0.101852134</td><td>0</td><td>29</td><td>False</td><td>251</td><td>4693.691907507495</td><td>2.8771122691751407</td><td>1631.3899</td><td>16.509579</td><td>27</td><td>2400.238900197224</td><td>12.755439918129092</td><td>188.17375</td><td>16.900751</td><td>27</td><td>3325.895216314367</td><td>11.707027856127615</td><td>284.0939</td><td>15.957149</td><td>1.2199638</td><td>0</td><td>0.94360256</td><td>0.3911724</td><td>0.55243015</td><td>--</td><td>--</td><td>0</td><td>--</td><td>--</td><td>--</td><td>NOT_AVAILABLE</td><td>123.20488766601939</td><td>22.017830166794138</td><td>78.40226962446589</td><td>64.71954162253314</td><td>100001</td><td>5488.5</td><td>5337.47</td><td>5929.043</td><td>--</td><td>--</td><td>--</td><td>--</td><td>--</td><td>--</td><td>--</td><td>--</td><td>--</td><td>--</td><td>--</td><td>--</td><td>--</td><td>https://gea.esac.esa.int/data-server/datalink/links?ID=Gaia+DR2+573736922700927872</td><td>0.49229068413642485</td></tr>\n",
              "<tr><td>1635721458409799680</td><td>Gaia DR2 573613807461713280</td><td>573613807461713280</td><td>1612304948</td><td>2015.5</td><td>6.313939791676859</td><td>0.15042005161105124</td><td>85.07463515471987</td><td>0.14635073726521095</td><td>0.5881925372744126</td><td>0.1552637340678686</td><td>3.7883446</td><td>-2.1462228307188087</td><td>0.304311699831569</td><td>3.598059488160355</td><td>0.25937802933043236</td><td>0.24953131</td><td>0.14755227</td><td>-0.42699945</td><td>-0.15956886</td><td>0.12871726</td><td>-0.24488848</td><td>-0.3347946</td><td>-0.087159</td><td>0.30204788</td><td>0.15697353</td><td>243</td><td>0</td><td>242</td><td>1</td><td>1.1944337</td><td>263.2517</td><td>0.25917653493693243</td><td>0.3612042786721753</td><td>31</td><td>False</td><td>0.4733042</td><td>1.4713274106321526</td><td>0.039149216379252796</td><td>0.023459159</td><td>28</td><td>18</td><td>0.2928452</td><td>0</td><td>32</td><td>False</td><td>274</td><td>662.7875954145818</td><td>1.43347927521422</td><td>462.36288</td><td>18.63493</td><td>29</td><td>286.3969448958757</td><td>6.999185784325237</td><td>40.91861</td><td>19.208967</td><td>30</td><td>604.2847024066974</td><td>11.72333447074359</td><td>51.545464</td><td>17.808817</td><td>1.3438418</td><td>0</td><td>1.4001503</td><td>0.57403755</td><td>0.82611275</td><td>--</td><td>--</td><td>0</td><td>--</td><td>--</td><td>--</td><td>NOT_AVAILABLE</td><td>122.32610036546316</td><td>22.233712581197736</td><td>78.10049421872641</td><td>65.55214037663227</td><td>--</td><td>--</td><td>--</td><td>--</td><td>--</td><td>--</td><td>--</td><td>--</td><td>--</td><td>--</td><td>--</td><td>--</td><td>--</td><td>--</td><td>--</td><td>--</td><td>--</td><td>https://gea.esac.esa.int/data-server/datalink/links?ID=Gaia+DR2+573613807461713280</td><td>0.49256825495589757</td></tr>\n",
              "<tr><td>1635721458409799680</td><td>Gaia DR2 573620129653640064</td><td>573620129653640064</td><td>1519990680</td><td>2015.5</td><td>6.028502571508926</td><td>0.8524521481315642</td><td>85.14704593647764</td><td>0.7404521977583062</td><td>-2.9032512522042095</td><td>0.9222962330569145</td><td>-3.1478512</td><td>7.967587417568481</td><td>1.6202675819238528</td><td>-9.131999062437197</td><td>1.4123621005864768</td><td>0.15141031</td><td>0.2800388</td><td>-0.28099415</td><td>0.009914415</td><td>0.12277235</td><td>-0.117447264</td><td>-0.089420125</td><td>-0.17496675</td><td>0.34823105</td><td>0.079391256</td><td>237</td><td>0</td><td>236</td><td>1</td><td>58.76104</td><td>5189.057</td><td>7.932959674657857</td><td>234.99508762500204</td><td>31</td><td>False</td><td>0.014943802</td><td>1.8540572922950023</td><td>0.18868299656312224</td><td>0.04905678</td><td>27</td><td>18</td><td>1.4678446</td><td>0</td><td>31</td><td>False</td><td>272</td><td>507.3508597728159</td><td>2.657103863277855</td><td>190.9413</td><td>18.925095</td><td>28</td><td>163.67764420666654</td><td>7.1151846342576395</td><td>23.003992</td><td>19.816414</td><td>30</td><td>627.806732248431</td><td>11.27262572930664</td><td>55.693035</td><td>17.767355</td><td>1.5600336</td><td>0</td><td>2.049059</td><td>0.8913193</td><td>1.1577396</td><td>--</td><td>--</td><td>0</td><td>--</td><td>--</td><td>--</td><td>NOT_AVAILABLE</td><td>122.30874198082878</td><td>22.308392385114164</td><td>78.25078014409534</td><td>65.59656003884497</td><td>--</td><td>--</td><td>--</td><td>--</td><td>--</td><td>--</td><td>--</td><td>--</td><td>--</td><td>--</td><td>--</td><td>--</td><td>--</td><td>--</td><td>--</td><td>--</td><td>--</td><td>https://gea.esac.esa.int/data-server/datalink/links?ID=Gaia+DR2+573620129653640064</td><td>0.4926424923166031</td></tr>\n",
              "<tr><td>1635721458409799680</td><td>Gaia DR2 573362161035070080</td><td>573362161035070080</td><td>292640465</td><td>2015.5</td><td>12.657782188623468</td><td>0.05847216508260833</td><td>84.75705218473877</td><td>0.03842891352109122</td><td>0.5349632736743997</td><td>0.058233248732753776</td><td>9.186561</td><td>0.046231623340173444</td><td>0.1429892587685088</td><td>1.48478021968848</td><td>0.07257230029814564</td><td>0.11047872</td><td>-0.05846929</td><td>0.4195068</td><td>-0.0383836</td><td>0.20322575</td><td>-0.042853713</td><td>0.08961038</td><td>-0.37977612</td><td>0.46010122</td><td>-0.17550838</td><td>199</td><td>0</td><td>198</td><td>1</td><td>-0.42417046</td><td>184.13889</td><td>0.0</td><td>0.0</td><td>31</td><td>False</td><td>5.645449</td><td>1.5779926766433467</td><td>0.010483360940184117</td><td>0.1286874</td><td>23</td><td>15</td><td>0.13970736</td><td>0</td><td>26</td><td>False</td><td>222</td><td>5454.7761698375</td><td>3.766615384896933</td><td>1448.1904</td><td>16.346424</td><td>22</td><td>2784.9921777209233</td><td>20.70565420803392</td><td>134.50395</td><td>16.739328</td><td>18</td><td>4066.329862838379</td><td>22.092376093779343</td><td>184.06032</td><td>15.738914</td><td>1.2560226</td><td>0</td><td>1.0004148</td><td>0.39290428</td><td>0.60751057</td><td>--</td><td>--</td><td>0</td><td>--</td><td>--</td><td>--</td><td>NOT_AVAILABLE</td><td>122.9120576364733</td><td>21.885333299327872</td><td>77.86029234680744</td><td>64.91483466595307</td><td>100001</td><td>5327.25</td><td>5133.105</td><td>5448.44</td><td>0.454</td><td>0.2622</td><td>0.603</td><td>0.2175</td><td>0.138</td><td>0.2931</td><td>200111</td><td>1.0404274</td><td>0.9946576</td><td>1.1206181</td><td>0.7854718</td><td>0.6013714</td><td>0.9695722</td><td>https://gea.esac.esa.int/data-server/datalink/links?ID=Gaia+DR2+573362161035070080</td><td>0.49266535775383263</td></tr>\n",
              "<tr><td>1635721458409799680</td><td>Gaia DR2 573613811756806912</td><td>573613811756806912</td><td>1005348910</td><td>2015.5</td><td>6.285278104672347</td><td>0.07812031118356667</td><td>85.08022388893674</td><td>0.07007175695082027</td><td>6.297637651033577</td><td>0.06165532877970262</td><td>102.14263</td><td>-15.78571715880253</td><td>0.142207715480852</td><td>-12.464626617226685</td><td>0.11724051848890095</td><td>-0.49895784</td><td>0.22174537</td><td>-0.46796557</td><td>0.39713025</td><td>0.2093082</td><td>0.31044334</td><td>-0.6810137</td><td>-0.05065811</td><td>0.07416155</td><td>-0.46975213</td><td>150</td><td>0</td><td>149</td><td>1</td><td>14.185733</td><td>542.20184</td><td>0.3590681747828094</td><td>18.377686006416543</td><td>31</td><td>False</td><td>6.0290527</td><td>1.3944944450996062</td><td>0.013926700418830849</td><td>0.20857027</td><td>17</td><td>10</td><td>0.16319205</td><td>0</td><td>30</td><td>False</td><td>169</td><td>24810.70974948183</td><td>26.82014742131246</td><td>925.07733</td><td>14.701768</td><td>0</td><td>--</td><td>--</td><td>--</td><td>--</td><td>0</td><td>--</td><td>--</td><td>--</td><td>--</td><td>--</td><td>2</td><td>--</td><td>--</td><td>--</td><td>--</td><td>--</td><td>0</td><td>--</td><td>--</td><td>--</td><td>NOT_AVAILABLE</td><td>122.32412259743266</td><td>22.239537649300853</td><td>78.1116415337905</td><td>65.55614060715985</td><td>--</td><td>--</td><td>--</td><td>--</td><td>--</td><td>--</td><td>--</td><td>--</td><td>--</td><td>--</td><td>--</td><td>--</td><td>--</td><td>--</td><td>--</td><td>--</td><td>--</td><td>https://gea.esac.esa.int/data-server/datalink/links?ID=Gaia+DR2+573613811756806912</td><td>0.4927040256058703</td></tr>\n",
              "<tr><td>1635721458409799680</td><td>Gaia DR2 573564982274524160</td><td>573564982274524160</td><td>660880728</td><td>2015.5</td><td>7.468806071173541</td><td>0.056378407567855865</td><td>84.91959819677118</td><td>0.048124996986922894</td><td>0.5656458423607171</td><td>0.054922619816003444</td><td>10.29896</td><td>4.379539326812102</td><td>0.1415369754233177</td><td>-0.5918034234112484</td><td>0.09394371521646583</td><td>0.17828257</td><td>0.08445429</td><td>-0.04890473</td><td>-0.23344071</td><td>-0.05127349</td><td>-0.29564944</td><td>-0.2715415</td><td>-0.08988896</td><td>0.20883076</td><td>0.10237112</td><td>177</td><td>0</td><td>175</td><td>2</td><td>-0.10287132</td><td>167.44934</td><td>0.0</td><td>0.0</td><td>31</td><td>False</td><td>4.8762083</td><td>1.52167514044258</td><td>0.01480386641785779</td><td>0.041885678</td><td>20</td><td>15</td><td>0.13622719</td><td>0</td><td>24</td><td>False</td><td>207</td><td>4672.436515832472</td><td>3.1315902438393</td><td>1492.0332</td><td>16.514507</td><td>22</td><td>2225.144554646618</td><td>11.504471415675612</td><td>193.41563</td><td>16.982992</td><td>23</td><td>3516.567337800467</td><td>11.105278670533604</td><td>316.6573</td><td>15.896623</td><td>1.2288475</td><td>0</td><td>1.0863695</td><td>0.46848488</td><td>0.61788464</td><td>--</td><td>--</td><td>0</td><td>--</td><td>--</td><td>--</td><td>NOT_AVAILABLE</td><td>122.41756709142227</td><td>22.069396715700027</td><td>77.81959879366944</td><td>65.40865756568874</td><td>100001</td><td>5031.5</td><td>4879.0</td><td>5079.7197</td><td>0.451</td><td>0.2599</td><td>0.5857</td><td>0.225</td><td>0.1285</td><td>0.304</td><td>200111</td><td>1.0466992</td><td>1.0269216</td><td>1.1131538</td><td>0.63259876</td><td>0.4993692</td><td>0.7658283</td><td>https://gea.esac.esa.int/data-server/datalink/links?ID=Gaia+DR2+573564982274524160</td><td>0.49273226470263354</td></tr>\n",
              "<tr><td>1635721458409799680</td><td>Gaia DR2 573559038039720832</td><td>573559038039720832</td><td>723973680</td><td>2015.5</td><td>9.007331755849991</td><td>0.1902913861891529</td><td>84.81444405152898</td><td>0.17257467751229807</td><td>0.8914641696833056</td><td>0.21604707544309826</td><td>4.12625</td><td>3.2932274054391906</td><td>0.40892704124658846</td><td>-4.528286946981423</td><td>0.3577487713656992</td><td>0.17571437</td><td>0.14518678</td><td>-0.04762778</td><td>0.020338394</td><td>0.013873932</td><td>-0.032291908</td><td>0.026532926</td><td>-0.232044</td><td>0.30229986</td><td>0.021846123</td><td>194</td><td>0</td><td>193</td><td>1</td><td>1.1456586</td><td>210.38226</td><td>0.0</td><td>1.46573774807563e-15</td><td>31</td><td>False</td><td>0.3304983</td><td>1.360306070275319</td><td>0.05538381644883167</td><td>-0.009855494</td><td>22</td><td>16</td><td>0.3628227</td><td>0</td><td>25</td><td>False</td><td>219</td><td>549.1861914363111</td><td>1.5514012071958403</td><td>353.99365</td><td>18.839067</td><td>24</td><td>165.45201857100642</td><td>8.27080675526794</td><td>20.00434</td><td>19.804708</td><td>24</td><td>559.1395098372885</td><td>8.259821000821258</td><td>67.6939</td><td>17.89312</td><td>1.3193914</td><td>0</td><td>1.9115887</td><td>0.965641</td><td>0.94594765</td><td>--</td><td>--</td><td>0</td><td>--</td><td>--</td><td>--</td><td>NOT_AVAILABLE</td><td>122.55681601435606</td><td>21.95392017004443</td><td>77.6917314438026</td><td>65.2438786358905</td><td>--</td><td>--</td><td>--</td><td>--</td><td>--</td><td>--</td><td>--</td><td>--</td><td>--</td><td>--</td><td>--</td><td>--</td><td>--</td><td>--</td><td>--</td><td>--</td><td>--</td><td>https://gea.esac.esa.int/data-server/datalink/links?ID=Gaia+DR2+573559038039720832</td><td>0.49282039832001484</td></tr>\n",
              "<tr><td>1635721458409799680</td><td>Gaia DR2 573613811759863936</td><td>573613811759863936</td><td>553336575</td><td>2015.5</td><td>6.283744030553248</td><td>0.5056838057313033</td><td>85.08002616892072</td><td>0.44719494272334825</td><td>4.813993389545033</td><td>0.5238780994208525</td><td>9.189148</td><td>-4.799970603471828</td><td>0.9982259619345536</td><td>-14.411967830658687</td><td>0.8219348273787305</td><td>0.17045923</td><td>0.19698443</td><td>-0.3690387</td><td>-0.12115712</td><td>0.17086202</td><td>-0.21862713</td><td>-0.23304017</td><td>-0.16295741</td><td>0.28001484</td><td>0.1352514</td><td>262</td><td>0</td><td>262</td><td>0</td><td>275.94174</td><td>194519.1</td><td>4.928959499632619</td><td>7142.856193817607</td><td>31</td><td>False</td><td>0.040081512</td><td>1.3616241090064376</td><td>0.11945138988808879</td><td>0.03740734</td><td>30</td><td>18</td><td>0.9285653</td><td>0</td><td>34</td><td>False</td><td>185</td><td>51963.74604830577</td><td>86.55898321884169</td><td>600.3276</td><td>13.899115</td><td>34</td><td>23658.06425129428</td><td>183.66580186246213</td><td>128.8104</td><td>14.41644</td><td>32</td><td>71403.46379516841</td><td>411.1922239540831</td><td>173.64984</td><td>12.627622</td><td>1.8293817</td><td>0</td><td>1.7888184</td><td>0.5173254</td><td>1.271493</td><td>--</td><td>--</td><td>0</td><td>--</td><td>--</td><td>--</td><td>NOT_AVAILABLE</td><td>122.32395780391866</td><td>22.239355616209693</td><td>78.11109119085253</td><td>65.55620799256903</td><td>102001</td><td>4460.0</td><td>3974.673</td><td>4910.6235</td><td>--</td><td>--</td><td>--</td><td>--</td><td>--</td><td>--</td><td>200111</td><td>0.5693444</td><td>0.46964693</td><td>0.7168725</td><td>0.115553804</td><td>0.090374455</td><td>0.14073315</td><td>https://gea.esac.esa.int/data-server/datalink/links?ID=Gaia+DR2+573613811759863936</td><td>0.4929004212146588</td></tr>\n",
              "<tr><td>1635721458409799680</td><td>Gaia DR2 573742793919410304</td><td>573742793919410304</td><td>1080895171</td><td>2015.5</td><td>16.03700723763828</td><td>0.18287399638011476</td><td>84.91080111853097</td><td>0.12402221208524873</td><td>-0.003941447914853585</td><td>0.16036984881158312</td><td>-0.024577238</td><td>-0.8011584491702973</td><td>0.36418524629251586</td><td>-2.698380466472464</td><td>0.24147667888216404</td><td>-0.055204727</td><td>0.05433097</td><td>-0.20102523</td><td>0.082956575</td><td>-0.030173551</td><td>0.08155648</td><td>-0.20051436</td><td>-0.22218384</td><td>0.12934706</td><td>0.007845329</td><td>218</td><td>0</td><td>218</td><td>0</td><td>-0.5162245</td><td>201.87798</td><td>0.0</td><td>0.0</td><td>31</td><td>False</td><td>0.45429575</td><td>1.5798437862066042</td><td>0.04031336391481021</td><td>-0.01020149</td><td>25</td><td>18</td><td>0.32706347</td><td>0</td><td>29</td><td>False</td><td>249</td><td>732.5404650652087</td><td>1.5669149192560172</td><td>467.50494</td><td>18.526287</td><td>28</td><td>351.392331512763</td><td>10.429868710509282</td><td>33.690964</td><td>18.986908</td><td>28</td><td>518.7056304422165</td><td>11.639032440167467</td><td>44.566044</td><td>17.974617</td><td>1.1877815</td><td>0</td><td>1.012291</td><td>0.46062088</td><td>0.5516701</td><td>--</td><td>--</td><td>0</td><td>--</td><td>--</td><td>--</td><td>NOT_AVAILABLE</td><td>123.23586928416063</td><td>22.046553856033064</td><td>78.49075050344742</td><td>64.70466567070477</td><td>--</td><td>--</td><td>--</td><td>--</td><td>--</td><td>--</td><td>--</td><td>--</td><td>--</td><td>--</td><td>--</td><td>--</td><td>--</td><td>--</td><td>--</td><td>--</td><td>--</td><td>https://gea.esac.esa.int/data-server/datalink/links?ID=Gaia+DR2+573742793919410304</td><td>0.49307171591580423</td></tr>\n",
              "</table></div>"
            ]
          },
          "metadata": {},
          "execution_count": 28
        }
      ]
    },
    {
      "cell_type": "code",
      "source": [
        "ngc188_table[cols].write('gaia_results.fits', overwrite = True)"
      ],
      "metadata": {
        "id": "4s9Z_MjV32SY"
      },
      "execution_count": 29,
      "outputs": []
    },
    {
      "cell_type": "code",
      "source": [
        "ngc188_table"
      ],
      "metadata": {
        "colab": {
          "base_uri": "https://localhost:8080/",
          "height": 1000
        },
        "id": "rahVBug07xwq",
        "outputId": "69bb9c53-54b1-4d16-a612-6e9943049778"
      },
      "execution_count": 30,
      "outputs": [
        {
          "output_type": "execute_result",
          "data": {
            "text/plain": [
              "<Table length=4954>\n",
              "    solution_id             DESIGNATION         ...          dist        \n",
              "                                                ...                      \n",
              "       int64                   object           ...        float64       \n",
              "------------------- --------------------------- ... ---------------------\n",
              "1635721458409799680 Gaia DR2 573941431864200576 ...  0.002694749156617476\n",
              "1635721458409799680 Gaia DR2 573941431864201600 ... 0.0027722948164158523\n",
              "1635721458409799680 Gaia DR2 573941431864197120 ...  0.003435658557906234\n",
              "1635721458409799680 Gaia DR2 573941431864196096 ...  0.005478941573946177\n",
              "1635721458409799680 Gaia DR2 573941328784984320 ... 0.0060894295398141104\n",
              "1635721458409799680 Gaia DR2 573941324487641600 ...  0.006487618524726231\n",
              "1635721458409799680 Gaia DR2 573941427566934400 ...  0.006925934497601974\n",
              "1635721458409799680 Gaia DR2 573941328784984832 ...  0.007030038065367961\n",
              "1635721458409799680 Gaia DR2 573941431864200320 ...  0.007378603299580436\n",
              "                ...                         ... ...                   ...\n",
              "1635721458409799680 Gaia DR2 573990768152275200 ...    0.4920691254590745\n",
              "1635721458409799680 Gaia DR2 573736922700927872 ...   0.49229068413642485\n",
              "1635721458409799680 Gaia DR2 573613807461713280 ...   0.49256825495589757\n",
              "1635721458409799680 Gaia DR2 573620129653640064 ...    0.4926424923166031\n",
              "1635721458409799680 Gaia DR2 573362161035070080 ...   0.49266535775383263\n",
              "1635721458409799680 Gaia DR2 573613811756806912 ...    0.4927040256058703\n",
              "1635721458409799680 Gaia DR2 573564982274524160 ...   0.49273226470263354\n",
              "1635721458409799680 Gaia DR2 573559038039720832 ...   0.49282039832001484\n",
              "1635721458409799680 Gaia DR2 573613811759863936 ...    0.4929004212146588\n",
              "1635721458409799680 Gaia DR2 573742793919410304 ...   0.49307171591580423"
            ],
            "text/html": [
              "<div><i>Table length=4954</i>\n",
              "<table id=\"table139844702863888\" class=\"table-striped table-bordered table-condensed\">\n",
              "<thead><tr><th>solution_id</th><th>DESIGNATION</th><th>source_id</th><th>random_index</th><th>ref_epoch</th><th>ra</th><th>ra_error</th><th>dec</th><th>dec_error</th><th>parallax</th><th>parallax_error</th><th>parallax_over_error</th><th>pmra</th><th>pmra_error</th><th>pmdec</th><th>pmdec_error</th><th>ra_dec_corr</th><th>ra_parallax_corr</th><th>ra_pmra_corr</th><th>ra_pmdec_corr</th><th>dec_parallax_corr</th><th>dec_pmra_corr</th><th>dec_pmdec_corr</th><th>parallax_pmra_corr</th><th>parallax_pmdec_corr</th><th>pmra_pmdec_corr</th><th>astrometric_n_obs_al</th><th>astrometric_n_obs_ac</th><th>astrometric_n_good_obs_al</th><th>astrometric_n_bad_obs_al</th><th>astrometric_gof_al</th><th>astrometric_chi2_al</th><th>astrometric_excess_noise</th><th>astrometric_excess_noise_sig</th><th>astrometric_params_solved</th><th>astrometric_primary_flag</th><th>astrometric_weight_al</th><th>astrometric_pseudo_colour</th><th>astrometric_pseudo_colour_error</th><th>mean_varpi_factor_al</th><th>astrometric_matched_observations</th><th>visibility_periods_used</th><th>astrometric_sigma5d_max</th><th>frame_rotator_object_type</th><th>matched_observations</th><th>duplicated_source</th><th>phot_g_n_obs</th><th>phot_g_mean_flux</th><th>phot_g_mean_flux_error</th><th>phot_g_mean_flux_over_error</th><th>phot_g_mean_mag</th><th>phot_bp_n_obs</th><th>phot_bp_mean_flux</th><th>phot_bp_mean_flux_error</th><th>phot_bp_mean_flux_over_error</th><th>phot_bp_mean_mag</th><th>phot_rp_n_obs</th><th>phot_rp_mean_flux</th><th>phot_rp_mean_flux_error</th><th>phot_rp_mean_flux_over_error</th><th>phot_rp_mean_mag</th><th>phot_bp_rp_excess_factor</th><th>phot_proc_mode</th><th>bp_rp</th><th>bp_g</th><th>g_rp</th><th>radial_velocity</th><th>radial_velocity_error</th><th>rv_nb_transits</th><th>rv_template_teff</th><th>rv_template_logg</th><th>rv_template_fe_h</th><th>phot_variable_flag</th><th>l</th><th>b</th><th>ecl_lon</th><th>ecl_lat</th><th>priam_flags</th><th>teff_val</th><th>teff_percentile_lower</th><th>teff_percentile_upper</th><th>a_g_val</th><th>a_g_percentile_lower</th><th>a_g_percentile_upper</th><th>e_bp_min_rp_val</th><th>e_bp_min_rp_percentile_lower</th><th>e_bp_min_rp_percentile_upper</th><th>flame_flags</th><th>radius_val</th><th>radius_percentile_lower</th><th>radius_percentile_upper</th><th>lum_val</th><th>lum_percentile_lower</th><th>lum_percentile_upper</th><th>datalink_url</th><th>dist</th></tr></thead>\n",
              "<thead><tr><th></th><th></th><th></th><th></th><th>yr</th><th>deg</th><th>mas</th><th>deg</th><th>mas</th><th>mas</th><th>mas</th><th></th><th>mas / yr</th><th>mas / yr</th><th>mas / yr</th><th>mas / yr</th><th></th><th></th><th></th><th></th><th></th><th></th><th></th><th></th><th></th><th></th><th></th><th></th><th></th><th></th><th></th><th></th><th>mas</th><th></th><th></th><th></th><th>1 / mas2</th><th>1 / um</th><th>1 / um</th><th></th><th></th><th></th><th>mas</th><th></th><th></th><th></th><th></th><th>electron / s</th><th>electron / s</th><th></th><th>mag</th><th></th><th>electron / s</th><th>electron / s</th><th></th><th>mag</th><th></th><th>electron / s</th><th>electron / s</th><th></th><th>mag</th><th></th><th></th><th>mag</th><th>mag</th><th>mag</th><th>km / s</th><th>km / s</th><th></th><th>K</th><th>log(cm.s**-2)</th><th>dex</th><th></th><th>deg</th><th>deg</th><th>deg</th><th>deg</th><th></th><th>K</th><th>K</th><th>K</th><th>mag</th><th>mag</th><th>mag</th><th>mag</th><th>mag</th><th>mag</th><th></th><th>solRad</th><th>solRad</th><th>solRad</th><th>solLum</th><th>solLum</th><th>solLum</th><th></th><th></th></tr></thead>\n",
              "<thead><tr><th>int64</th><th>object</th><th>int64</th><th>int64</th><th>float64</th><th>float64</th><th>float64</th><th>float64</th><th>float64</th><th>float64</th><th>float64</th><th>float32</th><th>float64</th><th>float64</th><th>float64</th><th>float64</th><th>float32</th><th>float32</th><th>float32</th><th>float32</th><th>float32</th><th>float32</th><th>float32</th><th>float32</th><th>float32</th><th>float32</th><th>int32</th><th>int32</th><th>int32</th><th>int32</th><th>float32</th><th>float32</th><th>float64</th><th>float64</th><th>int16</th><th>bool</th><th>float32</th><th>float64</th><th>float64</th><th>float32</th><th>int16</th><th>int16</th><th>float32</th><th>int32</th><th>int16</th><th>bool</th><th>int32</th><th>float64</th><th>float64</th><th>float32</th><th>float32</th><th>int32</th><th>float64</th><th>float64</th><th>float32</th><th>float32</th><th>int32</th><th>float64</th><th>float64</th><th>float32</th><th>float32</th><th>float32</th><th>int16</th><th>float32</th><th>float32</th><th>float32</th><th>float64</th><th>float64</th><th>int32</th><th>float32</th><th>float32</th><th>float32</th><th>object</th><th>float64</th><th>float64</th><th>float64</th><th>float64</th><th>int64</th><th>float32</th><th>float32</th><th>float32</th><th>float32</th><th>float32</th><th>float32</th><th>float32</th><th>float32</th><th>float32</th><th>int64</th><th>float32</th><th>float32</th><th>float32</th><th>float32</th><th>float32</th><th>float32</th><th>object</th><th>float64</th></tr></thead>\n",
              "<tr><td>1635721458409799680</td><td>Gaia DR2 573941431864200576</td><td>573941431864200576</td><td>83123185</td><td>2015.5</td><td>11.830261815824414</td><td>0.0542902667793964</td><td>85.24362670022514</td><td>0.042072395333520175</td><td>0.5157883765292425</td><td>0.05479372380616342</td><td>9.413275</td><td>-2.467045722266196</td><td>0.10926752585727999</td><td>-1.050994537936408</td><td>0.07743635218193472</td><td>-0.1009901</td><td>0.1395926</td><td>-0.3704649</td><td>0.08886854</td><td>0.23210102</td><td>0.02040666</td><td>0.04040181</td><td>0.004346489</td><td>0.4120766</td><td>-0.14762878</td><td>218</td><td>0</td><td>218</td><td>0</td><td>-0.35325864</td><td>205.14085</td><td>0.0</td><td>0.0</td><td>31</td><td>False</td><td>4.5962696</td><td>1.557349869368139</td><td>0.01295388655778083</td><td>0.023302104</td><td>25</td><td>17</td><td>0.10796351</td><td>0</td><td>28</td><td>False</td><td>242</td><td>4271.6310905308155</td><td>2.8860520946580523</td><td>1480.095</td><td>16.611881</td><td>24</td><td>2102.957721598712</td><td>7.879459656949609</td><td>266.8911</td><td>17.044312</td><td>24</td><td>3106.570736913345</td><td>8.954349540413443</td><td>346.93427</td><td>16.031218</td><td>1.2195642</td><td>0</td><td>1.013094</td><td>0.43243027</td><td>0.5806637</td><td>--</td><td>--</td><td>0</td><td>--</td><td>--</td><td>--</td><td>NOT_AVAILABLE</td><td>122.83963638206116</td><td>22.372614390347948</td><td>78.85637288274647</td><td>65.17038794976227</td><td>100001</td><td>5237.1167</td><td>5012.258</td><td>5333.6665</td><td>0.253</td><td>0.1349</td><td>0.4671</td><td>0.124</td><td>0.0622</td><td>0.2312</td><td>200111</td><td>0.99452305</td><td>0.9588433</td><td>1.0857568</td><td>0.6703374</td><td>0.5158293</td><td>0.82484543</td><td>https://gea.esac.esa.int/data-server/datalink/links?ID=Gaia+DR2+573941431864200576</td><td>0.002694749156617476</td></tr>\n",
              "<tr><td>1635721458409799680</td><td>Gaia DR2 573941431864201600</td><td>573941431864201600</td><td>1665699094</td><td>2015.5</td><td>11.775835255508628</td><td>0.03255906133591321</td><td>85.24193176004697</td><td>0.027086561349367863</td><td>0.5772543652723914</td><td>0.03540945862424966</td><td>16.302265</td><td>-2.516351668894645</td><td>0.06728157882155052</td><td>-0.8355545501783187</td><td>0.05060134245527206</td><td>0.022829035</td><td>0.15574564</td><td>-0.29094374</td><td>0.05084052</td><td>0.25366336</td><td>-0.048628293</td><td>0.021393212</td><td>-0.023129322</td><td>0.42344683</td><td>-0.104117535</td><td>233</td><td>0</td><td>231</td><td>2</td><td>-1.6161653</td><td>192.75159</td><td>0.0</td><td>0.0</td><td>31</td><td>False</td><td>10.77442</td><td>1.5646616336703763</td><td>0.008272146936510473</td><td>0.060870267</td><td>27</td><td>18</td><td>0.070587486</td><td>0</td><td>30</td><td>False</td><td>256</td><td>9357.6596686345</td><td>4.818032931995426</td><td>1942.2158</td><td>15.7604475</td><td>25</td><td>4752.927082754823</td><td>15.054817659689746</td><td>315.70804</td><td>16.158985</td><td>24</td><td>6655.120689326502</td><td>10.50548464033524</td><td>633.4901</td><td>15.20403</td><td>1.2191133</td><td>0</td><td>0.9549551</td><td>0.39853764</td><td>0.55641747</td><td>--</td><td>--</td><td>0</td><td>--</td><td>--</td><td>--</td><td>NOT_AVAILABLE</td><td>122.83472343503888</td><td>22.370999811976223</td><td>78.84860584435448</td><td>65.17393914385697</td><td>100001</td><td>5384.0</td><td>5346.0</td><td>5414.0</td><td>0.5352</td><td>0.2886</td><td>0.691</td><td>0.258</td><td>0.1486</td><td>0.3317</td><td>200111</td><td>1.2318983</td><td>1.2182838</td><td>1.2494735</td><td>1.1488534</td><td>0.9841743</td><td>1.3135326</td><td>https://gea.esac.esa.int/data-server/datalink/links?ID=Gaia+DR2+573941431864201600</td><td>0.0027722948164158523</td></tr>\n",
              "<tr><td>1635721458409799680</td><td>Gaia DR2 573941431864197120</td><td>573941431864197120</td><td>256862907</td><td>2015.5</td><td>11.781434275329108</td><td>0.07963884914040371</td><td>85.24714789288664</td><td>0.05920259078252469</td><td>0.5984132325327813</td><td>0.08208147042492284</td><td>7.290479</td><td>-2.690351051420921</td><td>0.1540489876044534</td><td>-0.7210521514030971</td><td>0.10919954925385483</td><td>-0.039468654</td><td>0.2447295</td><td>-0.33804035</td><td>0.15087152</td><td>0.29278407</td><td>0.030389212</td><td>0.10425539</td><td>0.009243301</td><td>0.4526151</td><td>-0.14346842</td><td>210</td><td>0</td><td>210</td><td>0</td><td>1.4499635</td><td>235.05234</td><td>0.0</td><td>0.0</td><td>31</td><td>False</td><td>2.4292986</td><td>1.498242026042472</td><td>0.01848213856080262</td><td>-0.009594446</td><td>24</td><td>17</td><td>0.14612228</td><td>0</td><td>27</td><td>False</td><td>234</td><td>2466.6279701447465</td><td>2.599225874419129</td><td>948.9856</td><td>17.208107</td><td>24</td><td>1101.8188256442295</td><td>8.25344305527599</td><td>133.49808</td><td>17.746113</td><td>24</td><td>1989.9316380689352</td><td>12.503504589189232</td><td>159.14992</td><td>16.514824</td><td>1.253432</td><td>0</td><td>1.2312889</td><td>0.5380058</td><td>0.6932831</td><td>--</td><td>--</td><td>0</td><td>--</td><td>--</td><td>--</td><td>NOT_AVAILABLE</td><td>122.8353277220614</td><td>22.37620665816959</td><td>78.86054184259172</td><td>65.17545892591663</td><td>--</td><td>--</td><td>--</td><td>--</td><td>--</td><td>--</td><td>--</td><td>--</td><td>--</td><td>--</td><td>--</td><td>--</td><td>--</td><td>--</td><td>--</td><td>--</td><td>--</td><td>https://gea.esac.esa.int/data-server/datalink/links?ID=Gaia+DR2+573941431864197120</td><td>0.003435658557906234</td></tr>\n",
              "<tr><td>1635721458409799680</td><td>Gaia DR2 573941431864196096</td><td>573941431864196096</td><td>1689450387</td><td>2015.5</td><td>11.796092281131761</td><td>0.03005695853992195</td><td>85.24947781526936</td><td>0.024898556353583335</td><td>0.5531336087156113</td><td>0.030428982635073338</td><td>18.177855</td><td>-2.398870491478188</td><td>0.060843746207649235</td><td>-0.7953811054060391</td><td>0.045657153813324795</td><td>-0.11435957</td><td>0.15684776</td><td>-0.3838259</td><td>0.098278664</td><td>0.15112942</td><td>0.028371004</td><td>0.05063265</td><td>0.00646433</td><td>0.3468768</td><td>-0.16702625</td><td>195</td><td>0</td><td>195</td><td>0</td><td>-0.8414681</td><td>173.43619</td><td>0.0</td><td>0.0</td><td>31</td><td>False</td><td>16.3068</td><td>1.59820994181792</td><td>0.007802163952954828</td><td>0.084746554</td><td>23</td><td>16</td><td>0.06746414</td><td>0</td><td>28</td><td>False</td><td>221</td><td>13376.731138367153</td><td>6.552496987555739</td><td>2041.4708</td><td>15.372491</td><td>25</td><td>7110.626386154973</td><td>16.847910110022795</td><td>422.04797</td><td>15.721619</td><td>25</td><td>9137.66285128843</td><td>12.949664215900093</td><td>705.62933</td><td>14.859832</td><td>1.2146682</td><td>0</td><td>0.86178684</td><td>0.34912777</td><td>0.5126591</td><td>--</td><td>--</td><td>0</td><td>--</td><td>--</td><td>--</td><td>NOT_AVAILABLE</td><td>122.83668594137689</td><td>22.378514365637066</td><td>78.86677021978068</td><td>65.17520399378152</td><td>100001</td><td>5796.0</td><td>5647.755</td><td>5993.475</td><td>0.432</td><td>0.325</td><td>0.6076</td><td>0.2228</td><td>0.1585</td><td>0.3426</td><td>200111</td><td>1.302418</td><td>1.2180068</td><td>1.3716885</td><td>1.724682</td><td>1.495258</td><td>1.954106</td><td>https://gea.esac.esa.int/data-server/datalink/links?ID=Gaia+DR2+573941431864196096</td><td>0.005478941573946177</td></tr>\n",
              "<tr><td>1635721458409799680</td><td>Gaia DR2 573941328784984320</td><td>573941328784984320</td><td>1217960386</td><td>2015.5</td><td>11.724758702696125</td><td>0.02017167340804222</td><td>85.24364992210644</td><td>0.019710713932749233</td><td>0.5082635115306529</td><td>0.025382825094664167</td><td>20.023914</td><td>-2.0711502731011304</td><td>0.04154874804601133</td><td>-1.1803518806591535</td><td>0.03280218118859211</td><td>0.10528822</td><td>0.18892504</td><td>-0.25181913</td><td>0.007050847</td><td>0.46076366</td><td>-0.14587024</td><td>-0.005444146</td><td>-0.11250865</td><td>0.42718706</td><td>-0.1379051</td><td>203</td><td>0</td><td>202</td><td>1</td><td>-1.0548509</td><td>176.17531</td><td>0.0</td><td>0.0</td><td>31</td><td>False</td><td>46.619564</td><td>1.6367386755856377</td><td>0.005118201288619628</td><td>0.02408776</td><td>23</td><td>16</td><td>0.047871336</td><td>0</td><td>27</td><td>False</td><td>236</td><td>37833.0976728576</td><td>15.69562449039211</td><td>2410.423</td><td>14.243686</td><td>24</td><td>22108.75851881349</td><td>49.23516984657353</td><td>449.044</td><td>14.489977</td><td>23</td><td>23761.759535360532</td><td>57.88051154668521</td><td>410.53125</td><td>13.822224</td><td>1.2124442</td><td>0</td><td>0.6677532</td><td>0.24629116</td><td>0.42146206</td><td>--</td><td>--</td><td>0</td><td>--</td><td>--</td><td>--</td><td>NOT_AVAILABLE</td><td>122.83017810381091</td><td>22.372796593195925</td><td>78.84863337085815</td><td>65.17851028400561</td><td>100001</td><td>6290.5</td><td>5991.25</td><td>6605.3335</td><td>1.317</td><td>0.9884</td><td>1.5007</td><td>0.657</td><td>0.45</td><td>0.7491</td><td>200111</td><td>2.0061138</td><td>1.8194344</td><td>2.2115207</td><td>5.677361</td><td>4.959057</td><td>6.395665</td><td>https://gea.esac.esa.int/data-server/datalink/links?ID=Gaia+DR2+573941328784984320</td><td>0.0060894295398141104</td></tr>\n",
              "<tr><td>1635721458409799680</td><td>Gaia DR2 573941324487641600</td><td>573941324487641600</td><td>657964719</td><td>2015.5</td><td>11.719951501560104</td><td>0.021184110357554818</td><td>85.24436556846314</td><td>0.020535231871745687</td><td>0.49615782194329944</td><td>0.024641889550915272</td><td>20.134731</td><td>-2.7290188233882215</td><td>0.0441783463666155</td><td>-0.6363330445687266</td><td>0.03526808489153847</td><td>0.06895384</td><td>0.1520592</td><td>-0.31448048</td><td>0.0025066691</td><td>0.35362884</td><td>-0.0885482</td><td>-0.080612704</td><td>-0.03653757</td><td>0.34931815</td><td>-0.0780285</td><td>218</td><td>0</td><td>217</td><td>1</td><td>-0.37410158</td><td>203.73978</td><td>0.0</td><td>0.0</td><td>31</td><td>False</td><td>28.741045</td><td>1.5907772349973919</td><td>0.005664772171433121</td><td>0.08134642</td><td>25</td><td>17</td><td>0.05072731</td><td>0</td><td>28</td><td>False</td><td>243</td><td>23582.17438762641</td><td>9.068500740144977</td><td>2600.449</td><td>14.7569065</td><td>9</td><td>12441.660723538238</td><td>44.76363313259798</td><td>277.94125</td><td>15.114192</td><td>9</td><td>16665.758176044597</td><td>47.67155869102945</td><td>349.5954</td><td>14.207357</td><td>1.2342975</td><td>0</td><td>0.9068346</td><td>0.3572855</td><td>0.5495491</td><td>--</td><td>--</td><td>0</td><td>--</td><td>--</td><td>--</td><td>NOT_AVAILABLE</td><td>122.82976194164998</td><td>22.373519721742348</td><td>78.84986085962589</td><td>65.17914706896663</td><td>100001</td><td>5369.5</td><td>5086.527</td><td>5822.17</td><td>--</td><td>--</td><td>--</td><td>--</td><td>--</td><td>--</td><td>200111</td><td>2.289626</td><td>1.9474328</td><td>2.5514646</td><td>3.92608</td><td>3.4280229</td><td>4.424137</td><td>https://gea.esac.esa.int/data-server/datalink/links?ID=Gaia+DR2+573941324487641600</td><td>0.006487618524726231</td></tr>\n",
              "<tr><td>1635721458409799680</td><td>Gaia DR2 573941427566934400</td><td>573941427566934400</td><td>1416041923</td><td>2015.5</td><td>11.767783483373126</td><td>0.064327925699059</td><td>85.25045643192475</td><td>0.051359702442331095</td><td>0.5854568254354121</td><td>0.0675799543338964</td><td>8.663173</td><td>-2.5044780776391873</td><td>0.132563618339509</td><td>-0.6386327518922068</td><td>0.09514893172905597</td><td>-0.109065354</td><td>0.10697851</td><td>-0.28744692</td><td>0.03948091</td><td>0.3063262</td><td>-0.053648278</td><td>0.12635121</td><td>-0.07334086</td><td>0.4511728</td><td>-0.19887204</td><td>208</td><td>0</td><td>204</td><td>4</td><td>1.2340153</td><td>223.92567</td><td>0.09293835783404326</td><td>0.2800709521901403</td><td>31</td><td>False</td><td>3.4404035</td><td>1.5092699575418485</td><td>0.015482233682135247</td><td>-0.01927079</td><td>24</td><td>16</td><td>0.12763342</td><td>0</td><td>28</td><td>False</td><td>231</td><td>3407.9795731309077</td><td>7.2242128974639</td><td>471.74408</td><td>16.857122</td><td>25</td><td>1490.1802380336699</td><td>23.372893400837068</td><td>63.75677</td><td>17.418291</td><td>23</td><td>2815.4660937365984</td><td>15.784307390115533</td><td>178.37122</td><td>16.138044</td><td>1.2634015</td><td>0</td><td>1.2802467</td><td>0.5611687</td><td>0.71907806</td><td>--</td><td>--</td><td>0</td><td>--</td><td>--</td><td>--</td><td>NOT_AVAILABLE</td><td>122.83417036160681</td><td>22.379535252043986</td><td>78.86684522885561</td><td>65.17774408275815</td><td>100001</td><td>4896.4</td><td>4712.8975</td><td>5044.143</td><td>0.7525</td><td>0.4826</td><td>0.8731</td><td>0.3505</td><td>0.2255</td><td>0.431</td><td>200111</td><td>0.9260632</td><td>0.8726088</td><td>0.99958193</td><td>0.44410276</td><td>0.33549923</td><td>0.5527063</td><td>https://gea.esac.esa.int/data-server/datalink/links?ID=Gaia+DR2+573941427566934400</td><td>0.006925934497601974</td></tr>\n",
              "<tr><td>1635721458409799680</td><td>Gaia DR2 573941328784984832</td><td>573941328784984832</td><td>125995411</td><td>2015.5</td><td>11.714628651927297</td><td>0.03155698547540242</td><td>85.24276162173139</td><td>0.02915600522149611</td><td>0.7116524311248976</td><td>0.03750185270586405</td><td>18.976461</td><td>-0.26566221404999757</td><td>0.06223407683251442</td><td>4.024849662318981</td><td>0.049183004035158094</td><td>0.1306975</td><td>0.25510216</td><td>-0.3010606</td><td>0.061658494</td><td>0.41389102</td><td>-0.086163715</td><td>0.026257982</td><td>-0.04236909</td><td>0.4103862</td><td>-0.07523677</td><td>211</td><td>0</td><td>210</td><td>1</td><td>-0.11318498</td><td>202.05573</td><td>0.0</td><td>0.0</td><td>31</td><td>False</td><td>13.57198</td><td>1.577337574902021</td><td>0.008073704305346563</td><td>0.04726479</td><td>24</td><td>17</td><td>0.06486789</td><td>0</td><td>27</td><td>False</td><td>236</td><td>11622.590122643336</td><td>6.663078661645559</td><td>1744.3273</td><td>15.525108</td><td>25</td><td>5978.95365481032</td><td>13.210201258292793</td><td>452.60126</td><td>15.909825</td><td>24</td><td>8329.155083289244</td><td>15.002393478088695</td><td>555.1884</td><td>14.960418</td><td>1.2310603</td><td>0</td><td>0.9494076</td><td>0.384717</td><td>0.5646906</td><td>--</td><td>--</td><td>0</td><td>--</td><td>--</td><td>--</td><td>NOT_AVAILABLE</td><td>122.82925145420333</td><td>22.371924537838378</td><td>78.84592354199623</td><td>65.17895830702167</td><td>100001</td><td>5305.25</td><td>5156.0</td><td>5753.395</td><td>0.405</td><td>0.206</td><td>0.571</td><td>0.1993</td><td>0.116</td><td>0.2726</td><td>200111</td><td>1.1528648</td><td>0.98026097</td><td>1.2205744</td><td>0.948582</td><td>0.83314115</td><td>1.0640229</td><td>https://gea.esac.esa.int/data-server/datalink/links?ID=Gaia+DR2+573941328784984832</td><td>0.007030038065367961</td></tr>\n",
              "<tr><td>1635721458409799680</td><td>Gaia DR2 573941431864200320</td><td>573941431864200320</td><td>976753702</td><td>2015.5</td><td>11.886495836660984</td><td>0.05365096452544829</td><td>85.24484397580716</td><td>0.0409236332225073</td><td>0.3996072855786896</td><td>0.05386710995044703</td><td>7.418391</td><td>-2.0671743022430373</td><td>0.10865856167781329</td><td>-0.9986757605558475</td><td>0.07625815783160737</td><td>-0.106513806</td><td>0.16525675</td><td>-0.40622833</td><td>0.132536</td><td>0.22481008</td><td>0.04756891</td><td>0.011816367</td><td>-0.024899986</td><td>0.42687657</td><td>-0.1773127</td><td>219</td><td>0</td><td>218</td><td>1</td><td>1.1965768</td><td>237.94542</td><td>0.0</td><td>0.0</td><td>31</td><td>False</td><td>4.891012</td><td>1.5451440788109638</td><td>0.012713243781278399</td><td>0.07121923</td><td>25</td><td>17</td><td>0.10861321</td><td>0</td><td>28</td><td>False</td><td>234</td><td>4529.755544921966</td><td>3.687602611717726</td><td>1228.3741</td><td>16.54818</td><td>27</td><td>2159.8495930205845</td><td>7.21078684079708</td><td>299.53036</td><td>17.01533</td><td>26</td><td>3385.9648537903113</td><td>8.355031160793429</td><td>405.2606</td><td>15.937714</td><td>1.2243077</td><td>0</td><td>1.0776157</td><td>0.46714973</td><td>0.610466</td><td>--</td><td>--</td><td>0</td><td>--</td><td>--</td><td>--</td><td>NOT_AVAILABLE</td><td>122.84469960622728</td><td>22.373753096006553</td><td>78.86322423617436</td><td>65.16652270935663</td><td>100001</td><td>5067.13</td><td>4988.84</td><td>5240.32</td><td>--</td><td>--</td><td>--</td><td>--</td><td>--</td><td>--</td><td>200111</td><td>1.4332061</td><td>1.3400381</td><td>1.4785417</td><td>1.2200009</td><td>0.86237645</td><td>1.5776253</td><td>https://gea.esac.esa.int/data-server/datalink/links?ID=Gaia+DR2+573941431864200320</td><td>0.007378603299580436</td></tr>\n",
              "<tr><td>...</td><td>...</td><td>...</td><td>...</td><td>...</td><td>...</td><td>...</td><td>...</td><td>...</td><td>...</td><td>...</td><td>...</td><td>...</td><td>...</td><td>...</td><td>...</td><td>...</td><td>...</td><td>...</td><td>...</td><td>...</td><td>...</td><td>...</td><td>...</td><td>...</td><td>...</td><td>...</td><td>...</td><td>...</td><td>...</td><td>...</td><td>...</td><td>...</td><td>...</td><td>...</td><td>...</td><td>...</td><td>...</td><td>...</td><td>...</td><td>...</td><td>...</td><td>...</td><td>...</td><td>...</td><td>...</td><td>...</td><td>...</td><td>...</td><td>...</td><td>...</td><td>...</td><td>...</td><td>...</td><td>...</td><td>...</td><td>...</td><td>...</td><td>...</td><td>...</td><td>...</td><td>...</td><td>...</td><td>...</td><td>...</td><td>...</td><td>...</td><td>...</td><td>...</td><td>...</td><td>...</td><td>...</td><td>...</td><td>...</td><td>...</td><td>...</td><td>...</td><td>...</td><td>...</td><td>...</td><td>...</td><td>...</td><td>...</td><td>...</td><td>...</td><td>...</td><td>...</td><td>...</td><td>...</td><td>...</td><td>...</td><td>...</td><td>...</td><td>...</td><td>...</td><td>...</td></tr>\n",
              "<tr><td>1635721458409799680</td><td>Gaia DR2 573990768152275200</td><td>573990768152275200</td><td>1136508951</td><td>2015.5</td><td>10.320971478418686</td><td>0.12305467824746023</td><td>85.72216301170288</td><td>0.10998334797519953</td><td>0.7541905834520071</td><td>0.13727025119946112</td><td>5.4942026</td><td>3.101023129520538</td><td>0.2666154334279003</td><td>-0.8813006058824834</td><td>0.21352241480253228</td><td>0.061380543</td><td>0.21921627</td><td>-0.22351864</td><td>0.03601524</td><td>0.14753534</td><td>-0.09695017</td><td>0.04682644</td><td>-0.19974142</td><td>0.37310228</td><td>-0.09119901</td><td>219</td><td>0</td><td>217</td><td>2</td><td>2.5325906</td><td>267.7624</td><td>0.32484890130030425</td><td>0.8925254310096343</td><td>31</td><td>False</td><td>0.7196179</td><td>1.4187641672513207</td><td>0.031762643334370275</td><td>0.08428274</td><td>25</td><td>18</td><td>0.24313655</td><td>0</td><td>27</td><td>False</td><td>233</td><td>1048.4728434880885</td><td>1.9194010606197525</td><td>546.25</td><td>18.136972</td><td>24</td><td>336.5070432169433</td><td>6.767884191362063</td><td>49.721157</td><td>19.033903</td><td>25</td><td>1062.3822192910893</td><td>12.983613302526184</td><td>81.82485</td><td>17.196218</td><td>1.334216</td><td>0</td><td>1.8376846</td><td>0.8969307</td><td>0.94075394</td><td>--</td><td>--</td><td>0</td><td>--</td><td>--</td><td>--</td><td>NOT_AVAILABLE</td><td>122.72649996213413</td><td>22.854463586404528</td><td>79.82607807199045</td><td>65.45152358910593</td><td>--</td><td>--</td><td>--</td><td>--</td><td>--</td><td>--</td><td>--</td><td>--</td><td>--</td><td>--</td><td>--</td><td>--</td><td>--</td><td>--</td><td>--</td><td>--</td><td>--</td><td>https://gea.esac.esa.int/data-server/datalink/links?ID=Gaia+DR2+573990768152275200</td><td>0.4920691254590745</td></tr>\n",
              "<tr><td>1635721458409799680</td><td>Gaia DR2 573736922700927872</td><td>573736922700927872</td><td>1647033176</td><td>2015.5</td><td>15.69825294665881</td><td>0.05005787442105478</td><td>84.88356079155744</td><td>0.037657883503873606</td><td>0.3229844343418732</td><td>0.04562797687771141</td><td>7.078649</td><td>-0.41622610147721173</td><td>0.10164562279603288</td><td>0.8842855086774297</td><td>0.07914031288449043</td><td>0.022517353</td><td>0.11185285</td><td>-0.34796023</td><td>0.067659646</td><td>0.07424968</td><td>0.05086785</td><td>-0.1564063</td><td>-0.11204782</td><td>0.07433679</td><td>0.019203493</td><td>226</td><td>0</td><td>226</td><td>0</td><td>0.39425433</td><td>228.71</td><td>0.0</td><td>0.0</td><td>31</td><td>False</td><td>4.870388</td><td>1.5720022640845517</td><td>0.012157335423406693</td><td>-0.009883558</td><td>26</td><td>19</td><td>0.101852134</td><td>0</td><td>29</td><td>False</td><td>251</td><td>4693.691907507495</td><td>2.8771122691751407</td><td>1631.3899</td><td>16.509579</td><td>27</td><td>2400.238900197224</td><td>12.755439918129092</td><td>188.17375</td><td>16.900751</td><td>27</td><td>3325.895216314367</td><td>11.707027856127615</td><td>284.0939</td><td>15.957149</td><td>1.2199638</td><td>0</td><td>0.94360256</td><td>0.3911724</td><td>0.55243015</td><td>--</td><td>--</td><td>0</td><td>--</td><td>--</td><td>--</td><td>NOT_AVAILABLE</td><td>123.20488766601939</td><td>22.017830166794138</td><td>78.40226962446589</td><td>64.71954162253314</td><td>100001</td><td>5488.5</td><td>5337.47</td><td>5929.043</td><td>--</td><td>--</td><td>--</td><td>--</td><td>--</td><td>--</td><td>--</td><td>--</td><td>--</td><td>--</td><td>--</td><td>--</td><td>--</td><td>https://gea.esac.esa.int/data-server/datalink/links?ID=Gaia+DR2+573736922700927872</td><td>0.49229068413642485</td></tr>\n",
              "<tr><td>1635721458409799680</td><td>Gaia DR2 573613807461713280</td><td>573613807461713280</td><td>1612304948</td><td>2015.5</td><td>6.313939791676859</td><td>0.15042005161105124</td><td>85.07463515471987</td><td>0.14635073726521095</td><td>0.5881925372744126</td><td>0.1552637340678686</td><td>3.7883446</td><td>-2.1462228307188087</td><td>0.304311699831569</td><td>3.598059488160355</td><td>0.25937802933043236</td><td>0.24953131</td><td>0.14755227</td><td>-0.42699945</td><td>-0.15956886</td><td>0.12871726</td><td>-0.24488848</td><td>-0.3347946</td><td>-0.087159</td><td>0.30204788</td><td>0.15697353</td><td>243</td><td>0</td><td>242</td><td>1</td><td>1.1944337</td><td>263.2517</td><td>0.25917653493693243</td><td>0.3612042786721753</td><td>31</td><td>False</td><td>0.4733042</td><td>1.4713274106321526</td><td>0.039149216379252796</td><td>0.023459159</td><td>28</td><td>18</td><td>0.2928452</td><td>0</td><td>32</td><td>False</td><td>274</td><td>662.7875954145818</td><td>1.43347927521422</td><td>462.36288</td><td>18.63493</td><td>29</td><td>286.3969448958757</td><td>6.999185784325237</td><td>40.91861</td><td>19.208967</td><td>30</td><td>604.2847024066974</td><td>11.72333447074359</td><td>51.545464</td><td>17.808817</td><td>1.3438418</td><td>0</td><td>1.4001503</td><td>0.57403755</td><td>0.82611275</td><td>--</td><td>--</td><td>0</td><td>--</td><td>--</td><td>--</td><td>NOT_AVAILABLE</td><td>122.32610036546316</td><td>22.233712581197736</td><td>78.10049421872641</td><td>65.55214037663227</td><td>--</td><td>--</td><td>--</td><td>--</td><td>--</td><td>--</td><td>--</td><td>--</td><td>--</td><td>--</td><td>--</td><td>--</td><td>--</td><td>--</td><td>--</td><td>--</td><td>--</td><td>https://gea.esac.esa.int/data-server/datalink/links?ID=Gaia+DR2+573613807461713280</td><td>0.49256825495589757</td></tr>\n",
              "<tr><td>1635721458409799680</td><td>Gaia DR2 573620129653640064</td><td>573620129653640064</td><td>1519990680</td><td>2015.5</td><td>6.028502571508926</td><td>0.8524521481315642</td><td>85.14704593647764</td><td>0.7404521977583062</td><td>-2.9032512522042095</td><td>0.9222962330569145</td><td>-3.1478512</td><td>7.967587417568481</td><td>1.6202675819238528</td><td>-9.131999062437197</td><td>1.4123621005864768</td><td>0.15141031</td><td>0.2800388</td><td>-0.28099415</td><td>0.009914415</td><td>0.12277235</td><td>-0.117447264</td><td>-0.089420125</td><td>-0.17496675</td><td>0.34823105</td><td>0.079391256</td><td>237</td><td>0</td><td>236</td><td>1</td><td>58.76104</td><td>5189.057</td><td>7.932959674657857</td><td>234.99508762500204</td><td>31</td><td>False</td><td>0.014943802</td><td>1.8540572922950023</td><td>0.18868299656312224</td><td>0.04905678</td><td>27</td><td>18</td><td>1.4678446</td><td>0</td><td>31</td><td>False</td><td>272</td><td>507.3508597728159</td><td>2.657103863277855</td><td>190.9413</td><td>18.925095</td><td>28</td><td>163.67764420666654</td><td>7.1151846342576395</td><td>23.003992</td><td>19.816414</td><td>30</td><td>627.806732248431</td><td>11.27262572930664</td><td>55.693035</td><td>17.767355</td><td>1.5600336</td><td>0</td><td>2.049059</td><td>0.8913193</td><td>1.1577396</td><td>--</td><td>--</td><td>0</td><td>--</td><td>--</td><td>--</td><td>NOT_AVAILABLE</td><td>122.30874198082878</td><td>22.308392385114164</td><td>78.25078014409534</td><td>65.59656003884497</td><td>--</td><td>--</td><td>--</td><td>--</td><td>--</td><td>--</td><td>--</td><td>--</td><td>--</td><td>--</td><td>--</td><td>--</td><td>--</td><td>--</td><td>--</td><td>--</td><td>--</td><td>https://gea.esac.esa.int/data-server/datalink/links?ID=Gaia+DR2+573620129653640064</td><td>0.4926424923166031</td></tr>\n",
              "<tr><td>1635721458409799680</td><td>Gaia DR2 573362161035070080</td><td>573362161035070080</td><td>292640465</td><td>2015.5</td><td>12.657782188623468</td><td>0.05847216508260833</td><td>84.75705218473877</td><td>0.03842891352109122</td><td>0.5349632736743997</td><td>0.058233248732753776</td><td>9.186561</td><td>0.046231623340173444</td><td>0.1429892587685088</td><td>1.48478021968848</td><td>0.07257230029814564</td><td>0.11047872</td><td>-0.05846929</td><td>0.4195068</td><td>-0.0383836</td><td>0.20322575</td><td>-0.042853713</td><td>0.08961038</td><td>-0.37977612</td><td>0.46010122</td><td>-0.17550838</td><td>199</td><td>0</td><td>198</td><td>1</td><td>-0.42417046</td><td>184.13889</td><td>0.0</td><td>0.0</td><td>31</td><td>False</td><td>5.645449</td><td>1.5779926766433467</td><td>0.010483360940184117</td><td>0.1286874</td><td>23</td><td>15</td><td>0.13970736</td><td>0</td><td>26</td><td>False</td><td>222</td><td>5454.7761698375</td><td>3.766615384896933</td><td>1448.1904</td><td>16.346424</td><td>22</td><td>2784.9921777209233</td><td>20.70565420803392</td><td>134.50395</td><td>16.739328</td><td>18</td><td>4066.329862838379</td><td>22.092376093779343</td><td>184.06032</td><td>15.738914</td><td>1.2560226</td><td>0</td><td>1.0004148</td><td>0.39290428</td><td>0.60751057</td><td>--</td><td>--</td><td>0</td><td>--</td><td>--</td><td>--</td><td>NOT_AVAILABLE</td><td>122.9120576364733</td><td>21.885333299327872</td><td>77.86029234680744</td><td>64.91483466595307</td><td>100001</td><td>5327.25</td><td>5133.105</td><td>5448.44</td><td>0.454</td><td>0.2622</td><td>0.603</td><td>0.2175</td><td>0.138</td><td>0.2931</td><td>200111</td><td>1.0404274</td><td>0.9946576</td><td>1.1206181</td><td>0.7854718</td><td>0.6013714</td><td>0.9695722</td><td>https://gea.esac.esa.int/data-server/datalink/links?ID=Gaia+DR2+573362161035070080</td><td>0.49266535775383263</td></tr>\n",
              "<tr><td>1635721458409799680</td><td>Gaia DR2 573613811756806912</td><td>573613811756806912</td><td>1005348910</td><td>2015.5</td><td>6.285278104672347</td><td>0.07812031118356667</td><td>85.08022388893674</td><td>0.07007175695082027</td><td>6.297637651033577</td><td>0.06165532877970262</td><td>102.14263</td><td>-15.78571715880253</td><td>0.142207715480852</td><td>-12.464626617226685</td><td>0.11724051848890095</td><td>-0.49895784</td><td>0.22174537</td><td>-0.46796557</td><td>0.39713025</td><td>0.2093082</td><td>0.31044334</td><td>-0.6810137</td><td>-0.05065811</td><td>0.07416155</td><td>-0.46975213</td><td>150</td><td>0</td><td>149</td><td>1</td><td>14.185733</td><td>542.20184</td><td>0.3590681747828094</td><td>18.377686006416543</td><td>31</td><td>False</td><td>6.0290527</td><td>1.3944944450996062</td><td>0.013926700418830849</td><td>0.20857027</td><td>17</td><td>10</td><td>0.16319205</td><td>0</td><td>30</td><td>False</td><td>169</td><td>24810.70974948183</td><td>26.82014742131246</td><td>925.07733</td><td>14.701768</td><td>0</td><td>--</td><td>--</td><td>--</td><td>--</td><td>0</td><td>--</td><td>--</td><td>--</td><td>--</td><td>--</td><td>2</td><td>--</td><td>--</td><td>--</td><td>--</td><td>--</td><td>0</td><td>--</td><td>--</td><td>--</td><td>NOT_AVAILABLE</td><td>122.32412259743266</td><td>22.239537649300853</td><td>78.1116415337905</td><td>65.55614060715985</td><td>--</td><td>--</td><td>--</td><td>--</td><td>--</td><td>--</td><td>--</td><td>--</td><td>--</td><td>--</td><td>--</td><td>--</td><td>--</td><td>--</td><td>--</td><td>--</td><td>--</td><td>https://gea.esac.esa.int/data-server/datalink/links?ID=Gaia+DR2+573613811756806912</td><td>0.4927040256058703</td></tr>\n",
              "<tr><td>1635721458409799680</td><td>Gaia DR2 573564982274524160</td><td>573564982274524160</td><td>660880728</td><td>2015.5</td><td>7.468806071173541</td><td>0.056378407567855865</td><td>84.91959819677118</td><td>0.048124996986922894</td><td>0.5656458423607171</td><td>0.054922619816003444</td><td>10.29896</td><td>4.379539326812102</td><td>0.1415369754233177</td><td>-0.5918034234112484</td><td>0.09394371521646583</td><td>0.17828257</td><td>0.08445429</td><td>-0.04890473</td><td>-0.23344071</td><td>-0.05127349</td><td>-0.29564944</td><td>-0.2715415</td><td>-0.08988896</td><td>0.20883076</td><td>0.10237112</td><td>177</td><td>0</td><td>175</td><td>2</td><td>-0.10287132</td><td>167.44934</td><td>0.0</td><td>0.0</td><td>31</td><td>False</td><td>4.8762083</td><td>1.52167514044258</td><td>0.01480386641785779</td><td>0.041885678</td><td>20</td><td>15</td><td>0.13622719</td><td>0</td><td>24</td><td>False</td><td>207</td><td>4672.436515832472</td><td>3.1315902438393</td><td>1492.0332</td><td>16.514507</td><td>22</td><td>2225.144554646618</td><td>11.504471415675612</td><td>193.41563</td><td>16.982992</td><td>23</td><td>3516.567337800467</td><td>11.105278670533604</td><td>316.6573</td><td>15.896623</td><td>1.2288475</td><td>0</td><td>1.0863695</td><td>0.46848488</td><td>0.61788464</td><td>--</td><td>--</td><td>0</td><td>--</td><td>--</td><td>--</td><td>NOT_AVAILABLE</td><td>122.41756709142227</td><td>22.069396715700027</td><td>77.81959879366944</td><td>65.40865756568874</td><td>100001</td><td>5031.5</td><td>4879.0</td><td>5079.7197</td><td>0.451</td><td>0.2599</td><td>0.5857</td><td>0.225</td><td>0.1285</td><td>0.304</td><td>200111</td><td>1.0466992</td><td>1.0269216</td><td>1.1131538</td><td>0.63259876</td><td>0.4993692</td><td>0.7658283</td><td>https://gea.esac.esa.int/data-server/datalink/links?ID=Gaia+DR2+573564982274524160</td><td>0.49273226470263354</td></tr>\n",
              "<tr><td>1635721458409799680</td><td>Gaia DR2 573559038039720832</td><td>573559038039720832</td><td>723973680</td><td>2015.5</td><td>9.007331755849991</td><td>0.1902913861891529</td><td>84.81444405152898</td><td>0.17257467751229807</td><td>0.8914641696833056</td><td>0.21604707544309826</td><td>4.12625</td><td>3.2932274054391906</td><td>0.40892704124658846</td><td>-4.528286946981423</td><td>0.3577487713656992</td><td>0.17571437</td><td>0.14518678</td><td>-0.04762778</td><td>0.020338394</td><td>0.013873932</td><td>-0.032291908</td><td>0.026532926</td><td>-0.232044</td><td>0.30229986</td><td>0.021846123</td><td>194</td><td>0</td><td>193</td><td>1</td><td>1.1456586</td><td>210.38226</td><td>0.0</td><td>1.46573774807563e-15</td><td>31</td><td>False</td><td>0.3304983</td><td>1.360306070275319</td><td>0.05538381644883167</td><td>-0.009855494</td><td>22</td><td>16</td><td>0.3628227</td><td>0</td><td>25</td><td>False</td><td>219</td><td>549.1861914363111</td><td>1.5514012071958403</td><td>353.99365</td><td>18.839067</td><td>24</td><td>165.45201857100642</td><td>8.27080675526794</td><td>20.00434</td><td>19.804708</td><td>24</td><td>559.1395098372885</td><td>8.259821000821258</td><td>67.6939</td><td>17.89312</td><td>1.3193914</td><td>0</td><td>1.9115887</td><td>0.965641</td><td>0.94594765</td><td>--</td><td>--</td><td>0</td><td>--</td><td>--</td><td>--</td><td>NOT_AVAILABLE</td><td>122.55681601435606</td><td>21.95392017004443</td><td>77.6917314438026</td><td>65.2438786358905</td><td>--</td><td>--</td><td>--</td><td>--</td><td>--</td><td>--</td><td>--</td><td>--</td><td>--</td><td>--</td><td>--</td><td>--</td><td>--</td><td>--</td><td>--</td><td>--</td><td>--</td><td>https://gea.esac.esa.int/data-server/datalink/links?ID=Gaia+DR2+573559038039720832</td><td>0.49282039832001484</td></tr>\n",
              "<tr><td>1635721458409799680</td><td>Gaia DR2 573613811759863936</td><td>573613811759863936</td><td>553336575</td><td>2015.5</td><td>6.283744030553248</td><td>0.5056838057313033</td><td>85.08002616892072</td><td>0.44719494272334825</td><td>4.813993389545033</td><td>0.5238780994208525</td><td>9.189148</td><td>-4.799970603471828</td><td>0.9982259619345536</td><td>-14.411967830658687</td><td>0.8219348273787305</td><td>0.17045923</td><td>0.19698443</td><td>-0.3690387</td><td>-0.12115712</td><td>0.17086202</td><td>-0.21862713</td><td>-0.23304017</td><td>-0.16295741</td><td>0.28001484</td><td>0.1352514</td><td>262</td><td>0</td><td>262</td><td>0</td><td>275.94174</td><td>194519.1</td><td>4.928959499632619</td><td>7142.856193817607</td><td>31</td><td>False</td><td>0.040081512</td><td>1.3616241090064376</td><td>0.11945138988808879</td><td>0.03740734</td><td>30</td><td>18</td><td>0.9285653</td><td>0</td><td>34</td><td>False</td><td>185</td><td>51963.74604830577</td><td>86.55898321884169</td><td>600.3276</td><td>13.899115</td><td>34</td><td>23658.06425129428</td><td>183.66580186246213</td><td>128.8104</td><td>14.41644</td><td>32</td><td>71403.46379516841</td><td>411.1922239540831</td><td>173.64984</td><td>12.627622</td><td>1.8293817</td><td>0</td><td>1.7888184</td><td>0.5173254</td><td>1.271493</td><td>--</td><td>--</td><td>0</td><td>--</td><td>--</td><td>--</td><td>NOT_AVAILABLE</td><td>122.32395780391866</td><td>22.239355616209693</td><td>78.11109119085253</td><td>65.55620799256903</td><td>102001</td><td>4460.0</td><td>3974.673</td><td>4910.6235</td><td>--</td><td>--</td><td>--</td><td>--</td><td>--</td><td>--</td><td>200111</td><td>0.5693444</td><td>0.46964693</td><td>0.7168725</td><td>0.115553804</td><td>0.090374455</td><td>0.14073315</td><td>https://gea.esac.esa.int/data-server/datalink/links?ID=Gaia+DR2+573613811759863936</td><td>0.4929004212146588</td></tr>\n",
              "<tr><td>1635721458409799680</td><td>Gaia DR2 573742793919410304</td><td>573742793919410304</td><td>1080895171</td><td>2015.5</td><td>16.03700723763828</td><td>0.18287399638011476</td><td>84.91080111853097</td><td>0.12402221208524873</td><td>-0.003941447914853585</td><td>0.16036984881158312</td><td>-0.024577238</td><td>-0.8011584491702973</td><td>0.36418524629251586</td><td>-2.698380466472464</td><td>0.24147667888216404</td><td>-0.055204727</td><td>0.05433097</td><td>-0.20102523</td><td>0.082956575</td><td>-0.030173551</td><td>0.08155648</td><td>-0.20051436</td><td>-0.22218384</td><td>0.12934706</td><td>0.007845329</td><td>218</td><td>0</td><td>218</td><td>0</td><td>-0.5162245</td><td>201.87798</td><td>0.0</td><td>0.0</td><td>31</td><td>False</td><td>0.45429575</td><td>1.5798437862066042</td><td>0.04031336391481021</td><td>-0.01020149</td><td>25</td><td>18</td><td>0.32706347</td><td>0</td><td>29</td><td>False</td><td>249</td><td>732.5404650652087</td><td>1.5669149192560172</td><td>467.50494</td><td>18.526287</td><td>28</td><td>351.392331512763</td><td>10.429868710509282</td><td>33.690964</td><td>18.986908</td><td>28</td><td>518.7056304422165</td><td>11.639032440167467</td><td>44.566044</td><td>17.974617</td><td>1.1877815</td><td>0</td><td>1.012291</td><td>0.46062088</td><td>0.5516701</td><td>--</td><td>--</td><td>0</td><td>--</td><td>--</td><td>--</td><td>NOT_AVAILABLE</td><td>123.23586928416063</td><td>22.046553856033064</td><td>78.49075050344742</td><td>64.70466567070477</td><td>--</td><td>--</td><td>--</td><td>--</td><td>--</td><td>--</td><td>--</td><td>--</td><td>--</td><td>--</td><td>--</td><td>--</td><td>--</td><td>--</td><td>--</td><td>--</td><td>--</td><td>https://gea.esac.esa.int/data-server/datalink/links?ID=Gaia+DR2+573742793919410304</td><td>0.49307171591580423</td></tr>\n",
              "</table></div>"
            ]
          },
          "metadata": {},
          "execution_count": 30
        }
      ]
    },
    {
      "cell_type": "code",
      "source": [
        "ngc188_table = QTable.read('gaia_results.fits')"
      ],
      "metadata": {
        "colab": {
          "base_uri": "https://localhost:8080/"
        },
        "id": "tD0NXH-t38E7",
        "outputId": "f892526a-c0ce-41f7-dbdc-e7ae39deaad0"
      },
      "execution_count": 31,
      "outputs": [
        {
          "output_type": "stream",
          "name": "stderr",
          "text": [
            "WARNING: dropping mask in Quantity column 'parallax': masked Quantity not supported [astropy.table.table]\n",
            "WARNING: dropping mask in Quantity column 'parallax_error': masked Quantity not supported [astropy.table.table]\n",
            "WARNING: dropping mask in Quantity column 'pmra': masked Quantity not supported [astropy.table.table]\n",
            "WARNING: dropping mask in Quantity column 'pmdec': masked Quantity not supported [astropy.table.table]\n",
            "WARNING: dropping mask in Quantity column 'radial_velocity': masked Quantity not supported [astropy.table.table]\n",
            "WARNING: dropping mask in Quantity column 'phot_bp_mean_mag': masked Quantity not supported [astropy.table.table]\n",
            "WARNING: dropping mask in Quantity column 'phot_rp_mean_mag': masked Quantity not supported [astropy.table.table]\n"
          ]
        }
      ]
    },
    {
      "cell_type": "code",
      "source": [
        "ngc188_table"
      ],
      "metadata": {
        "colab": {
          "base_uri": "https://localhost:8080/",
          "height": 548
        },
        "id": "snD4hH7z715g",
        "outputId": "6d727474-37f8-4739-9f48-7e6cb23c8084"
      },
      "execution_count": 32,
      "outputs": [
        {
          "output_type": "execute_result",
          "data": {
            "text/plain": [
              "<QTable length=4954>\n",
              "    source_id              ra         ...  phot_bp_mean_mag   phot_rp_mean_mag \n",
              "                          deg         ...        mag                mag        \n",
              "      int64             float64       ...      float32            float32      \n",
              "------------------ ------------------ ... ------------------ ------------------\n",
              "573941431864200576 11.830261815824414 ...   17.0443115234375 16.031217575073242\n",
              "573941431864201600 11.775835255508628 ... 16.158985137939453  15.20403003692627\n",
              "573941431864197120 11.781434275329108 ... 17.746112823486328  16.51482391357422\n",
              "573941431864196096 11.796092281131761 ...  15.72161865234375 14.859831809997559\n",
              "573941328784984320 11.724758702696125 ...  14.48997688293457 13.822223663330078\n",
              "573941324487641600 11.719951501560104 ... 15.114192008972168 14.207357406616211\n",
              "573941427566934400 11.767783483373126 ... 17.418291091918945 16.138044357299805\n",
              "573941328784984832 11.714628651927297 ... 15.909825325012207 14.960417747497559\n",
              "573941431864200320 11.886495836660984 ... 17.015329360961914 15.937713623046875\n",
              "               ...                ... ...                ...                ...\n",
              "573990768152275200 10.320971478418686 ... 19.033903121948242 17.196218490600586\n",
              "573736922700927872  15.69825294665881 ...   16.9007511138916 15.957148551940918\n",
              "573613807461713280  6.313939791676859 ... 19.208967208862305  17.80881690979004\n",
              "573620129653640064  6.028502571508926 ...  19.81641387939453  17.76735496520996\n",
              "573362161035070080 12.657782188623468 ... 16.739328384399414 15.738913536071777\n",
              "573613811756806912  6.285278104672347 ...                nan                nan\n",
              "573564982274524160  7.468806071173541 ...  16.98299217224121 15.896622657775879\n",
              "573559038039720832  9.007331755849991 ...  19.80470848083496  17.89311981201172\n",
              "573613811759863936  6.283744030553248 ...   14.4164400100708   12.6276216506958\n",
              "573742793919410304  16.03700723763828 ... 18.986907958984375  17.97461700439453"
            ],
            "text/html": [
              "<div><i>QTable length=4954</i>\n",
              "<table id=\"table139844693878480\" class=\"table-striped table-bordered table-condensed\">\n",
              "<thead><tr><th>source_id</th><th>ra</th><th>dec</th><th>parallax</th><th>parallax_error</th><th>pmra</th><th>pmdec</th><th>radial_velocity</th><th>phot_g_mean_mag</th><th>phot_bp_mean_mag</th><th>phot_rp_mean_mag</th></tr></thead>\n",
              "<thead><tr><th></th><th>deg</th><th>deg</th><th>mas</th><th>mas</th><th>mas / yr</th><th>mas / yr</th><th>km / s</th><th>mag</th><th>mag</th><th>mag</th></tr></thead>\n",
              "<thead><tr><th>int64</th><th>float64</th><th>float64</th><th>float64</th><th>float64</th><th>float64</th><th>float64</th><th>float64</th><th>float32</th><th>float32</th><th>float32</th></tr></thead>\n",
              "<tr><td>573941431864200576</td><td>11.830261815824414</td><td>85.24362670022514</td><td>0.5157883765292425</td><td>0.05479372380616342</td><td>-2.467045722266196</td><td>-1.050994537936408</td><td>nan</td><td>16.611881256103516</td><td>17.0443115234375</td><td>16.031217575073242</td></tr>\n",
              "<tr><td>573941431864201600</td><td>11.775835255508628</td><td>85.24193176004697</td><td>0.5772543652723914</td><td>0.03540945862424966</td><td>-2.516351668894645</td><td>-0.8355545501783187</td><td>nan</td><td>15.76044750213623</td><td>16.158985137939453</td><td>15.20403003692627</td></tr>\n",
              "<tr><td>573941431864197120</td><td>11.781434275329108</td><td>85.24714789288664</td><td>0.5984132325327813</td><td>0.08208147042492284</td><td>-2.690351051420921</td><td>-0.7210521514030971</td><td>nan</td><td>17.208106994628906</td><td>17.746112823486328</td><td>16.51482391357422</td></tr>\n",
              "<tr><td>573941431864196096</td><td>11.796092281131761</td><td>85.24947781526936</td><td>0.5531336087156113</td><td>0.030428982635073338</td><td>-2.398870491478188</td><td>-0.7953811054060391</td><td>nan</td><td>15.372490882873535</td><td>15.72161865234375</td><td>14.859831809997559</td></tr>\n",
              "<tr><td>573941328784984320</td><td>11.724758702696125</td><td>85.24364992210644</td><td>0.5082635115306529</td><td>0.025382825094664167</td><td>-2.0711502731011304</td><td>-1.1803518806591535</td><td>nan</td><td>14.243685722351074</td><td>14.48997688293457</td><td>13.822223663330078</td></tr>\n",
              "<tr><td>573941324487641600</td><td>11.719951501560104</td><td>85.24436556846314</td><td>0.49615782194329944</td><td>0.024641889550915272</td><td>-2.7290188233882215</td><td>-0.6363330445687266</td><td>nan</td><td>14.756906509399414</td><td>15.114192008972168</td><td>14.207357406616211</td></tr>\n",
              "<tr><td>573941427566934400</td><td>11.767783483373126</td><td>85.25045643192475</td><td>0.5854568254354121</td><td>0.0675799543338964</td><td>-2.5044780776391873</td><td>-0.6386327518922068</td><td>nan</td><td>16.85712242126465</td><td>17.418291091918945</td><td>16.138044357299805</td></tr>\n",
              "<tr><td>573941328784984832</td><td>11.714628651927297</td><td>85.24276162173139</td><td>0.7116524311248976</td><td>0.03750185270586405</td><td>-0.26566221404999757</td><td>4.024849662318981</td><td>nan</td><td>15.525108337402344</td><td>15.909825325012207</td><td>14.960417747497559</td></tr>\n",
              "<tr><td>573941431864200320</td><td>11.886495836660984</td><td>85.24484397580716</td><td>0.3996072855786896</td><td>0.05386710995044703</td><td>-2.0671743022430373</td><td>-0.9986757605558475</td><td>nan</td><td>16.548179626464844</td><td>17.015329360961914</td><td>15.937713623046875</td></tr>\n",
              "<tr><td>...</td><td>...</td><td>...</td><td>...</td><td>...</td><td>...</td><td>...</td><td>...</td><td>...</td><td>...</td><td>...</td></tr>\n",
              "<tr><td>573990768152275200</td><td>10.320971478418686</td><td>85.72216301170288</td><td>0.7541905834520071</td><td>0.13727025119946112</td><td>3.101023129520538</td><td>-0.8813006058824834</td><td>nan</td><td>18.136972427368164</td><td>19.033903121948242</td><td>17.196218490600586</td></tr>\n",
              "<tr><td>573736922700927872</td><td>15.69825294665881</td><td>84.88356079155744</td><td>0.3229844343418732</td><td>0.04562797687771141</td><td>-0.41622610147721173</td><td>0.8842855086774297</td><td>nan</td><td>16.509578704833984</td><td>16.9007511138916</td><td>15.957148551940918</td></tr>\n",
              "<tr><td>573613807461713280</td><td>6.313939791676859</td><td>85.07463515471987</td><td>0.5881925372744126</td><td>0.1552637340678686</td><td>-2.1462228307188087</td><td>3.598059488160355</td><td>nan</td><td>18.634929656982422</td><td>19.208967208862305</td><td>17.80881690979004</td></tr>\n",
              "<tr><td>573620129653640064</td><td>6.028502571508926</td><td>85.14704593647764</td><td>-2.9032512522042095</td><td>0.9222962330569145</td><td>7.967587417568481</td><td>-9.131999062437197</td><td>nan</td><td>18.925094604492188</td><td>19.81641387939453</td><td>17.76735496520996</td></tr>\n",
              "<tr><td>573362161035070080</td><td>12.657782188623468</td><td>84.75705218473877</td><td>0.5349632736743997</td><td>0.058233248732753776</td><td>0.046231623340173444</td><td>1.48478021968848</td><td>nan</td><td>16.346424102783203</td><td>16.739328384399414</td><td>15.738913536071777</td></tr>\n",
              "<tr><td>573613811756806912</td><td>6.285278104672347</td><td>85.08022388893674</td><td>6.297637651033577</td><td>0.06165532877970262</td><td>-15.78571715880253</td><td>-12.464626617226685</td><td>nan</td><td>14.701767921447754</td><td>nan</td><td>nan</td></tr>\n",
              "<tr><td>573564982274524160</td><td>7.468806071173541</td><td>84.91959819677118</td><td>0.5656458423607171</td><td>0.054922619816003444</td><td>4.379539326812102</td><td>-0.5918034234112484</td><td>nan</td><td>16.514507293701172</td><td>16.98299217224121</td><td>15.896622657775879</td></tr>\n",
              "<tr><td>573559038039720832</td><td>9.007331755849991</td><td>84.81444405152898</td><td>0.8914641696833056</td><td>0.21604707544309826</td><td>3.2932274054391906</td><td>-4.528286946981423</td><td>nan</td><td>18.839067459106445</td><td>19.80470848083496</td><td>17.89311981201172</td></tr>\n",
              "<tr><td>573613811759863936</td><td>6.283744030553248</td><td>85.08002616892072</td><td>4.813993389545033</td><td>0.5238780994208525</td><td>-4.799970603471828</td><td>-14.411967830658687</td><td>nan</td><td>13.899114608764648</td><td>14.4164400100708</td><td>12.6276216506958</td></tr>\n",
              "<tr><td>573742793919410304</td><td>16.03700723763828</td><td>84.91080111853097</td><td>-0.003941447914853585</td><td>0.16036984881158312</td><td>-0.8011584491702973</td><td>-2.698380466472464</td><td>nan</td><td>18.526287078857422</td><td>18.986907958984375</td><td>17.97461700439453</td></tr>\n",
              "</table></div>"
            ]
          },
          "metadata": {},
          "execution_count": 32
        }
      ]
    },
    {
      "cell_type": "code",
      "source": [
        "len(ngc188_table)"
      ],
      "metadata": {
        "colab": {
          "base_uri": "https://localhost:8080/"
        },
        "id": "2ENOPG0G5Duy",
        "outputId": "d99b2367-7f31-48de-cdfe-8fdeec4dbde8"
      },
      "execution_count": 33,
      "outputs": [
        {
          "output_type": "execute_result",
          "data": {
            "text/plain": [
              "4954"
            ]
          },
          "metadata": {},
          "execution_count": 33
        }
      ]
    },
    {
      "cell_type": "markdown",
      "source": [
        "The returned astropy.table Table object now contains about 5000 stars from Gaia DR2 around the coordinate position of the center of NGC 188. Let's now construct a SkyCoord object with the results table. In the Gaia data archive, the ICRS coordinates of a source are given as column names \"ra\" and \"dec\":"
      ],
      "metadata": {
        "id": "Dt75M1it5NOJ"
      }
    },
    {
      "cell_type": "code",
      "source": [
        "ngc188_table['ra']"
      ],
      "metadata": {
        "colab": {
          "base_uri": "https://localhost:8080/",
          "height": 37
        },
        "id": "SNzNw0xL5U0m",
        "outputId": "9848c3bf-7ec2-4a47-f9d3-9307fcaa1d40"
      },
      "execution_count": 34,
      "outputs": [
        {
          "output_type": "execute_result",
          "data": {
            "text/plain": [
              "<Quantity [11.83026182, 11.77583526, 11.78143428, ...,  9.00733176,\n",
              "            6.28374403, 16.03700724] deg>"
            ],
            "text/latex": "$[11.830262,~11.775835,~11.781434,~\\dots,~9.0073318,~6.283744,~16.037007] \\; \\mathrm{{}^{\\circ}}$"
          },
          "metadata": {},
          "execution_count": 34
        }
      ]
    },
    {
      "cell_type": "code",
      "source": [
        "ngc188_table['dec']"
      ],
      "metadata": {
        "colab": {
          "base_uri": "https://localhost:8080/",
          "height": 37
        },
        "id": "r5KrQVcg5ar-",
        "outputId": "a9a2b095-c5f1-4ade-9417-e9acdce38a9a"
      },
      "execution_count": 35,
      "outputs": [
        {
          "output_type": "execute_result",
          "data": {
            "text/plain": [
              "<Quantity [85.2436267 , 85.24193176, 85.24714789, ..., 84.81444405,\n",
              "           85.08002617, 84.91080112] deg>"
            ],
            "text/latex": "$[85.243627,~85.241932,~85.247148,~\\dots,~84.814444,~85.080026,~84.910801] \\; \\mathrm{{}^{\\circ}}$"
          },
          "metadata": {},
          "execution_count": 35
        }
      ]
    },
    {
      "cell_type": "code",
      "source": [
        "ngc188_table['phot_g_mean_mag']"
      ],
      "metadata": {
        "colab": {
          "base_uri": "https://localhost:8080/",
          "height": 37
        },
        "id": "PtzVKx9O5gMC",
        "outputId": "47ffe1ec-4f04-4806-87b8-219c0ab96577"
      },
      "execution_count": 36,
      "outputs": [
        {
          "output_type": "execute_result",
          "data": {
            "text/plain": [
              "<Quantity [16.611881 , 15.7604475, 17.208107 , ..., 18.839067 , 13.899115 ,\n",
              "           18.526287 ] mag>"
            ],
            "text/latex": "$[16.611881,~15.760448,~17.208107,~\\dots,~18.839067,~13.899115,~18.526287] \\; \\mathrm{mag}$"
          },
          "metadata": {},
          "execution_count": 36
        }
      ]
    },
    {
      "cell_type": "markdown",
      "source": [
        "Note that, because the Gaia archive provides data tables with associated units, and we read this table using the QTable object (docs), the above table columns are represented as Quantity objects with units of degrees. Note also that these columns contain many (>5000!) coordinate values. We can pass these directly in to SkyCoord to get a single SkyCoord object to represent all of these coordinates:"
      ],
      "metadata": {
        "id": "h1LYqFBp5kMC"
      }
    },
    {
      "cell_type": "code",
      "source": [
        "ngc188_gaia_coords = SkyCoord(ngc188_table['ra'], ngc188_table['dec'])"
      ],
      "metadata": {
        "id": "7EjOvuO257X_"
      },
      "execution_count": 37,
      "outputs": []
    },
    {
      "cell_type": "code",
      "source": [
        "ngc188_gaia_coords"
      ],
      "metadata": {
        "colab": {
          "base_uri": "https://localhost:8080/"
        },
        "id": "skIsR53H6Jh3",
        "outputId": "38199067-073e-4a3e-a4fd-c7a43c9987d3"
      },
      "execution_count": 38,
      "outputs": [
        {
          "output_type": "execute_result",
          "data": {
            "text/plain": [
              "<SkyCoord (ICRS): (ra, dec) in deg\n",
              "    [(11.83026182, 85.2436267 ), (11.77583526, 85.24193176),\n",
              "     (11.78143428, 85.24714789), ..., ( 9.00733176, 84.81444405),\n",
              "     ( 6.28374403, 85.08002617), (16.03700724, 84.91080112)]>"
            ]
          },
          "metadata": {},
          "execution_count": 38
        }
      ]
    },
    {
      "cell_type": "code",
      "source": [
        "ngc188_gaia_coords.ra.to(u.radian),"
      ],
      "metadata": {
        "colab": {
          "base_uri": "https://localhost:8080/"
        },
        "id": "XAX3OHYm6Na4",
        "outputId": "cc543c54-9404-459a-852a-c3740b99603f"
      },
      "execution_count": 39,
      "outputs": [
        {
          "output_type": "execute_result",
          "data": {
            "text/plain": [
              "(<Longitude [0.20647702, 0.2055271 , 0.20562482, ..., 0.1572076 ,\n",
              "             0.10967202, 0.27989858] rad>,)"
            ]
          },
          "metadata": {},
          "execution_count": 39
        }
      ]
    },
    {
      "cell_type": "code",
      "source": [
        ""
      ],
      "metadata": {
        "id": "yzmktOUC6fMM"
      },
      "execution_count": 39,
      "outputs": []
    }
  ]
}