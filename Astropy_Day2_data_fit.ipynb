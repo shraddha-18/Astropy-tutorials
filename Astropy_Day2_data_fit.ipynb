{
  "nbformat": 4,
  "nbformat_minor": 0,
  "metadata": {
    "colab": {
      "name": "Astropy Day2 data fit.ipynb",
      "provenance": [],
      "authorship_tag": "ABX9TyNVy7DLYiVLKTSw59EfWPZB",
      "include_colab_link": true
    },
    "kernelspec": {
      "name": "python3",
      "display_name": "Python 3"
    },
    "language_info": {
      "name": "python"
    }
  },
  "cells": [
    {
      "cell_type": "markdown",
      "metadata": {
        "id": "view-in-github",
        "colab_type": "text"
      },
      "source": [
        "<a href=\"https://colab.research.google.com/github/shraddha-18/Astropy-tutorials/blob/main/Astropy_Day2_data_fit.ipynb\" target=\"_parent\"><img src=\"https://colab.research.google.com/assets/colab-badge.svg\" alt=\"Open In Colab\"/></a>"
      ]
    },
    {
      "cell_type": "code",
      "execution_count": null,
      "metadata": {
        "colab": {
          "base_uri": "https://localhost:8080/"
        },
        "id": "7yl8FCUB4b3i",
        "outputId": "9771ae29-732b-4a3c-b226-d641a4bdb65c"
      },
      "outputs": [
        {
          "output_type": "stream",
          "name": "stdout",
          "text": [
            "Looking in indexes: https://pypi.org/simple, https://us-python.pkg.dev/colab-wheels/public/simple/\n",
            "Requirement already satisfied: astropy in /usr/local/lib/python3.7/dist-packages (4.3.1)\n",
            "Requirement already satisfied: numpy>=1.17 in /usr/local/lib/python3.7/dist-packages (from astropy) (1.21.6)\n",
            "Requirement already satisfied: pyerfa>=1.7.3 in /usr/local/lib/python3.7/dist-packages (from astropy) (2.0.0.1)\n",
            "Requirement already satisfied: importlib-metadata in /usr/local/lib/python3.7/dist-packages (from astropy) (4.11.3)\n",
            "Requirement already satisfied: zipp>=0.5 in /usr/local/lib/python3.7/dist-packages (from importlib-metadata->astropy) (3.8.0)\n",
            "Requirement already satisfied: typing-extensions>=3.6.4 in /usr/local/lib/python3.7/dist-packages (from importlib-metadata->astropy) (4.2.0)\n"
          ]
        }
      ],
      "source": [
        "pip install astropy"
      ]
    },
    {
      "cell_type": "code",
      "source": [
        "pip install astroquery"
      ],
      "metadata": {
        "colab": {
          "base_uri": "https://localhost:8080/"
        },
        "id": "LWuSyaHJ4kt9",
        "outputId": "f0cecdb5-9c7f-4824-887b-0d943a99b994"
      },
      "execution_count": null,
      "outputs": [
        {
          "output_type": "stream",
          "name": "stdout",
          "text": [
            "Looking in indexes: https://pypi.org/simple, https://us-python.pkg.dev/colab-wheels/public/simple/\n",
            "Collecting astroquery\n",
            "  Downloading astroquery-0.4.6-py3-none-any.whl (4.5 MB)\n",
            "\u001b[K     |████████████████████████████████| 4.5 MB 26.8 MB/s \n",
            "\u001b[?25hRequirement already satisfied: astropy>=4.0 in /usr/local/lib/python3.7/dist-packages (from astroquery) (4.3.1)\n",
            "Requirement already satisfied: html5lib>=0.999 in /usr/local/lib/python3.7/dist-packages (from astroquery) (1.0.1)\n",
            "Collecting pyvo>=1.1\n",
            "  Downloading pyvo-1.2.1-py3-none-any.whl (832 kB)\n",
            "\u001b[K     |████████████████████████████████| 832 kB 35.2 MB/s \n",
            "\u001b[?25hCollecting keyring>=4.0\n",
            "  Downloading keyring-23.5.1-py3-none-any.whl (33 kB)\n",
            "Requirement already satisfied: requests>=2.4.3 in /usr/local/lib/python3.7/dist-packages (from astroquery) (2.23.0)\n",
            "Requirement already satisfied: numpy>=1.16 in /usr/local/lib/python3.7/dist-packages (from astroquery) (1.21.6)\n",
            "Requirement already satisfied: beautifulsoup4>=4.3.2 in /usr/local/lib/python3.7/dist-packages (from astroquery) (4.6.3)\n",
            "Requirement already satisfied: pyerfa>=1.7.3 in /usr/local/lib/python3.7/dist-packages (from astropy>=4.0->astroquery) (2.0.0.1)\n",
            "Requirement already satisfied: importlib-metadata in /usr/local/lib/python3.7/dist-packages (from astropy>=4.0->astroquery) (4.11.3)\n",
            "Requirement already satisfied: webencodings in /usr/local/lib/python3.7/dist-packages (from html5lib>=0.999->astroquery) (0.5.1)\n",
            "Requirement already satisfied: six>=1.9 in /usr/local/lib/python3.7/dist-packages (from html5lib>=0.999->astroquery) (1.15.0)\n",
            "Collecting jeepney>=0.4.2\n",
            "  Downloading jeepney-0.8.0-py3-none-any.whl (48 kB)\n",
            "\u001b[K     |████████████████████████████████| 48 kB 5.7 MB/s \n",
            "\u001b[?25hCollecting SecretStorage>=3.2\n",
            "  Downloading SecretStorage-3.3.2-py3-none-any.whl (15 kB)\n",
            "Requirement already satisfied: typing-extensions>=3.6.4 in /usr/local/lib/python3.7/dist-packages (from importlib-metadata->astropy>=4.0->astroquery) (4.2.0)\n",
            "Requirement already satisfied: zipp>=0.5 in /usr/local/lib/python3.7/dist-packages (from importlib-metadata->astropy>=4.0->astroquery) (3.8.0)\n",
            "Requirement already satisfied: urllib3!=1.25.0,!=1.25.1,<1.26,>=1.21.1 in /usr/local/lib/python3.7/dist-packages (from requests>=2.4.3->astroquery) (1.24.3)\n",
            "Requirement already satisfied: idna<3,>=2.5 in /usr/local/lib/python3.7/dist-packages (from requests>=2.4.3->astroquery) (2.10)\n",
            "Requirement already satisfied: chardet<4,>=3.0.2 in /usr/local/lib/python3.7/dist-packages (from requests>=2.4.3->astroquery) (3.0.4)\n",
            "Requirement already satisfied: certifi>=2017.4.17 in /usr/local/lib/python3.7/dist-packages (from requests>=2.4.3->astroquery) (2022.5.18.1)\n",
            "Collecting cryptography>=2.0\n",
            "  Downloading cryptography-37.0.2-cp36-abi3-manylinux_2_24_x86_64.whl (4.0 MB)\n",
            "\u001b[K     |████████████████████████████████| 4.0 MB 44.2 MB/s \n",
            "\u001b[?25hRequirement already satisfied: cffi>=1.12 in /usr/local/lib/python3.7/dist-packages (from cryptography>=2.0->SecretStorage>=3.2->keyring>=4.0->astroquery) (1.15.0)\n",
            "Requirement already satisfied: pycparser in /usr/local/lib/python3.7/dist-packages (from cffi>=1.12->cryptography>=2.0->SecretStorage>=3.2->keyring>=4.0->astroquery) (2.21)\n",
            "Installing collected packages: jeepney, cryptography, SecretStorage, pyvo, keyring, astroquery\n",
            "Successfully installed SecretStorage-3.3.2 astroquery-0.4.6 cryptography-37.0.2 jeepney-0.8.0 keyring-23.5.1 pyvo-1.2.1\n"
          ]
        }
      ]
    },
    {
      "cell_type": "code",
      "source": [
        "import astropy \n",
        "import numpy as np\n",
        "import matplotlib.pyplot as plt\n",
        "import scipy\n",
        "from astropy.modeling import models, fitting\n",
        "from astroquery.vizier import Vizier\n",
        "import scipy.optimize"
      ],
      "metadata": {
        "id": "fhfJHU2N4yJ7"
      },
      "execution_count": null,
      "outputs": []
    },
    {
      "cell_type": "markdown",
      "source": [
        "1) Fit a Linear model: Three steps to fit data using astropy.modeling\n",
        "We are going to start with a linear fit to real data. The data comes from the paper Bhardwaj et al. 2017. This is a catalog of Type II Cepheids, which is a type of variable stars that pulsate with a period between 1 and 50 days. In this part of the tutorial, we are going to measure the Cepheids Period-Luminosity relation using astropy.modeling. This relation states that if a star has a longer period, the luminosity we measure is higher.\n",
        "\n",
        "To get it, we are going to import it from Vizier using astroquery"
      ],
      "metadata": {
        "id": "i8WaxzuT5oSn"
      }
    },
    {
      "cell_type": "code",
      "source": [
        "catalog = Vizier.get_catalogs('J/A+A/605/A100')"
      ],
      "metadata": {
        "id": "yfF5bw3u-K3R"
      },
      "execution_count": null,
      "outputs": []
    },
    {
      "cell_type": "code",
      "source": [
        "type(catalog)"
      ],
      "metadata": {
        "colab": {
          "base_uri": "https://localhost:8080/"
        },
        "id": "Ud8i9k_U-bHx",
        "outputId": "0a549547-737a-48af-90d7-44aac550af17"
      },
      "execution_count": null,
      "outputs": [
        {
          "output_type": "execute_result",
          "data": {
            "text/plain": [
              "astroquery.utils.commons.TableList"
            ]
          },
          "metadata": {},
          "execution_count": 5
        }
      ]
    },
    {
      "cell_type": "code",
      "source": [
        "print(catalog)"
      ],
      "metadata": {
        "colab": {
          "base_uri": "https://localhost:8080/"
        },
        "id": "BVo5nrYD-eR7",
        "outputId": "3c9af44e-daa8-4ca9-e677-06a7498b58c7"
      },
      "execution_count": null,
      "outputs": [
        {
          "output_type": "stream",
          "name": "stdout",
          "text": [
            "TableList with 1 tables:\n",
            "\t'0:J/A+A/605/A100/table1' with 16 column(s) and 50 row(s) \n"
          ]
        }
      ]
    },
    {
      "cell_type": "markdown",
      "source": [
        "This catalog has a lot of information, but for this tutorial we are going to work only with periods and magnitudes. Let's grab them using the keywords 'Period' and __Ksmag__. Note that 'e__Ksmag_' refers to the error bars in the magnitude measurements."
      ],
      "metadata": {
        "id": "3DBRwKhOEXud"
      }
    },
    {
      "cell_type": "code",
      "source": [
        "period = np.array(catalog[0]['Period'])"
      ],
      "metadata": {
        "id": "4sEkn00g-hQa"
      },
      "execution_count": null,
      "outputs": []
    },
    {
      "cell_type": "code",
      "source": [
        "print(period)"
      ],
      "metadata": {
        "colab": {
          "base_uri": "https://localhost:8080/"
        },
        "id": "kCB_Niov-w4L",
        "outputId": "7b58464c-a523-4865-f001-df35094ed20c"
      },
      "execution_count": null,
      "outputs": [
        {
          "output_type": "stream",
          "name": "stdout",
          "text": [
            "[ 2.268  1.484  2.008  1.183  1.896  1.517  1.239  1.279  1.098  1.62\n",
            "  1.66  14.891 40.228 10.142 11.383  1.498  1.171 16.305  7.034 22.453\n",
            "  1.931 15.198  2.755  1.663  1.089 19.31  14.8    4.796  1.523  1.398\n",
            "  1.209 12.341  1.284  7.075 21.081  1.051 12.637  1.332  1.119  1.035\n",
            " 10.54   1.742 31.559  2.936 15.746  1.551  2.31   1.39   1.34  16.715]\n"
          ]
        }
      ]
    },
    {
      "cell_type": "code",
      "source": [
        "\n",
        "period.shape"
      ],
      "metadata": {
        "colab": {
          "base_uri": "https://localhost:8080/"
        },
        "id": "c4xKQs21-yQE",
        "outputId": "1a4a3220-214f-4c21-9c0a-a8cc9614a603"
      },
      "execution_count": null,
      "outputs": [
        {
          "output_type": "execute_result",
          "data": {
            "text/plain": [
              "(50,)"
            ]
          },
          "metadata": {},
          "execution_count": 9
        }
      ]
    },
    {
      "cell_type": "code",
      "source": [
        "log_period = np.log10(period)\n",
        "k_mag = np.array(catalog[0]['__Ksmag_'])\n",
        "k_mag_err = np.array(catalog[0]['e__Ksmag_'])"
      ],
      "metadata": {
        "id": "lVU38DjbBNDa"
      },
      "execution_count": null,
      "outputs": []
    },
    {
      "cell_type": "code",
      "source": [
        "plt.scatter(period, k_mag)\n",
        "plt.xlabel(\"period in days\")\n",
        "plt.ylabel(\"ks\")"
      ],
      "metadata": {
        "colab": {
          "base_uri": "https://localhost:8080/",
          "height": 300
        },
        "id": "iZSQ--rTE1H2",
        "outputId": "0ae16136-e117-4b3d-9168-01237c9a7a8c"
      },
      "execution_count": null,
      "outputs": [
        {
          "output_type": "execute_result",
          "data": {
            "text/plain": [
              "Text(0, 0.5, 'ks')"
            ]
          },
          "metadata": {},
          "execution_count": 13
        },
        {
          "output_type": "display_data",
          "data": {
            "text/plain": [
              "<Figure size 432x288 with 1 Axes>"
            ],
            "image/png": "[encoded data removed]"
          },
          "metadata": {
            "needs_background": "light"
          }
        }
      ]
    },
    {
      "cell_type": "code",
      "source": [
        "plt.errorbar(log_period, k_mag, k_mag_err, fmt = 'r.')\n",
        "plt.xlabel(r'$\\log{10}$(Period [days])')\n",
        "plt.ylabel('Ks')  # Ks band\n",
        "#Photometric magnitude in infrared between 2 and 3 micron"
      ],
      "metadata": {
        "colab": {
          "base_uri": "https://localhost:8080/",
          "height": 300
        },
        "id": "IgsTjbYPE8qX",
        "outputId": "ea9b0e13-ce2b-4173-f00b-78f0ecd2794e"
      },
      "execution_count": null,
      "outputs": [
        {
          "output_type": "execute_result",
          "data": {
            "text/plain": [
              "Text(0, 0.5, 'Ks')"
            ]
          },
          "metadata": {},
          "execution_count": 14
        },
        {
          "output_type": "display_data",
          "data": {
            "text/plain": [
              "<Figure size 432x288 with 1 Axes>"
            ],
            "image/png": "[encoded data removed]"
          },
          "metadata": {
            "needs_background": "light"
          }
        }
      ]
    },
    {
      "cell_type": "markdown",
      "source": [
        "One could say that there is a linear relationship between log period and magnitudes. To probe it, we want to make a fit to the data. This is where astropy.modeling is useful. We are going to understand how in three simple lines we can make any fit we want. We are going to start with the linear fit, but first, let's understand what a model and a fitter are."
      ],
      "metadata": {
        "id": "jr2VBfP9FM6X"
      }
    },
    {
      "cell_type": "markdown",
      "source": [
        "Models in Astropy are known parametrized functions. With this format they are easy to define and to use, given that we do not need to write the function expression every time we want to use a model, just the name. They can be linear or non-linear in the variables."
      ],
      "metadata": {
        "id": "KsfAjnRwOJ3m"
      }
    },
    {
      "cell_type": "markdown",
      "source": [
        "First we need to choose which model we are going to use to fit to our data. As we said before, our data looks like a linear relation, so we are going to use a linear model."
      ],
      "metadata": {
        "id": "Gs8xMJs8ORT4"
      }
    },
    {
      "cell_type": "code",
      "source": [
        "model = models.Linear1D()\n"
      ],
      "metadata": {
        "id": "J6BfRMuONsQB"
      },
      "execution_count": null,
      "outputs": []
    },
    {
      "cell_type": "markdown",
      "source": [
        "Fitters in Astropy are the classes resposable for making the fit. They can be linear or non-linear in the parameters (no the variable, like models)."
      ],
      "metadata": {
        "id": "U8QfsfwEOXgX"
      }
    },
    {
      "cell_type": "code",
      "source": [
        "fitter = fitting.LinearLSQFitter()"
      ],
      "metadata": {
        "id": "U9MfMDf0N-9C"
      },
      "execution_count": null,
      "outputs": []
    },
    {
      "cell_type": "markdown",
      "source": [
        "Second we are going to choose the fitter we want to use. This choice is basically which method we want to use to fit the model to the data. In this case we are going to use the Linear Least Square Fitting. "
      ],
      "metadata": {
        "id": "WItI2aGEOGyS"
      }
    },
    {
      "cell_type": "code",
      "source": [
        "best_fit = fitter(model, log_period, k_mag, weights = 1.0/k_mag_err*2)"
      ],
      "metadata": {
        "id": "X2H8fXwJOlJO"
      },
      "execution_count": null,
      "outputs": []
    },
    {
      "cell_type": "code",
      "source": [
        "print(best_fit)"
      ],
      "metadata": {
        "colab": {
          "base_uri": "https://localhost:8080/"
        },
        "id": "BRzfcyNYPDB8",
        "outputId": "f6137bc1-5848-4dbd-e049-02d62957d408"
      },
      "execution_count": null,
      "outputs": [
        {
          "output_type": "stream",
          "name": "stdout",
          "text": [
            "Model: Linear1D\n",
            "Inputs: ('x',)\n",
            "Outputs: ('y',)\n",
            "Model set size: 1\n",
            "Parameters:\n",
            "           slope            intercept     \n",
            "    ------------------- ------------------\n",
            "    -1.8388029755798254 13.517530405305104\n"
          ]
        }
      ]
    },
    {
      "cell_type": "code",
      "source": [
        "plt.errorbar(log_period, k_mag, k_mag_err, fmt = \"k.\")\n",
        "plt.plot(log_period, best_fit(log_period), color =\"g\")\n",
        "plt.xlabel(r'$\\log_{10}$(Period[days])')\n",
        "plt.ylabel('Ks')"
      ],
      "metadata": {
        "colab": {
          "base_uri": "https://localhost:8080/",
          "height": 300
        },
        "id": "tIzZ-iQVPGlC",
        "outputId": "9eb16211-32c8-4515-e424-c1a0ec73c175"
      },
      "execution_count": null,
      "outputs": [
        {
          "output_type": "execute_result",
          "data": {
            "text/plain": [
              "Text(0, 0.5, 'Ks')"
            ]
          },
          "metadata": {},
          "execution_count": 20
        },
        {
          "output_type": "display_data",
          "data": {
            "text/plain": [
              "<Figure size 432x288 with 1 Axes>"
            ],
            "image/png": "[encoded data removed]"
          },
          "metadata": {
            "needs_background": "light"
          }
        }
      ]
    },
    {
      "cell_type": "code",
      "source": [
        ""
      ],
      "metadata": {
        "id": "WX_BDOytPrRB"
      },
      "execution_count": null,
      "outputs": []
    }
  ]
}